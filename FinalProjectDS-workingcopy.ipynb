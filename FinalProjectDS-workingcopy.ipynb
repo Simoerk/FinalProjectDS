{
 "cells": [
  {
   "cell_type": "code",
   "execution_count": 45,
   "id": "1ec8bc9e",
   "metadata": {},
   "outputs": [],
   "source": [
    "#1) 10 % på rigtig model (gauss) og bedte parameter til den (Signe kører gauss simpel, astrid finder bedste gauss parametre) Kør sammen i bunden til sidst på advaced gauss\n",
    "#2) Evaluation: f-score, mse, acc. for både liar og bigcorp. Både val og test. (Signe laver for hverr)\n",
    "#3) svm på lille dataset (peter)\n",
    "#3) Conclusion: visualizer alt i rapport"
   ]
  },
  {
   "attachments": {},
   "cell_type": "markdown",
   "id": "8dd40ba6",
   "metadata": {},
   "source": [
    "# Importing all packages"
   ]
  },
  {
   "cell_type": "code",
   "execution_count": 46,
   "id": "a9bb0c40",
   "metadata": {},
   "outputs": [
    {
     "name": "stderr",
     "output_type": "stream",
     "text": [
      "[nltk_data] Downloading package stopwords to\n",
      "[nltk_data]     /Users/simonmork/nltk_data...\n",
      "[nltk_data]   Package stopwords is already up-to-date!\n"
     ]
    }
   ],
   "source": [
    "%matplotlib inline\n",
    "import re\n",
    "import matplotlib.pyplot as plt\n",
    "import numpy as np\n",
    "import pandas as pd\n",
    "from cleantext import clean\n",
    "import nltk\n",
    "from nltk.corpus import stopwords\n",
    "nltk.download('stopwords')\n",
    "from nltk.stem import SnowballStemmer\n",
    "from sklearn.model_selection import train_test_split\n",
    "from sklearn.linear_model import LogisticRegression\n",
    "from sklearn.metrics import accuracy_score\n",
    "from sklearn.feature_extraction.text import CountVectorizer\n",
    "from sklearn.feature_extraction.text import TfidfVectorizer\n",
    "from matplotlib.pyplot import bar\n",
    "from matplotlib.pyplot import xticks\n",
    "from matplotlib.pyplot import show\n",
    "from sklearn.ensemble import RandomForestClassifier\n",
    "import csv\n",
    "from nltk.stem import PorterStemmer\n",
    "import warnings\n",
    "import pickle\n",
    "from sklearn.model_selection import GridSearchCV\n",
    "from imblearn.pipeline import Pipeline\n",
    "from imblearn.under_sampling import RandomUnderSampler\n",
    "from sklearn.naive_bayes import GaussianNB\n",
    "from pandas.core.common import SettingWithCopyWarning\n",
    "import scipy.sparse as sp\n",
    "warnings.simplefilter(action=\"ignore\", category=SettingWithCopyWarning)\n",
    "import numpy as np\n",
    "from scipy.sparse import csr_matrix\n",
    "import io\n",
    "from imblearn.under_sampling import RandomUnderSampler\n",
    "from sklearn.naive_bayes import GaussianNB\n",
    "from sklearn.metrics import accuracy_score\n",
    "import joblib\n",
    "\n",
    "\n",
    "size = 1000000\n",
    "get_chunk_size = 50000"
   ]
  },
  {
   "attachments": {},
   "cell_type": "markdown",
   "id": "93a17193",
   "metadata": {},
   "source": [
    "# Getting The news_cleaned csv and train, val, test"
   ]
  },
  {
   "cell_type": "code",
   "execution_count": 47,
   "id": "c877a920",
   "metadata": {},
   "outputs": [],
   "source": [
    "#Getting News_cleaned_2018_02_13\n",
    "#csv_textfilereader = pd.read_csv('/Users/simonmork/Desktop/GitHub/FinalProjectDS/news_cleaned_2018_02_13.csv', chunksize=1000000, iterator=True)\n"
   ]
  },
  {
   "cell_type": "code",
   "execution_count": 48,
   "id": "fdfbe0a3",
   "metadata": {},
   "outputs": [
    {
     "name": "stdout",
     "output_type": "stream",
     "text": [
      "Getting liar train csv...\n",
      "When did the decline of coal start? It started when natural gas took off that started to begin in (President George W.) Bushs administration.\n",
      "half-true\n"
     ]
    }
   ],
   "source": [
    "# Get Liar train datataset\n",
    "print(\"Getting liar train csv...\")\n",
    "LiarTrain = pd.read_csv('/Users/simonmork/Desktop/GitHub/FinalProjectDS/liar_dataset/train.tsv', sep='\\t')\n",
    "# Save the third column as a list\n",
    "LiarTrainArticles = LiarTrain.iloc[:, 2].values.tolist()\n",
    "LiarTrainLables = LiarTrain.iloc[:, 1].values.tolist()\n",
    "print(LiarTrainArticles[0])\n",
    "print(LiarTrainLables[0])"
   ]
  },
  {
   "cell_type": "code",
   "execution_count": 49,
   "id": "d187bbe1",
   "metadata": {},
   "outputs": [
    {
     "name": "stdout",
     "output_type": "stream",
     "text": [
      "Getting liar val csv...\n"
     ]
    }
   ],
   "source": [
    "# Get Liar Val datataset\n",
    "print(\"Getting liar val csv...\")\n",
    "LiarVal = pd.read_csv('/Users/simonmork/Desktop/GitHub/FinalProjectDS/liar_dataset/valid.tsv', sep='\\t')\n",
    "\n"
   ]
  },
  {
   "cell_type": "code",
   "execution_count": 50,
   "id": "ee194e31",
   "metadata": {},
   "outputs": [
    {
     "name": "stdout",
     "output_type": "stream",
     "text": [
      "Getting liar test csv...\n",
      "Wisconsin is on pace to double the number of layoffs this year.\n",
      "false\n"
     ]
    }
   ],
   "source": [
    "# Get Liar test datataset\n",
    "print(\"Getting liar test csv...\")\n",
    "LiarTest = pd.read_csv('/Users/simonmork/Desktop/GitHub/FinalProjectDS/liar_dataset/test.tsv', sep='\\t')\n",
    "\n",
    "\n",
    "\n",
    "\n",
    "# Save the third column as a list\n",
    "LiarTestArticles = LiarTest.iloc[:, 2].values.tolist()\n",
    "LiarTestLables = LiarTest.iloc[:, 1].values.tolist()\n",
    "print(LiarTestArticles[0])\n",
    "print(LiarTestLables[0])\n"
   ]
  },
  {
   "attachments": {},
   "cell_type": "markdown",
   "id": "7a23b49d",
   "metadata": {},
   "source": [
    "# Defining all the functions we need"
   ]
  },
  {
   "attachments": {},
   "cell_type": "markdown",
   "id": "505de534",
   "metadata": {},
   "source": [
    "#### The cleantext function specifications"
   ]
  },
  {
   "cell_type": "code",
   "execution_count": 51,
   "id": "9bb4d92b",
   "metadata": {},
   "outputs": [
    {
     "name": "stdout",
     "output_type": "stream",
     "text": [
      "Done\n"
     ]
    }
   ],
   "source": [
    "# Define settings for cleaning\n",
    "def clean_text(text):\n",
    "    \"\"\"Calls the clean function from cleantext clean on a string\"\"\"\n",
    "    t = clean(text,\n",
    "    fix_unicode=True,               # fix various unicode errors\n",
    "    to_ascii=True,                  # transliterate to closest ASCII representation\n",
    "    lower=True,                     # lowercase text\n",
    "    no_line_breaks=True,         # fully strip line breaks as opposed to only normalizing them NOT WORKING?\n",
    "    no_urls=True,                  # replace all URLs with a special token\n",
    "    no_emails=True,                # replace all email addresses with a special token\n",
    "    no_phone_numbers=False,         # replace all phone numbers with a special token\n",
    "    no_numbers=True,               # replace all numbers with a special token\n",
    "    no_digits=False,                # replace all digits with a special token\n",
    "    no_currency_symbols=False,      # replace all currency symbols with a special token\n",
    "    no_punct=True,                 # remove punctuations\n",
    "    replace_with_punct=\"\",          # instead of removing punctuations you may replace them\n",
    "    replace_with_url=\"URL\",\n",
    "    replace_with_email=\"EMAIL\",\n",
    "    replace_with_phone_number=\"PHONE\",\n",
    "    replace_with_number=\"NUM\",\n",
    "    replace_with_digit=\"0\",\n",
    "    replace_with_currency_symbol=\"CUR\",\n",
    "    lang=\"en\",                       # set to 'de' for German special handling\n",
    "    )\n",
    "    return t\n",
    "\n",
    "\n",
    "pd.set_option(\"display.max_colwidth\", 10000000)    \n",
    "print(\"Done\")    "
   ]
  },
  {
   "attachments": {},
   "cell_type": "markdown",
   "id": "cfeff71b",
   "metadata": {},
   "source": [
    "#### The clean function for a df column"
   ]
  },
  {
   "cell_type": "code",
   "execution_count": 52,
   "id": "1731ad76",
   "metadata": {},
   "outputs": [],
   "source": [
    "    # Clean dataframe function\n",
    "def clean_df(df, label, chunk_nr):\n",
    "        column_names = list(df.columns)\n",
    "\n",
    "        # unique words and num before clean\n",
    "        words = df[label].str.split().explode()\n",
    "        unique_words_before = set(words)\n",
    "        \n",
    "        # Count the number of words in the list\n",
    "        total_word_count_before = len(words)\n",
    "        #print(\"Total word count before clean: \", total_word_count_before, \"\\n\")\n",
    "\n",
    "\n",
    "        print(\"Cleaning chunk: \", chunk_nr)\n",
    "        df.loc[:, label] = df[label].apply(clean_text)\n",
    "\n",
    "        words_clean = df[label].str.split().explode()\n",
    "        unique_words_clean = set(words_clean)\n",
    "        total_word_count_clean = len(words_clean)\n",
    "\n",
    "\n",
    "        print(\"Tokenizing and removing stopwords for chunk: \", chunk_nr)\n",
    "        stop_words = set(stopwords.words('english'))\n",
    "        df.loc[:, label] = df[label].apply(nltk.word_tokenize)\n",
    "        df.loc[:, label] = df[label].apply(lambda row: [w for w in row if w not in stop_words])\n",
    "        \n",
    "        unique_words_stop = df[label].explode().unique()\n",
    "        #unique_words_stop = len(unique_words_stop)\n",
    "        total_word_count_stop = df[label].explode().count()\n",
    "\n",
    "    \n",
    "        print(\"Stemming chunk nr:\", chunk_nr)\n",
    "        porter = PorterStemmer()\n",
    "        df.loc[:, label] = df[label].apply(lambda row: [porter.stem(w) for w in row])\n",
    "\n",
    "\n",
    "        unique_words_stem = df[label].explode().unique()\n",
    "        #unique_words_stem = len(unique_words_stem)\n",
    "        total_word_count_stem = df[label].explode().count()\n",
    "\n",
    "        \n",
    "\n",
    "\n",
    "        print(\"Done with chunk: \", chunk_nr, \"\\n\")\n",
    "\n",
    "\n",
    "        return df, unique_words_before, unique_words_clean, unique_words_stop, unique_words_stem, total_word_count_before, total_word_count_clean, total_word_count_stop, total_word_count_stem\n",
    "        \n"
   ]
  },
  {
   "attachments": {},
   "cell_type": "markdown",
   "id": "8263a40f",
   "metadata": {},
   "source": [
    "#### Function to vectorize a set and unique words to get same dimensions\n",
    "##### X_vectoriser is a function that takes in a list of text data as input, concatenates the words in each string, and transforms the resulting text data into a sparse matrix representation using the CountVectorizer from scikit-learn. The resulting matrix can be used as input to machine learning algorithms."
   ]
  },
  {
   "cell_type": "code",
   "execution_count": 53,
   "id": "2281accd",
   "metadata": {},
   "outputs": [],
   "source": [
    "def X_vectoriser(vectee, unique_words):\n",
    "    vectee = [' '.join(words) for words in vectee]\n",
    "    vectorizer = CountVectorizer(vocabulary=unique_words)\n",
    "    vectee = vectorizer.fit_transform(vectee)\n",
    "    return vectee"
   ]
  },
  {
   "attachments": {},
   "cell_type": "markdown",
   "id": "e6a0eb1e",
   "metadata": {},
   "source": [
    "#### Function to make the labels binary.\n",
    "##### make_bin is a function that takes in a list of categorical data and converts it into a list of binary labels. The function iterates through the input list and assigns a binary label of 0 to each non-'fake' element and a label of 1 to each 'fake' element. The resulting binary labels are returned as a list, which can be used as target values for machine learning algorithms."
   ]
  },
  {
   "cell_type": "code",
   "execution_count": 54,
   "id": "818f3126",
   "metadata": {},
   "outputs": [],
   "source": [
    "def make_bin(to_bin):\n",
    "    to_bin = np.asarray(to_bin)\n",
    "    reliable = 0\n",
    "    fake = 0\n",
    "    bin_list = []\n",
    "    for i in range(len(to_bin)):\n",
    "        if to_bin[i] == \"nan\":\n",
    "            print(\"nan\")\n",
    "        if to_bin[i] == \"Na\":\n",
    "            print(\"Na\")\n",
    "        if to_bin[i] != 'fake' and to_bin[i] != 'satire' and to_bin[i] != 'conspiracy' and to_bin[i] != 'junksci' and to_bin[i] != 'hate' and to_bin[i] != 'clickbait' and to_bin[i] != 'unreliable' and to_bin[i] != 'rumor' and to_bin[i] != 'false' and to_bin[i] != 'pants-fire' and to_bin[i]!='nan':\n",
    "            bin_list.append(0)\n",
    "            reliable = reliable +1\n",
    "        else:\n",
    "            bin_list.append(1)\n",
    "            fake = fake+1\n",
    "        #print(to_bin[i])\n",
    "    return bin_list, fake, reliable"
   ]
  },
  {
   "cell_type": "code",
   "execution_count": 55,
   "id": "0b47c4f6",
   "metadata": {},
   "outputs": [],
   "source": [
    "def remove_duplicates_and_nan(df, label1, label2):\n",
    "\n",
    "    # Count the number of articles before \n",
    "    n_articles_before = df.shape[0]\n",
    "    \n",
    "    # Remove rows with NaN in the specified column\n",
    "    n_articles_removed_NA = n_articles_before - df.dropna(subset=[label1]).shape[0]\n",
    "    df = df.dropna(subset=[label2])\n",
    "    \n",
    "    # Drop duplicates based on the specified column\n",
    "    df.drop_duplicates(subset=[label1], keep='first', inplace=True)\n",
    "\n",
    "    # Reset the index of the DataFrame\n",
    "    df.reset_index(drop=True, inplace=True)\n",
    "    \n",
    "    # Count the number of articles after\n",
    "    n_articles_after = df.shape[0]\n",
    "    \n",
    "    # Calculate the number of articles that were removed\n",
    "    n_articles_removed_duplicates = n_articles_before - n_articles_after - n_articles_removed_NA\n",
    "\n",
    "    # Print the number of articles removed\n",
    "    print(f\"Removed {n_articles_removed_NA} articles due to NaN values.\")\n",
    "    print(f\"Removed {n_articles_removed_duplicates} articles due to duplicates.\\n\")\n",
    "    \n",
    "    \n",
    "    return df"
   ]
  },
  {
   "attachments": {},
   "cell_type": "markdown",
   "id": "64aabd4b",
   "metadata": {},
   "source": [
    "#### How to save data to csv file"
   ]
  },
  {
   "cell_type": "code",
   "execution_count": 56,
   "id": "b60709c8",
   "metadata": {},
   "outputs": [
    {
     "data": {
      "text/plain": [
       "\" # Save original data to CSV\\nfirst_chunk.to_csv('original_data.csv', index=False)\\n\\n# Clean the data\\ncleaned_df = clean_df(first_chunk)\\n\\n# Save cleaned data to CSV\\ncleaned_df.to_csv('cleaned_data.csv', index=False) \""
      ]
     },
     "execution_count": 56,
     "metadata": {},
     "output_type": "execute_result"
    }
   ],
   "source": [
    "\"\"\" # Save original data to CSV\n",
    "first_chunk.to_csv('original_data.csv', index=False)\n",
    "\n",
    "# Clean the data\n",
    "cleaned_df = clean_df(first_chunk)\n",
    "\n",
    "# Save cleaned data to CSV\n",
    "cleaned_df.to_csv('cleaned_data.csv', index=False) \"\"\""
   ]
  },
  {
   "attachments": {},
   "cell_type": "markdown",
   "id": "5285983a",
   "metadata": {},
   "source": [
    "## The big Dataset"
   ]
  },
  {
   "attachments": {},
   "cell_type": "markdown",
   "id": "5055f7d9",
   "metadata": {},
   "source": [
    "#### Cleaning the big dataset"
   ]
  },
  {
   "cell_type": "code",
   "execution_count": 57,
   "id": "3e5099cc",
   "metadata": {},
   "outputs": [],
   "source": [
    "def Do_all_cleaning():    \n",
    "    unique_words_before_big = set()\n",
    "    unique_words_clean_big = set()\n",
    "    unique_words_stop_big = set()\n",
    "    unique_words_stem_big = set()\n",
    "\n",
    "    total_word_count_before_big = 0\n",
    "    total_word_count_clean_big = 0\n",
    "    total_word_count_stop_big = 0\n",
    "    total_word_count_stem_big = 0\n",
    "\n",
    "    all_of_df = csv_textfilereader.get_chunk(size)\n",
    "\n",
    "\n",
    "    chunk_to_from = all_of_df.iloc[900000:1000000]\n",
    "    chunk_to_from.to_csv('9_10.csv', mode='w', index=False, quoting=csv.QUOTE_ALL)\n",
    "\n",
    "    #Removing duplicates and Na/nan from big dataset \n",
    "    chunk_to_from = remove_duplicates_and_nan(chunk_to_from, 'title', 'content')\n",
    "\n",
    "    chunks = [chunk_to_from.iloc[j:j+get_chunk_size] for j in range(0, size, get_chunk_size)]\n",
    "    chunk_nr = 0\n",
    "    for chunk in chunks:\n",
    "        chunk_nr += 1\n",
    "        df, unique_words_before, unique_words_clean, unique_words_stop, unique_words_stem, total_word_count_before, total_word_count_clean, total_word_count_stop, total_word_count_stem = clean_df(chunk, 'content', chunk_nr)\n",
    "\n",
    "        df.to_csv('big_df.csv', mode='a', index=False, quoting=csv.QUOTE_ALL)\n",
    "\n",
    "        unique_words_before_big.update(unique_words_before)\n",
    "        unique_words_clean_big.update(unique_words_clean)\n",
    "        unique_words_stop_big.update(unique_words_stop)\n",
    "        unique_words_stem_big.update(unique_words_stem)\n",
    "\n",
    "        total_word_count_before_big += total_word_count_before\n",
    "        total_word_count_clean_big += total_word_count_clean\n",
    "        total_word_count_stop_big += total_word_count_stop\n",
    "        total_word_count_stem_big += total_word_count_stem\n",
    "\n",
    "\n",
    "\n",
    "    with open('unique_words_before_big.pkl', 'wb') as f:\n",
    "        pickle.dump(unique_words_before_big, f)\n",
    "\n",
    "    with open('unique_words_clean_big.pkl', 'wb') as f:\n",
    "        pickle.dump(unique_words_clean_big, f)\n",
    "        \n",
    "    with open('unique_words_stop_big.pkl', 'wb') as f:\n",
    "        pickle.dump(unique_words_stop_big, f)\n",
    "\n",
    "    with open('unique_words_stem_big.pkl', 'wb') as f:\n",
    "        pickle.dump(unique_words_stem_big, f)\n",
    "\n",
    "\n",
    "    count_list = [total_word_count_before_big, total_word_count_clean_big, total_word_count_stop_big, total_word_count_stem_big]\n",
    "    with open('counts.pkl', 'wb') as f:\n",
    "        pickle.dump(count_list, f)\n",
    "\n",
    "\n",
    "#Do_all_cleaning()\n",
    "\n"
   ]
  },
  {
   "attachments": {},
   "cell_type": "markdown",
   "id": "5155003f",
   "metadata": {},
   "source": [
    "#### retrieve the dataframe stored in big_df, the lists of unique words and the total and unique word counts."
   ]
  },
  {
   "cell_type": "code",
   "execution_count": 58,
   "id": "3a181fda",
   "metadata": {},
   "outputs": [
    {
     "name": "stderr",
     "output_type": "stream",
     "text": [
      "/var/folders/r3/3zlyy5351w142fn8p5ldy2k00000gn/T/ipykernel_13232/4103338480.py:5: DtypeWarning: Columns (0,1,11,15,16) have mixed types. Specify dtype option on import or set low_memory=False.\n",
      "  big_df = big_df.get_chunk(size)\n"
     ]
    }
   ],
   "source": [
    "def convert_to_list(x):\n",
    "    return x.split(',')\n",
    "\n",
    "big_df = pd.read_csv('/Users/simonmork/Desktop/GitHub/FinalProjectDS/big_df.csv', chunksize=size, iterator=True, converters={'content': convert_to_list})\n",
    "big_df = big_df.get_chunk(size)"
   ]
  },
  {
   "cell_type": "code",
   "execution_count": 59,
   "id": "cdb870ef",
   "metadata": {},
   "outputs": [],
   "source": [
    "with open('/Users/simonmork/Desktop/GitHub/FinalProjectDS/unique_words_before_big.pkl', 'rb') as f:\n",
    "    unique_words_before_big = pickle.load(f)\n",
    "\n",
    "with open('/Users/simonmork/Desktop/GitHub/FinalProjectDS/unique_words_clean_big.pkl', 'rb') as f:\n",
    "    unique_words_clean_big = pickle.load(f)\n",
    "\n",
    "with open('/Users/simonmork/Desktop/GitHub/FinalProjectDS/unique_words_stop_big.pkl', 'rb') as f:\n",
    "    unique_words_stop_big = pickle.load(f)\n",
    "\n",
    "with open('/Users/simonmork/Desktop/GitHub/FinalProjectDS/unique_words_stem_big.pkl', 'rb') as f:\n",
    "    unique_words_stem_big = pickle.load(f)\n",
    "\n",
    "with open('/Users/simonmork/Desktop/GitHub/FinalProjectDS/counts.pkl', 'rb') as f:\n",
    "    count_list = pickle.load(f)\n",
    "\n",
    "\n",
    "total_word_count_before_big = count_list[0]\n",
    "total_word_count_clean_big = count_list[1]\n",
    "total_word_count_stop_big = count_list[2]\n",
    "total_word_count_stem_big = count_list[3]\n",
    "\n",
    "#print(total_word_count_before_big)\n",
    "#print(total_word_count_clean_big)\n",
    "#print(total_word_count_stop_big)\n",
    "#print(total_word_count_stem_big)\n",
    "#print(unique_words_before_big)\n",
    "#print(unique_words_clean_big)\n",
    "#print(unique_words_stop_big)\n",
    "#print(unique_words_stem_big)\n",
    "\n",
    "\n"
   ]
  },
  {
   "attachments": {},
   "cell_type": "markdown",
   "id": "5284f1dc",
   "metadata": {},
   "source": [
    "#### Getting some stats on the big dataset"
   ]
  },
  {
   "cell_type": "code",
   "execution_count": 60,
   "id": "8ef1080e",
   "metadata": {},
   "outputs": [],
   "source": [
    "    #Part 1 - Task 2\n",
    "def get_stats():\n",
    "        print(\"Counting number of urls, dates and num, and fake news and trump\")\n",
    "        url = 0\n",
    "        num = 0\n",
    "        trump=0\n",
    "        fakenews = 0\n",
    "        notfake = 0\n",
    "\n",
    "\n",
    "        for index, row in big_df.iterrows():\n",
    "            for word in big_df.at[index,'content']:\n",
    "                #print(word)\n",
    "                if word == 'url':\n",
    "                    url = url+1\n",
    "                if word == 'num':\n",
    "                    num = num+1\n",
    "                if word == 'trump':\n",
    "                    trump = trump+1\n",
    "            if big_df.at[index,'type'] == 'fake':\n",
    "                fakenews = fakenews+1\n",
    "            else:\n",
    "                notfake = notfake+1\n",
    "        print(\"Num urls: \", url)\n",
    "        print(\"Num num: \", num)\n",
    "        print(\"Num trump: \", trump)\n",
    "        print(\"Num fake: \", fakenews)\n",
    "        print(\"Num notfake: \", notfake)\n",
    "\n",
    "#get_stats()"
   ]
  },
  {
   "attachments": {},
   "cell_type": "markdown",
   "id": "cc0b20d7",
   "metadata": {},
   "source": [
    "Visualization of the key properties of the dataset"
   ]
  },
  {
   "cell_type": "code",
   "execution_count": 61,
   "id": "eb25bb25",
   "metadata": {},
   "outputs": [
    {
     "data": {
      "image/png": "[encoded data removed]",
      "text/plain": [
       "<Figure size 1000x500 with 1 Axes>"
      ]
     },
     "metadata": {},
     "output_type": "display_data"
    }
   ],
   "source": [
    "# Plotting the bar chart \n",
    "data = {'Before cleaning': len(unique_words_before_big), 'After cleaning': len(unique_words_clean_big), 'After stopword removal': len(unique_words_stop_big), 'After stemming': len(unique_words_stem_big)}\n",
    "dataset = list(data.keys())\n",
    "values = list(data.values())\n",
    "bar(dataset, values, color = 'maroon', width = 0.5)\n",
    "plt.xlabel('Each processing step')\n",
    "plt.ylabel('Number of unique words')\n",
    "plt.title('Number of unique words after each processing step')\n",
    "plt.rcParams[\"figure.figsize\"] = [10.0, 5.0]\n",
    "font = {'size' : 14}\n",
    "plt.rc('font', **font)\n",
    "plt.show()"
   ]
  },
  {
   "cell_type": "code",
   "execution_count": 62,
   "id": "c281553c",
   "metadata": {},
   "outputs": [
    {
     "data": {
      "image/png": "[encoded data removed]",
      "text/plain": [
       "<Figure size 1000x500 with 1 Axes>"
      ]
     },
     "metadata": {},
     "output_type": "display_data"
    }
   ],
   "source": [
    "# Plotting the bar chart \n",
    "data = {'Before cleaning': total_word_count_before_big, 'After cleaning': total_word_count_clean_big, 'After stopword removal': total_word_count_stop_big, 'After stemming': total_word_count_stem_big}\n",
    "dataset = list(data.keys())\n",
    "values = list(data.values())\n",
    "bar(dataset, values, color = 'maroon', width = 0.5)\n",
    "plt.xlabel('Each preprocessing step')\n",
    "plt.ylabel('Number of words')\n",
    "plt.title('Number of words after each processing step')\n",
    "plt.rcParams[\"figure.figsize\"] = [10.0, 5.0]\n",
    "font = {'size' : 14}\n",
    "plt.rc('font', **font)\n",
    "plt.show()"
   ]
  },
  {
   "attachments": {},
   "cell_type": "markdown",
   "id": "e22729e1",
   "metadata": {},
   "source": [
    "#### Splitting the data\n",
    "##### This code splits a DataFrame df into training, validation, and testing sets, with a 80:10:10 ratio. The X variable contains the content of the articles, while the y variable contains the type of the articles (reliable/fake)."
   ]
  },
  {
   "cell_type": "code",
   "execution_count": 63,
   "id": "b09fd9d1",
   "metadata": {},
   "outputs": [],
   "source": [
    "X, y = big_df.content, big_df['type']\n",
    "\n",
    "X_train, X_temp, y_train, y_temp = train_test_split(X, y, test_size = 0.2, random_state = 0)\n",
    "X_test, X_val, y_test, y_val = train_test_split(X_temp, y_temp, test_size = 0.5, random_state = 0)\n"
   ]
  },
  {
   "cell_type": "code",
   "execution_count": 64,
   "id": "d9bdc001",
   "metadata": {},
   "outputs": [
    {
     "name": "stdout",
     "output_type": "stream",
     "text": [
      "1129231\n"
     ]
    }
   ],
   "source": [
    "print(len(unique_words_stem_big))\n",
    "unique_words_stem_big = [word for word in unique_words_stem_big if not isinstance(word, float)]\n"
   ]
  },
  {
   "attachments": {},
   "cell_type": "markdown",
   "id": "ca9e6310",
   "metadata": {},
   "source": [
    "#### Transform text big csv data into a sparse matrix representation\n",
    "##### To make predictions later"
   ]
  },
  {
   "cell_type": "code",
   "execution_count": 65,
   "id": "533a8b3b",
   "metadata": {},
   "outputs": [],
   "source": [
    "def vectorize_and_save_xes():        \n",
    "        X_train_vec = X_vectoriser(X_train, unique_words_stem_big)\n",
    "        X_val_vec = X_vectoriser(X_val, unique_words_stem_big)\n",
    "        X_test_vec = X_vectoriser(X_test, unique_words_stem_big)\n",
    "        sp.save_npz(\"X_train_vec.npz\", X_train_vec)\n",
    "        sp.save_npz(\"X_val_vec.npz\", X_val_vec)\n",
    "        sp.save_npz(\"X_test_vec.npz\", X_test_vec)\n",
    "        return X_train_vec, X_val_vec, X_test_vec\n",
    "#X_train_vec, X_val_vec, X_test_vec = vectorize_xes()"
   ]
  },
  {
   "cell_type": "code",
   "execution_count": 66,
   "id": "1aceb0b3",
   "metadata": {},
   "outputs": [],
   "source": [
    "X_train_vec = sp.load_npz(\"X_train_vec.npz\")\n",
    "X_val_vec = sp.load_npz(\"X_val_vec.npz\")\n",
    "X_test_vec = sp.load_npz(\"X_test_vec.npz\")"
   ]
  },
  {
   "attachments": {},
   "cell_type": "markdown",
   "id": "9b00872a",
   "metadata": {},
   "source": [
    "### Handling the labels for big data"
   ]
  },
  {
   "cell_type": "code",
   "execution_count": 67,
   "id": "e2e8bbeb",
   "metadata": {},
   "outputs": [],
   "source": [
    "y_train_bin, LabelFa, LabelRe  = make_bin(y_train)\n",
    "y_val_bin, no1, no2 = make_bin(y_val)\n",
    "y_test_bin, no3, no4 = make_bin(y_test)\n",
    "\n",
    "with open('y_train_bin.pkl', 'wb') as f:\n",
    "        pickle.dump(y_train_bin, f)\n",
    "with open('y_val_bin.pkl', 'wb') as f:\n",
    "        pickle.dump(y_val_bin, f)\n",
    "with open('y_test_bin.pkl', 'wb') as f:\n",
    "        pickle.dump(y_test_bin, f)\n",
    "with open('y_variables.pkl', 'wb') as f:\n",
    "        pickle.dump([LabelFa, LabelRe, no1, no2, no3, no4], f)\n"
   ]
  },
  {
   "cell_type": "code",
   "execution_count": 68,
   "id": "d6bf2f3a",
   "metadata": {},
   "outputs": [],
   "source": [
    "with open('y_train_bin.pkl', 'rb') as f:\n",
    "    y_train_bin = list(pickle.load(f))\n",
    "with open('y_val_bin.pkl', 'rb') as f:\n",
    "    y_val_bin = list(pickle.load(f))\n",
    "with open('y_test_bin.pkl', 'rb') as f:\n",
    "    y_test_bin = list(pickle.load(f))\n",
    "with open('y_variables.pkl', 'rb') as f:\n",
    "    y_vars = list(pickle.load(f))\n",
    "LabelFa = y_vars[0]\n",
    "LabelRe = y_vars[1]\n",
    "no1 = y_vars[2]\n",
    "no2 = y_vars[3]\n",
    "no3 = y_vars[4]\n",
    "no = y_vars[5]"
   ]
  },
  {
   "cell_type": "code",
   "execution_count": 69,
   "id": "f58a1cfc",
   "metadata": {},
   "outputs": [
    {
     "data": {
      "image/png": "[encoded data removed]",
      "text/plain": [
       "<Figure size 1000x500 with 1 Axes>"
      ]
     },
     "metadata": {},
     "output_type": "display_data"
    }
   ],
   "source": [
    "# Bar chart showing number of fake labels and number of reliable\n",
    "data = {'Number of articles labeled fake': LabelFa, 'Number of articles labeled reliable': LabelRe }\n",
    "labels = list(data.keys())\n",
    "values = list(data.values())\n",
    "bar(labels, values, color = 'maroon', width= 0.5)\n",
    "plt.xlabel('No. of labels')\n",
    "plt.ylabel('Type of label')\n",
    "plt.title('Number of labels for reliable or fake')\n",
    "plt.rcParams[\"figure.figsize\"] = [10.0, 5.0]\n",
    "font = {'size' : 14}\n",
    "plt.rc('font', **font)\n",
    "plt.show()"
   ]
  },
  {
   "attachments": {},
   "cell_type": "markdown",
   "id": "5d98d0a4",
   "metadata": {},
   "source": [
    "## The Liar dataset"
   ]
  },
  {
   "attachments": {},
   "cell_type": "markdown",
   "id": "b656e481",
   "metadata": {},
   "source": [
    "#### Cleaning the Liar dataset"
   ]
  },
  {
   "cell_type": "code",
   "execution_count": 70,
   "id": "539099c9",
   "metadata": {},
   "outputs": [
    {
     "name": "stdout",
     "output_type": "stream",
     "text": [
      "Removed 0 articles due to NaN values.\n",
      "Removed 534 articles due to duplicates.\n",
      "\n",
      "Removed 0 articles due to NaN values.\n",
      "Removed 549 articles due to duplicates.\n",
      "\n",
      "Removed 2 articles due to NaN values.\n",
      "Removed 6409 articles due to duplicates.\n",
      "\n"
     ]
    }
   ],
   "source": [
    "# Removing duplicates and Na/nan from liar datasets\n",
    "\n",
    "LiarTest.columns = ['col1', 'label', 'content', 'title', 'col5', 'col6', 'col7', 'col8', 'col9', 'col10', 'col11', 'col12', 'col13', 'col14']\n",
    "LiarTest = remove_duplicates_and_nan(LiarTest, 'title', 'content')\n",
    "\n",
    "LiarVal.columns = ['col1', 'label', 'content', 'title', 'col5', 'col6', 'col7', 'col8', 'col9', 'col10', 'col11', 'col12', 'col13', 'col14']\n",
    "LiarVal = remove_duplicates_and_nan(LiarVal, 'title', 'content')\n",
    "\n",
    "LiarTrain.columns = ['col1', 'label', 'content', 'title', 'col5', 'col6', 'col7', 'col8', 'col9', 'col10', 'col11', 'col12', 'col13', 'col14']\n",
    "LiarTrain = remove_duplicates_and_nan(LiarTrain, 'title', 'content')"
   ]
  },
  {
   "cell_type": "code",
   "execution_count": 71,
   "id": "44abfdcb",
   "metadata": {},
   "outputs": [
    {
     "name": "stdout",
     "output_type": "stream",
     "text": [
      "Cleaning chunk:  1\n",
      "Tokenizing and removing stopwords for chunk:  1\n",
      "Stemming chunk nr: 1\n",
      "Done with chunk:  1 \n",
      "\n"
     ]
    }
   ],
   "source": [
    "#X_val_liar, k1, k2,k3, UWC = clean_df(LiarVal, 2)\n",
    "LiarVal.columns = ['col1', 'label', 'content', 'title', 'col5', 'col6', 'col7', 'col8', 'col9', 'col10', 'col11', 'col12', 'col13', 'col14']\n",
    "#LiarVal = LiarVal.rename(columns={2: 'content'})\n",
    "#print(\"Headers: \", LiarVal.columns.values)\n",
    "#print(LiarVal)\n",
    "Liar_df, unique_words_before_liar, unique_words_clean_liar, unique_words_stop_liar, unique_words_stem_liar, total_word_count_liar, total_word_count_liar, total_word_count_liar, total_word_count_liar = clean_df(LiarVal, 'content', 1)"
   ]
  },
  {
   "attachments": {},
   "cell_type": "markdown",
   "id": "82b286fa",
   "metadata": {},
   "source": [
    "#### Vectorizing the liar datset and saving tofile"
   ]
  },
  {
   "cell_type": "code",
   "execution_count": 72,
   "id": "1e701261",
   "metadata": {},
   "outputs": [
    {
     "name": "stderr",
     "output_type": "stream",
     "text": [
      "/opt/anaconda3/lib/python3.9/site-packages/sklearn/feature_extraction/text.py:1322: UserWarning: Upper case characters found in vocabulary while 'lowercase' is True. These entries will not be matched with any documents\n",
      "  warnings.warn(\n"
     ]
    }
   ],
   "source": [
    "X_val_liar = X_vectoriser(Liar_df.content, unique_words_stem_big)\n",
    "sp.save_npz(\"X_val_liar.npz\", X_val_liar)"
   ]
  },
  {
   "attachments": {},
   "cell_type": "markdown",
   "id": "c7c6d2d5",
   "metadata": {},
   "source": [
    "#### Loading file"
   ]
  },
  {
   "cell_type": "code",
   "execution_count": 73,
   "id": "2d39511a",
   "metadata": {},
   "outputs": [],
   "source": [
    "X_val_liar = sp.load_npz(\"X_val_liar.npz\")"
   ]
  },
  {
   "attachments": {},
   "cell_type": "markdown",
   "id": "ce737041",
   "metadata": {},
   "source": [
    "#### Making the labels for liar dataset binary and saving to file"
   ]
  },
  {
   "cell_type": "code",
   "execution_count": 74,
   "id": "7960adf0",
   "metadata": {},
   "outputs": [],
   "source": [
    "y_val_liar, no5, no6 = make_bin(Liar_df.label)\n",
    "\n",
    "with open('y_val_liar.pkl', 'wb') as f:\n",
    "        pickle.dump(y_val_liar, f)"
   ]
  },
  {
   "attachments": {},
   "cell_type": "markdown",
   "id": "4c9788ab",
   "metadata": {},
   "source": [
    "#### Getting y_val_liar file"
   ]
  },
  {
   "cell_type": "code",
   "execution_count": 75,
   "id": "6b359628",
   "metadata": {},
   "outputs": [],
   "source": [
    "with open('y_val_liar.pkl', 'rb') as f:\n",
    "    y_val_liar = list(pickle.load(f))"
   ]
  },
  {
   "attachments": {},
   "cell_type": "markdown",
   "id": "479219fe",
   "metadata": {},
   "source": [
    "#### Getting fake and reliable for liar. This lets us see if we overfit by just predicting fake."
   ]
  },
  {
   "cell_type": "code",
   "execution_count": 76,
   "id": "7941378c",
   "metadata": {},
   "outputs": [
    {
     "name": "stdout",
     "output_type": "stream",
     "text": [
      "reliable:  520\n",
      "unreliable:  214\n",
      "percent fake:  0.29155313351498635\n"
     ]
    }
   ],
   "source": [
    "fake = 0\n",
    "reliable = 0\n",
    "for elm in y_val_liar:\n",
    "    if elm == 1:\n",
    "        fake +=1\n",
    "    else:\n",
    "        reliable +=1\n",
    "print(\"reliable: \", reliable)\n",
    "print(\"unreliable: \", fake)\n",
    "print(\"percent fake: \", fake/(reliable+fake))"
   ]
  },
  {
   "cell_type": "code",
   "execution_count": 77,
   "id": "586932de",
   "metadata": {},
   "outputs": [],
   "source": [
    "#Run everything above this."
   ]
  },
  {
   "attachments": {},
   "cell_type": "markdown",
   "id": "12e24151",
   "metadata": {},
   "source": [
    "## Models:"
   ]
  },
  {
   "attachments": {},
   "cell_type": "markdown",
   "id": "eef597c9",
   "metadata": {},
   "source": [
    "### A simple logistic model:"
   ]
  },
  {
   "attachments": {},
   "cell_type": "markdown",
   "id": "c72243cc",
   "metadata": {},
   "source": [
    "#### Training on FakeNewsCorpus and predicting on the FakeNewsCorpus val dataset"
   ]
  },
  {
   "cell_type": "code",
   "execution_count": 78,
   "id": "e5d92696",
   "metadata": {},
   "outputs": [
    {
     "name": "stdout",
     "output_type": "stream",
     "text": [
      "Accuracy of simple logistic regression:  0.880473790113469\n"
     ]
    },
    {
     "data": {
      "text/plain": [
       "['simple_log_model.joblib']"
      ]
     },
     "execution_count": 78,
     "metadata": {},
     "output_type": "execute_result"
    }
   ],
   "source": [
    "simple_log_model = LogisticRegression(max_iter=100000)\n",
    "simple_log_model.fit(X_train_vec, y_train_bin)\n",
    "y_pred = simple_log_model.predict(X_val_vec)\n",
    "\n",
    "acc_simple_log = accuracy_score(y_val_bin, y_pred)\n",
    "print(\"Accuracy of simple logistic regression: \", acc_simple_log)\n",
    "\n",
    "\n",
    "# save the final trained model to a file\n",
    "filename_simple_log_model = 'simple_log_model.joblib'\n",
    "joblib.dump(simple_log_model, filename_simple_log_model)\n",
    "\n",
    "\n",
    "\n",
    "#10000 and chunks 1000: 0.915\n",
    "#100.000 and chunk 10.000: 0.917\n",
    "#1000000 and chunk 50000: 0.88\n"
   ]
  },
  {
   "cell_type": "code",
   "execution_count": 79,
   "id": "0cd1f9b7",
   "metadata": {},
   "outputs": [],
   "source": [
    "# load the saved model from a file\n",
    "simple_log_model = joblib.load(filename_simple_log_model)"
   ]
  },
  {
   "attachments": {},
   "cell_type": "markdown",
   "id": "d5c37086",
   "metadata": {},
   "source": [
    "#### Predicting the simple log model on the liar validation set: "
   ]
  },
  {
   "cell_type": "code",
   "execution_count": 80,
   "id": "4c3f94cf",
   "metadata": {},
   "outputs": [
    {
     "name": "stdout",
     "output_type": "stream",
     "text": [
      "0.6089918256130791\n"
     ]
    }
   ],
   "source": [
    "y_pred_liar = simple_log_model.predict(X_val_liar)\n",
    "\n",
    "acc_simple_log_liar = accuracy_score(y_val_liar, y_pred_liar)\n",
    "print(accuracy_score(y_val_liar, y_pred_liar))\n",
    "\n",
    "#10000 and chunks 1000: 0.292\n",
    "#100.000 and chunk 10.000: 0.67\n",
    "#1000000 and chunk 50000: 0.6948228882833788"
   ]
  },
  {
   "attachments": {},
   "cell_type": "markdown",
   "id": "d7afe9e5",
   "metadata": {},
   "source": [
    "### Simlpe logistic model with meta (author and domain)"
   ]
  },
  {
   "attachments": {},
   "cell_type": "markdown",
   "id": "155d63c5",
   "metadata": {},
   "source": [
    "#### Make the data include the authors and domains"
   ]
  },
  {
   "cell_type": "code",
   "execution_count": 81,
   "id": "07331086",
   "metadata": {},
   "outputs": [
    {
     "name": "stderr",
     "output_type": "stream",
     "text": [
      "/opt/anaconda3/lib/python3.9/site-packages/sklearn/feature_extraction/text.py:1322: UserWarning: Upper case characters found in vocabulary while 'lowercase' is True. These entries will not be matched with any documents\n",
      "  warnings.warn(\n"
     ]
    }
   ],
   "source": [
    "\n",
    "for index, row in big_df.iterrows():\n",
    "    #print(\"df.at[index,'authors']\", df.at[index,'authors'])\n",
    "    if big_df.at[index,'authors'] != \"nan\":\n",
    "        split_str = str(big_df.at[index,'authors']).split(\", \")\n",
    "        for word in split_str:\n",
    "            author_str = \"author: \" + word.lower()\n",
    "            big_df.at[index,'content'].append(author_str)\n",
    "    if  big_df.at[index,'domain'] != \"nan\":\n",
    "        domain_str = \"domain: \" + str(big_df.at[index,'domain'])\n",
    "        big_df.at[index,'content'].append(domain_str.lower())\n",
    "    \n",
    "\n",
    "#print(df['content'][1])\n",
    "\n",
    "X_meta, y_meta = big_df.content, big_df['type']\n",
    "\n",
    "\n",
    "X_train_meta, X_temp_meta, y_train_meta, y_temp_meta = train_test_split(X_meta, y_meta, test_size = 0.2, random_state = 0)\n",
    "X_test_meta, X_val_meta, y_test_meta, y_val_meta = train_test_split(X_temp_meta, y_temp_meta, test_size = 0.5, random_state = 0)\n",
    "\n",
    "X_train_vec_meta = X_vectoriser(X_train_meta, unique_words_stem_big)\n",
    "X_val_vec_meta = X_vectoriser(X_val_meta,unique_words_stem_big)\n",
    "X_test_vec_meta = X_vectoriser(X_test_meta, unique_words_stem_big)\n",
    "\n",
    "y_train_bin_meta, LabelFa, LabelRe  = make_bin(y_train_meta)\n",
    "y_val_bin_meta, LabelFa, LabelRe  = make_bin(y_val_meta)\n",
    "y_test_bin_meta, LabelFa, LabelRe = make_bin(y_test_meta)\n",
    "\n"
   ]
  },
  {
   "attachments": {},
   "cell_type": "markdown",
   "id": "31811b68",
   "metadata": {},
   "source": [
    "#### Train with simple model and meta"
   ]
  },
  {
   "cell_type": "code",
   "execution_count": 82,
   "id": "b6b816d4",
   "metadata": {},
   "outputs": [
    {
     "data": {
      "text/plain": [
       "['simple_log_model_meta.joblib']"
      ]
     },
     "execution_count": 82,
     "metadata": {},
     "output_type": "execute_result"
    }
   ],
   "source": [
    "simple_log_model_meta = LogisticRegression(max_iter=100000)\n",
    "simple_log_model_meta.fit(X_train_vec_meta, y_train_bin_meta)\n",
    "\n",
    "filename_simple_log_model_meta = 'simple_log_model_meta.joblib'\n",
    "joblib.dump(simple_log_model, filename_simple_log_model_meta)\n",
    "\n",
    "\n",
    "\n",
    "#10000 and chunks 1000: 0.946\n",
    "#100.000 and chunk 10.000: 0.956"
   ]
  },
  {
   "attachments": {},
   "cell_type": "markdown",
   "id": "18d27ce3",
   "metadata": {},
   "source": [
    "#### load simple model meta"
   ]
  },
  {
   "cell_type": "code",
   "execution_count": 83,
   "id": "ecfd8e93",
   "metadata": {},
   "outputs": [],
   "source": [
    "simple_log_model_meta = joblib.load(filename_simple_log_model_meta)"
   ]
  },
  {
   "attachments": {},
   "cell_type": "markdown",
   "id": "c8275591",
   "metadata": {},
   "source": [
    "#### Predict simple model and meta"
   ]
  },
  {
   "cell_type": "code",
   "execution_count": 84,
   "id": "1110cff3",
   "metadata": {},
   "outputs": [
    {
     "name": "stdout",
     "output_type": "stream",
     "text": [
      "0.4594560955877777\n"
     ]
    }
   ],
   "source": [
    "y_pred_meta = simple_log_model_meta.predict(X_val_vec_meta)\n",
    "acc_simple_log_meta = accuracy_score(y_val_bin_meta, y_pred_meta)\n",
    "print(accuracy_score(y_val_bin_meta, y_pred_meta))"
   ]
  },
  {
   "attachments": {},
   "cell_type": "markdown",
   "id": "6a5122a9",
   "metadata": {},
   "source": [
    "#### Comparing the simple model without metadata and the simple model with metadata:"
   ]
  },
  {
   "cell_type": "code",
   "execution_count": 85,
   "id": "96a9ce02",
   "metadata": {},
   "outputs": [
    {
     "name": "stdout",
     "output_type": "stream",
     "text": [
      "0.4210176945256913\n"
     ]
    }
   ],
   "source": [
    "#Comparison of acc bewteen simple log models\n",
    "\n",
    "acc_diff_logs = abs(acc_simple_log_meta - acc_simple_log)\n",
    "print(acc_diff_logs)"
   ]
  },
  {
   "attachments": {},
   "cell_type": "markdown",
   "id": "9a4200d6",
   "metadata": {},
   "source": [
    "### Gaussion naive baiers model: (kan ikke køre med lige så meget data som den logistiske)\n"
   ]
  },
  {
   "cell_type": "code",
   "execution_count": 86,
   "id": "014d44f7",
   "metadata": {},
   "outputs": [
    {
     "data": {
      "text/plain": [
       "'\\n\\n#filename\\n#loaded_simple_nb_model = joblib.load(\"simple_nb_model_\\' +  + \\'.joblib\")\\nlast_processed_chunk = 0\\n\\n#More memory?\\n%env KMP_DUPLICATE_LIB_OK=TRUE\\n\\n# create a RandomUnderSampler instance\\nrus = RandomUnderSampler(random_state=0)\\n\\n# create an instance of the Gaussian Naive Bayes model\\nsimple_nb_model = GaussianNB()\\n\\n#New get_chunk_size\\nget_chunk_size=1000\\n\\n# convert X_train_vec and y_train_bin to sparse matrices\\nX_train_sparse = csr_matrix(X_train_vec)\\ny_train_sparse = csr_matrix(y_train_bin).T\\n\\n# create chunks of sparse matrices\\nchunks = [X_train_sparse[i:i+get_chunk_size,:] for i in range(0, X_train_sparse.shape[0], get_chunk_size)]\\nlabels_chunks = [y_train_sparse[i:i+get_chunk_size,:] for i in range(0, y_train_sparse.shape[0], get_chunk_size)]\\nchunk_nr = 0\\n\\n# iterate over the chunks and fit the model\\nfor i in range(last_processed_chunk,  len(chunks)):\\n    chunk_nr += 1\\n    print(\"fitting: \", chunk_nr)\\n    X_train_resampled, y_train_resampled = rus.fit_resample(chunks[i].toarray(), labels_chunks[i].toarray().ravel())\\n    print(\"resampled: \", chunk_nr)\\n    simple_nb_model.partial_fit(X_train_resampled, y_train_resampled.ravel(), classes=np.unique(y_train_bin))\\n    \\n    # save the model incrementally\\n    if chunk_nr % 50 == 0:\\n        filename = \\'simple_nb_model_\\' + str(chunk_nr) + \\'.joblib\\'\\n        joblib.dump(simple_nb_model, filename)\\n    \\n    del chunks[i]\\n    del labels_chunks[i]\\n\\n# save the final trained model to a file\\nfilename = \\'simple_nb_model_final.joblib\\'\\njoblib.dump(simple_nb_model, filename)\\n\\n# load the saved model from a file\\nloaded_simple_nb_model = joblib.load(filename)\\n\\n# make predictions on the validation set using the loaded model\\ny_pred_gauss = loaded_simple_nb_model.predict(X_val_vec.toarray())\\nacc_gauss = accuracy_score(y_val_bin, y_pred_gauss)\\nprint(\"Accuracy:\", acc_gauss)\\n\\n\\n'"
      ]
     },
     "execution_count": 86,
     "metadata": {},
     "output_type": "execute_result"
    }
   ],
   "source": [
    "#filename\n",
    "#loaded_simple_nb_model = joblib.load(\"simple_nb_model_' +  + '.joblib\")\n",
    "last_processed_chunk = 0\n",
    "\n",
    "#More memory?\n",
    "%env KMP_DUPLICATE_LIB_OK=TRUE\n",
    "\n",
    "# create a RandomUnderSampler instance\n",
    "rus = RandomUnderSampler(random_state=0)\n",
    "\n",
    "# create an instance of the Gaussian Naive Bayes model\n",
    "simple_nb_model = GaussianNB()\n",
    "\n",
    "#New get_chunk_size\n",
    "get_chunk_size=1000\n",
    "\n",
    "# convert X_train_vec and y_train_bin to sparse matrices\n",
    "X_train_sparse = csr_matrix(X_train_vec)\n",
    "y_train_sparse = csr_matrix(y_train_bin).T\n",
    "\n",
    "# create chunks of sparse matrices\n",
    "chunks = [X_train_sparse[i:i+get_chunk_size,:] for i in range(0, X_train_sparse.shape[0], get_chunk_size)]\n",
    "labels_chunks = [y_train_sparse[i:i+get_chunk_size,:] for i in range(0, y_train_sparse.shape[0], get_chunk_size)]\n",
    "chunk_nr = 0\n",
    "\n",
    "# iterate over the chunks and fit the model\n",
    "for i in range(last_processed_chunk,  len(chunks)):\n",
    "    chunk_nr += 1\n",
    "    print(\"fitting: \", chunk_nr)\n",
    "    X_train_resampled, y_train_resampled = rus.fit_resample(chunks[i].toarray(), labels_chunks[i].toarray().ravel())\n",
    "    print(\"resampled: \", chunk_nr)\n",
    "    simple_nb_model.partial_fit(X_train_resampled, y_train_resampled.ravel(), classes=np.unique(y_train_bin))\n",
    "    \n",
    "    # save the model incrementally\n",
    "    if chunk_nr % 50 == 0:\n",
    "        filename = 'simple_nb_model_' + str(chunk_nr) + '.joblib'\n",
    "        joblib.dump(simple_nb_model, filename)\n",
    "    \n",
    "    del chunks[i]\n",
    "    del labels_chunks[i]\n",
    "\n",
    "# save the final trained model to a file\n",
    "filename = 'simple_nb_model_final.joblib'\n",
    "joblib.dump(simple_nb_model, filename)\n",
    "\n",
    "# load the saved model from a file\n",
    "loaded_simple_nb_model = joblib.load(filename)\n",
    "\n",
    "# make predictions on the validation set using the loaded model\n",
    "y_pred_gauss = loaded_simple_nb_model.predict(X_val_vec.toarray())\n",
    "acc_gauss = accuracy_score(y_val_bin, y_pred_gauss)\n",
    "print(\"Accuracy:\", acc_gauss)"
   ]
  },
  {
   "attachments": {},
   "cell_type": "markdown",
   "id": "ce4439f0",
   "metadata": {},
   "source": [
    "#### predicting the gaussian model on the liar dataset"
   ]
  },
  {
   "cell_type": "code",
   "execution_count": 87,
   "id": "33f6dafa",
   "metadata": {},
   "outputs": [
    {
     "data": {
      "text/plain": [
       "\"\\n\\ny_pred_gauss_liar = simple_nb_model.predict(X_val_liar.toarray())\\n\\n# evaluate the accuracy of the model's predictions on liar\\nacc_gauss_liar = accuracy_score(y_val_liar, y_pred_gauss_liar)\\nprint(acc_gauss_liar)\\n\\n#10000 and chunks 1000: 0.655\\n\\n\\n\""
      ]
     },
     "execution_count": 87,
     "metadata": {},
     "output_type": "execute_result"
    }
   ],
   "source": [
    "y_pred_gauss_liar = simple_nb_model.predict(X_val_liar.toarray())\n",
    "\n",
    "# evaluate the accuracy of the model's predictions on liar\n",
    "acc_gauss_liar = accuracy_score(y_val_liar, y_pred_gauss_liar)\n",
    "print(acc_gauss_liar)\n",
    "\n",
    "#10000 and chunks 1000: 0.655"
   ]
  },
  {
   "attachments": {},
   "cell_type": "markdown",
   "id": "8f3c2b8b",
   "metadata": {},
   "source": [
    "#### Random forrest classifer model:"
   ]
  },
  {
   "cell_type": "code",
   "execution_count": 88,
   "id": "bce5187c",
   "metadata": {},
   "outputs": [
    {
     "name": "stdout",
     "output_type": "stream",
     "text": [
      "Model is trained\n"
     ]
    }
   ],
   "source": [
    "# RandomForest model\n",
    "\n",
    "import pandas as pd\n",
    "from sklearn.model_selection import train_test_split\n",
    "from sklearn.ensemble import RandomForestClassifier\n",
    "from sklearn.feature_extraction.text import CountVectorizer\n",
    "\n",
    "\n",
    "# Train a Random Forest model\n",
    "rfc = RandomForestClassifier(n_estimators=100, random_state=42)\n",
    "rfc.fit(X_train_vec, y_train_bin)\n",
    "\n",
    "filename_rfc = 'rfc.joblib'\n",
    "joblib.dump(rfc, filename_rfc)\n",
    "\n",
    "print(\"Model is trained\")\n",
    "\n",
    "#output notes: Accuracy: 0.764 when nrows=10.000, runtime 47.8s\n",
    "#output notes: Accuracy: 0.8575 when nrows=20.000, runtime 1m 53.3s\n",
    "\n"
   ]
  },
  {
   "attachments": {},
   "cell_type": "markdown",
   "id": "636c1456",
   "metadata": {},
   "source": [
    "#### load forrest model"
   ]
  },
  {
   "cell_type": "code",
   "execution_count": 89,
   "id": "579f6788",
   "metadata": {},
   "outputs": [],
   "source": [
    "rfc = joblib.load(filename_rfc)"
   ]
  },
  {
   "attachments": {},
   "cell_type": "markdown",
   "id": "2ad97129",
   "metadata": {},
   "source": [
    "#### Evaluate the forrest model on the validation for the big fake news corpus"
   ]
  },
  {
   "cell_type": "code",
   "execution_count": 90,
   "id": "fea59f3d",
   "metadata": {},
   "outputs": [
    {
     "name": "stdout",
     "output_type": "stream",
     "text": [
      "Accuracy: 0.8628829837990334\n"
     ]
    }
   ],
   "source": [
    "# Evaluate the model on big corpus\n",
    "y_pred_forrest = rfc.predict(X_val_vec)\n",
    "acc_forrest = accuracy_score(y_val_bin, y_pred_forrest)\n",
    "print('Accuracy:', acc_forrest)\n",
    "\n",
    "#10000 and chunks 1000: 0.89\n",
    "#1000000 and chunks 50000: 0.864"
   ]
  },
  {
   "attachments": {},
   "cell_type": "markdown",
   "id": "90bac5b7",
   "metadata": {},
   "source": [
    "#### Evaluate the forrest model on liar valid "
   ]
  },
  {
   "cell_type": "code",
   "execution_count": 91,
   "id": "dba635f4",
   "metadata": {},
   "outputs": [
    {
     "name": "stdout",
     "output_type": "stream",
     "text": [
      "Accuracy: 0.7084468664850136\n"
     ]
    }
   ],
   "source": [
    "# Evaluate the model on liar corpus\n",
    "y_pred_forrest_liar = rfc.predict(X_val_liar)\n",
    "acc_forrest = accuracy_score(y_val_liar, y_pred_forrest_liar)\n",
    "print('Accuracy:', acc_forrest)\n",
    "\n",
    "#10000 and chunks 1000: 0.291\n",
    "#1000000 and chunks 50000: 0.707"
   ]
  },
  {
   "attachments": {},
   "cell_type": "markdown",
   "id": "f22c6b16",
   "metadata": {},
   "source": [
    "#### Evaluate the forrest model on big corpus with included metadata"
   ]
  },
  {
   "cell_type": "code",
   "execution_count": 92,
   "id": "83698091",
   "metadata": {},
   "outputs": [
    {
     "name": "stdout",
     "output_type": "stream",
     "text": [
      "Accuracy: 0.58916754828137\n"
     ]
    }
   ],
   "source": [
    "# Train and evaluate the model on liar corpus\n",
    "rfc.fit(X_train_vec_meta, y_train_bin_meta)\n",
    "y_pred_forrest_meta = rfc.predict(X_val_vec)\n",
    "acc_forrest = accuracy_score(y_val_bin, y_pred_forrest_meta)\n",
    "print('Accuracy:', acc_forrest)\n",
    "\n",
    "#10000 and chunks 1000: 0.894"
   ]
  },
  {
   "attachments": {},
   "cell_type": "markdown",
   "id": "5b7e4a49",
   "metadata": {},
   "source": [
    "#### Support vector machine model:"
   ]
  },
  {
   "cell_type": "code",
   "execution_count": 93,
   "id": "ad23ca98",
   "metadata": {
    "tags": [
     "svm"
    ]
   },
   "outputs": [
    {
     "data": {
      "text/plain": [
       "'\\n\\n# Support Vector Machine (SVM) model\\nfrom sklearn.svm import SVC\\nfrom sklearn.preprocessing import LabelEncoder\\n\\n# Train an SVM model\\nsvm = SVC(kernel=\\'linear\\')\\nsvm.fit(X_train_vec, y_train_bin)\\nprint(\"Model is trained\")\\n\\n#Output note: Accuracy: 0.575, when nrows=1.000, runtime 41.3s\\n#Output note: Accuracy: 0.62, when nrows=2.000, runtime 1m 42.7s\\n#Output note: Accuracy: 0.6633, when nrows=3.000, runtime 3m 31.6s\\n#Output note: Accuracy: 0.67, when nrows=4.000, runtime 7m 31.5s\\n#Output note: Accuracy: 0.684, when nrows=5.000, runtime 12min 30s\\n#Output note: Accuracy: 0.7125, when nrows=6.000, runtime 53min 29.7s\\n#Output note: Accuracy: 0.767, when nrows=10.000, runtime 7h 12min 11.4s\\n\\n\\n'"
      ]
     },
     "execution_count": 93,
     "metadata": {},
     "output_type": "execute_result"
    }
   ],
   "source": [
    "# Support Vector Machine (SVM) model\n",
    "from sklearn.svm import SVC\n",
    "from sklearn.preprocessing import LabelEncoder\n",
    "\n",
    "# Train an SVM model\n",
    "svm = SVC(kernel='linear')\n",
    "svm.fit(X_train_vec, y_train_bin)\n",
    "print(\"Model is trained\")\n",
    "\n",
    "#Output note: Accuracy: 0.575, when nrows=1.000, runtime 41.3s\n",
    "#Output note: Accuracy: 0.62, when nrows=2.000, runtime 1m 42.7s\n",
    "#Output note: Accuracy: 0.6633, when nrows=3.000, runtime 3m 31.6s\n",
    "#Output note: Accuracy: 0.67, when nrows=4.000, runtime 7m 31.5s\n",
    "#Output note: Accuracy: 0.684, when nrows=5.000, runtime 12min 30s\n",
    "#Output note: Accuracy: 0.7125, when nrows=6.000, runtime 53min 29.7s\n",
    "#Output note: Accuracy: 0.767, when nrows=10.000, runtime 7h 12min 11.4s"
   ]
  },
  {
   "cell_type": "code",
   "execution_count": 94,
   "id": "8839a782",
   "metadata": {},
   "outputs": [
    {
     "ename": "NameError",
     "evalue": "name 'svm' is not defined",
     "output_type": "error",
     "traceback": [
      "\u001b[0;31m---------------------------------------------------------------------------\u001b[0m",
      "\u001b[0;31mNameError\u001b[0m                                 Traceback (most recent call last)",
      "\u001b[0;32m/var/folders/r3/3zlyy5351w142fn8p5ldy2k00000gn/T/ipykernel_13232/1693984000.py\u001b[0m in \u001b[0;36m<module>\u001b[0;34m\u001b[0m\n\u001b[1;32m      1\u001b[0m \u001b[0;31m# Evaluate the model on big corpus\u001b[0m\u001b[0;34m\u001b[0m\u001b[0;34m\u001b[0m\u001b[0m\n\u001b[0;32m----> 2\u001b[0;31m \u001b[0my_pred_svm\u001b[0m \u001b[0;34m=\u001b[0m \u001b[0msvm\u001b[0m\u001b[0;34m.\u001b[0m\u001b[0mpredict\u001b[0m\u001b[0;34m(\u001b[0m\u001b[0mX_val_vec\u001b[0m\u001b[0;34m)\u001b[0m\u001b[0;34m\u001b[0m\u001b[0;34m\u001b[0m\u001b[0m\n\u001b[0m\u001b[1;32m      3\u001b[0m \u001b[0macc_svm\u001b[0m \u001b[0;34m=\u001b[0m \u001b[0maccuracy_score\u001b[0m\u001b[0;34m(\u001b[0m\u001b[0my_val_bin\u001b[0m\u001b[0;34m,\u001b[0m \u001b[0my_pred_svm\u001b[0m\u001b[0;34m)\u001b[0m\u001b[0;34m\u001b[0m\u001b[0;34m\u001b[0m\u001b[0m\n\u001b[1;32m      4\u001b[0m \u001b[0mprint\u001b[0m\u001b[0;34m(\u001b[0m\u001b[0;34m'Accuracy:'\u001b[0m\u001b[0;34m,\u001b[0m \u001b[0macc_svm\u001b[0m\u001b[0;34m)\u001b[0m\u001b[0;34m\u001b[0m\u001b[0;34m\u001b[0m\u001b[0m\n\u001b[1;32m      5\u001b[0m \u001b[0;34m\u001b[0m\u001b[0m\n",
      "\u001b[0;31mNameError\u001b[0m: name 'svm' is not defined"
     ]
    }
   ],
   "source": [
    "# Evaluate the model on big corpus\n",
    "y_pred_svm = svm.predict(X_val_vec)\n",
    "acc_svm = accuracy_score(y_val_bin, y_pred_svm)\n",
    "print('Accuracy:', acc_svm)\n",
    "\n",
    "#10000 and chunks 1000: 0.889"
   ]
  },
  {
   "cell_type": "code",
   "execution_count": null,
   "id": "654b4659",
   "metadata": {},
   "outputs": [
    {
     "name": "stdout",
     "output_type": "stream",
     "text": [
      "Accuracy: 0.7084468664850136\n"
     ]
    }
   ],
   "source": [
    "# Evaluate the model on liar corpus\n",
    "y_pred_svm_liar = svm.predict(X_val_liar)\n",
    "acc_svm = accuracy_score(y_val_liar, y_pred_svm_liar)\n",
    "print('Accuracy:', acc_svm)\n",
    "\n",
    "#10000 and chunks 1000: 0.291"
   ]
  },
  {
   "attachments": {},
   "cell_type": "markdown",
   "id": "39ca161e",
   "metadata": {},
   "source": [
    "## DEN KOMPLICEREDE MODEL schematic:"
   ]
  },
  {
   "cell_type": "code",
   "execution_count": 95,
   "id": "90b885c6",
   "metadata": {},
   "outputs": [
    {
     "name": "stdout",
     "output_type": "stream",
     "text": [
      "Accuracy for C=0.1: 0.8779845250689734\n",
      "Best C: 0.1\n",
      "              precision    recall  f1-score   support\n",
      "\n",
      "           0       0.89      0.90      0.90     28402\n",
      "           1       0.85      0.85      0.85     19805\n",
      "\n",
      "    accuracy                           0.88     48207\n",
      "   macro avg       0.87      0.87      0.87     48207\n",
      "weighted avg       0.88      0.88      0.88     48207\n",
      "\n"
     ]
    },
    {
     "data": {
      "image/png": "[encoded data removed]",
      "text/plain": [
       "<Figure size 1000x500 with 2 Axes>"
      ]
     },
     "metadata": {},
     "output_type": "display_data"
    }
   ],
   "source": [
    "from sklearn.metrics import confusion_matrix, accuracy_score, classification_report\n",
    "import seaborn as sns\n",
    "\n",
    "Cs = [0.1]\n",
    "best_accuracy = 0\n",
    "best_c = 0\n",
    "best_y_pred = None\n",
    "\n",
    "# create a RandomUnderSampler instance\n",
    "rus = RandomUnderSampler(random_state=0)\n",
    "\n",
    "# fit and transform the training data using RandomUnderSampler\n",
    "X_train_resampled, y_train_resampled = rus.fit_resample(X_train_vec, y_train_bin)\n",
    "\n",
    "for c in Cs:\n",
    "    advanced_log_model = LogisticRegression(max_iter=100000, C=c, class_weight='balanced')\n",
    "    advanced_log_model.fit(X_train_resampled, y_train_resampled)\n",
    "    y_pred = advanced_log_model.predict(X_val_vec)\n",
    "    accuracy = accuracy_score(y_val_bin, y_pred)\n",
    "    print(f\"Accuracy for C={c}: {accuracy}\")\n",
    "    \n",
    "    if accuracy > best_accuracy:\n",
    "        best_accuracy = accuracy\n",
    "        best_c = c\n",
    "        best_y_pred = y_pred\n",
    "\n",
    "print(\"Best C:\", best_c)\n",
    "\n",
    "# generate class probabilities and select cutoff\n",
    "probas = advanced_log_model.predict_proba(X_val_vec)\n",
    "cutoff = 0.5\n",
    "y_pred_cutoff = (probas[:,1] > cutoff).astype(int)\n",
    "\n",
    "# print classification report\n",
    "print(classification_report(y_val_bin, y_pred_cutoff))\n",
    "\n",
    "# calculate and plot confusion matrix in percentages\n",
    "conf_mat = confusion_matrix(y_val_bin, y_pred_cutoff, normalize='true')\n",
    "sns.heatmap(conf_mat, annot=True, cmap=\"YlGnBu\", xticklabels=['Reliable', 'Fake'], yticklabels=['Reliable', 'Fake'])\n",
    "plt.xlabel('Predicted label')\n",
    "plt.ylabel('True label')\n",
    "plt.title(f'Confusion Matrix (C={best_c}, cutoff={cutoff})')\n",
    "plt.show()\n",
    "\n",
    "filename_advanced_log_model = 'advanced_log_model.joblib'\n",
    "joblib.dump(simple_log_model, filename_advanced_log_model)\n",
    "advanced_log_model = joblib.load(filename_advanced_log_model)\n"
   ]
  },
  {
   "cell_type": "code",
   "execution_count": null,
   "id": "96b63c95",
   "metadata": {},
   "outputs": [
    {
     "data": {
      "text/plain": [
       "<AxesSubplot:>"
      ]
     },
     "execution_count": 110,
     "metadata": {},
     "output_type": "execute_result"
    },
    {
     "data": {
      "image/png": "[encoded data removed]",
      "text/plain": [
       "<Figure size 1000x500 with 2 Axes>"
      ]
     },
     "metadata": {},
     "output_type": "display_data"
    }
   ],
   "source": [
    "# calculate and plot confusion matrix with absolute values\n",
    "conf_mat1 = confusion_matrix(y_val_bin, best_y_pred)\n",
    "sns.heatmap(conf_mat1, annot=True, cmap=\"YlGnBu\")"
   ]
  },
  {
   "attachments": {},
   "cell_type": "markdown",
   "id": "5cff18f0",
   "metadata": {},
   "source": [
    "## KOMPLICERET NAIVE BAYES GAUSSIAN"
   ]
  },
  {
   "cell_type": "code",
   "execution_count": null,
   "id": "04d0144e",
   "metadata": {},
   "outputs": [],
   "source": [
    "import numpy as np\n",
    "from scipy.sparse import csr_matrix\n",
    "import io\n",
    "from imblearn.under_sampling import RandomUnderSampler\n",
    "from sklearn.naive_bayes import GaussianNB\n",
    "from sklearn.metrics import accuracy_score\n",
    "import joblib\n",
    "\n",
    "#filename\n",
    "#loaded_simple_nb_model = joblib.load(\"simple_nb_model_' +  + '.joblib\")\n",
    "last_processed_chunk = 0\n",
    "\n",
    "#More memory?\n",
    "%env KMP_DUPLICATE_LIB_OK=TRUE\n",
    "\n",
    "# create a RandomUnderSampler instance\n",
    "rus = RandomUnderSampler(random_state=0)\n",
    "\n",
    "# create an instance of the Gaussian Naive Bayes model\n",
    "advanced_nb_model = GaussianNB()\n",
    "\n",
    "#New get_chunk_size\n",
    "get_chunk_size=1000\n",
    "\n",
    "# convert X_train_vec and y_train_bin to sparse matrices\n",
    "X_train_sparse = csr_matrix(X_train_vec)\n",
    "y_train_sparse = csr_matrix(y_train_bin).T\n",
    "\n",
    "# create chunks of sparse matrices\n",
    "chunks = [X_train_sparse[i:i+get_chunk_size,:] for i in range(0, X_train_sparse.shape[0], get_chunk_size)]\n",
    "labels_chunks = [y_train_sparse[i:i+get_chunk_size,:] for i in range(0, y_train_sparse.shape[0], get_chunk_size)]\n",
    "chunk_nr = 0\n",
    "\n",
    "# iterate over the chunks and fit the model\n",
    "for i in range(last_processed_chunk,  len(chunks)):\n",
    "    chunk_nr += 1\n",
    "    print(\"fitting: \", chunk_nr)\n",
    "    X_train_resampled, y_train_resampled = rus.fit_resample(chunks[i].toarray(), labels_chunks[i].toarray().ravel())\n",
    "    print(\"resampled: \", chunk_nr)\n",
    "    advanced_nb_model.partial_fit(X_train_resampled, y_train_resampled.ravel(), classes=np.unique(y_train_bin))\n",
    "    \n",
    "    # save the model incrementally\n",
    "    if chunk_nr % 50 == 0:\n",
    "        filename = 'advanced_nb_model_' + str(chunk_nr) + '.joblib'\n",
    "        joblib.dump(advanced_nb_model, filename)\n",
    "    \n",
    "    del chunks[i]\n",
    "    del labels_chunks[i]\n",
    "\n",
    "# save the final trained model to a file\n",
    "filename = 'advanced_nb_model_final.joblib'\n",
    "joblib.dump(advanced_nb_model, filename)\n",
    "\n",
    "# load the saved model from a file\n",
    "loaded_advanced_nb_model = joblib.load(filename)\n"
   ]
  },
  {
   "cell_type": "code",
   "execution_count": null,
   "id": "1436a16b",
   "metadata": {},
   "outputs": [
    {
     "name": "stdout",
     "output_type": "stream",
     "text": [
      "redefined...\n",
      "model...\n"
     ]
    },
    {
     "ename": "TypeError",
     "evalue": "All intermediate steps should be transformers and implement fit and transform or be the string 'passthrough' 'RandomUnderSampler(random_state=0)' (type <class 'imblearn.under_sampling._prototype_selection._random_under_sampler.RandomUnderSampler'>) doesn't",
     "output_type": "error",
     "traceback": [
      "\u001b[0;31m---------------------------------------------------------------------------\u001b[0m",
      "\u001b[0;31mTypeError\u001b[0m                                 Traceback (most recent call last)",
      "\u001b[0;32m/var/folders/r3/3zlyy5351w142fn8p5ldy2k00000gn/T/ipykernel_13232/3063098214.py\u001b[0m in \u001b[0;36m<module>\u001b[0;34m\u001b[0m\n\u001b[1;32m     18\u001b[0m \u001b[0mprint\u001b[0m\u001b[0;34m(\u001b[0m\u001b[0;34m\"model...\"\u001b[0m\u001b[0;34m)\u001b[0m\u001b[0;34m\u001b[0m\u001b[0;34m\u001b[0m\u001b[0m\n\u001b[1;32m     19\u001b[0m \u001b[0;31m# create a pipeline for the model\u001b[0m\u001b[0;34m\u001b[0m\u001b[0;34m\u001b[0m\u001b[0m\n\u001b[0;32m---> 20\u001b[0;31m model_pipeline = Pipeline([\n\u001b[0m\u001b[1;32m     21\u001b[0m     \u001b[0;34m(\u001b[0m\u001b[0;34m'sampling'\u001b[0m\u001b[0;34m,\u001b[0m \u001b[0mrus\u001b[0m\u001b[0;34m)\u001b[0m\u001b[0;34m,\u001b[0m\u001b[0;34m\u001b[0m\u001b[0;34m\u001b[0m\u001b[0m\n\u001b[1;32m     22\u001b[0m     \u001b[0;34m(\u001b[0m\u001b[0;34m'classifier'\u001b[0m\u001b[0;34m,\u001b[0m \u001b[0mGaussianNB\u001b[0m\u001b[0;34m(\u001b[0m\u001b[0;34m)\u001b[0m\u001b[0;34m)\u001b[0m\u001b[0;34m\u001b[0m\u001b[0;34m\u001b[0m\u001b[0m\n",
      "\u001b[0;32m/opt/anaconda3/lib/python3.9/site-packages/sklearn/pipeline.py\u001b[0m in \u001b[0;36m__init__\u001b[0;34m(self, steps, memory, verbose)\u001b[0m\n\u001b[1;32m    146\u001b[0m         \u001b[0mself\u001b[0m\u001b[0;34m.\u001b[0m\u001b[0mmemory\u001b[0m \u001b[0;34m=\u001b[0m \u001b[0mmemory\u001b[0m\u001b[0;34m\u001b[0m\u001b[0;34m\u001b[0m\u001b[0m\n\u001b[1;32m    147\u001b[0m         \u001b[0mself\u001b[0m\u001b[0;34m.\u001b[0m\u001b[0mverbose\u001b[0m \u001b[0;34m=\u001b[0m \u001b[0mverbose\u001b[0m\u001b[0;34m\u001b[0m\u001b[0;34m\u001b[0m\u001b[0m\n\u001b[0;32m--> 148\u001b[0;31m         \u001b[0mself\u001b[0m\u001b[0;34m.\u001b[0m\u001b[0m_validate_steps\u001b[0m\u001b[0;34m(\u001b[0m\u001b[0;34m)\u001b[0m\u001b[0;34m\u001b[0m\u001b[0;34m\u001b[0m\u001b[0m\n\u001b[0m\u001b[1;32m    149\u001b[0m \u001b[0;34m\u001b[0m\u001b[0m\n\u001b[1;32m    150\u001b[0m     \u001b[0;32mdef\u001b[0m \u001b[0mget_params\u001b[0m\u001b[0;34m(\u001b[0m\u001b[0mself\u001b[0m\u001b[0;34m,\u001b[0m \u001b[0mdeep\u001b[0m\u001b[0;34m=\u001b[0m\u001b[0;32mTrue\u001b[0m\u001b[0;34m)\u001b[0m\u001b[0;34m:\u001b[0m\u001b[0;34m\u001b[0m\u001b[0;34m\u001b[0m\u001b[0m\n",
      "\u001b[0;32m/opt/anaconda3/lib/python3.9/site-packages/sklearn/pipeline.py\u001b[0m in \u001b[0;36m_validate_steps\u001b[0;34m(self)\u001b[0m\n\u001b[1;32m    205\u001b[0m                 \u001b[0mt\u001b[0m\u001b[0;34m,\u001b[0m \u001b[0;34m\"transform\"\u001b[0m\u001b[0;34m\u001b[0m\u001b[0;34m\u001b[0m\u001b[0m\n\u001b[1;32m    206\u001b[0m             ):\n\u001b[0;32m--> 207\u001b[0;31m                 raise TypeError(\n\u001b[0m\u001b[1;32m    208\u001b[0m                     \u001b[0;34m\"All intermediate steps should be \"\u001b[0m\u001b[0;34m\u001b[0m\u001b[0;34m\u001b[0m\u001b[0m\n\u001b[1;32m    209\u001b[0m                     \u001b[0;34m\"transformers and implement fit and transform \"\u001b[0m\u001b[0;34m\u001b[0m\u001b[0;34m\u001b[0m\u001b[0m\n",
      "\u001b[0;31mTypeError\u001b[0m: All intermediate steps should be transformers and implement fit and transform or be the string 'passthrough' 'RandomUnderSampler(random_state=0)' (type <class 'imblearn.under_sampling._prototype_selection._random_under_sampler.RandomUnderSampler'>) doesn't"
     ]
    }
   ],
   "source": [
    "## create a RandomUnderSampler instance\n",
    "#rus = RandomUnderSampler(random_state=0)\n",
    "\n",
    "## create a pipeline for the model\n",
    "#model_pipeline = Pipeline([\n",
    "#    ('sampling', rus),\n",
    "#    ('classifier', GaussianNB())\n",
    "#])\n",
    "\n",
    "## define the grid of hyperparameters to search over\n",
    "#param_grid = {\n",
    "#    'classifier__var_smoothing': [1e-9, 1e-8, 1e-7],\n",
    "#    'sampling__sampling_strategy': [0.5, 0.7, 0.9]\n",
    "#}\n",
    "\n",
    "#perform a grid search over the hyperparameters using cross-validation\n",
    "#grid_search = GridSearchCV(model_pipeline, param_grid, cv=5)\n",
    "#grid_search.fit(X_train_vec.toarray(), y_train_bin)\n",
    "\n",
    "#extract the best model from the grid search\n",
    "#best_model_gauss= grid_search.best_estimator_\n",
    "\n"
   ]
  },
  {
   "attachments": {},
   "cell_type": "markdown",
   "id": "016179e4",
   "metadata": {},
   "source": [
    "#### Predict the advanced guassian model on the FakeNewsCorpus"
   ]
  },
  {
   "cell_type": "code",
   "execution_count": null,
   "id": "b736da2e",
   "metadata": {},
   "outputs": [
    {
     "name": "stdout",
     "output_type": "stream",
     "text": [
      "0.7883771929824561\n"
     ]
    }
   ],
   "source": [
    "# make predictions on the validation set using the loaded model\n",
    "y_pred_gauss = loaded_advanced_nb_model.predict(X_val_vec.toarray())\n",
    "acc_gauss_advanced = accuracy_score(y_val_bin, y_pred_gauss)\n",
    "print(\"Accuracy:\", acc_gauss_advanced)\n"
   ]
  },
  {
   "attachments": {},
   "cell_type": "markdown",
   "id": "0e89b3ac",
   "metadata": {},
   "source": [
    "#### Predictiong the advanced gaussian on the liar dataset"
   ]
  },
  {
   "cell_type": "code",
   "execution_count": null,
   "id": "442ab8aa",
   "metadata": {},
   "outputs": [
    {
     "name": "stdout",
     "output_type": "stream",
     "text": [
      "0.6553133514986376\n"
     ]
    }
   ],
   "source": [
    "y_pred_gauss_best_liar = loaded_advanced_nb_model.predict(X_val_liar.toarray())\n",
    "\n",
    "# evaluate the accuracy of the model's predictions on liar\n",
    "acc_gauss_best_liar = accuracy_score(y_val_liar, y_pred_gauss_best_liar)\n",
    "print(acc_gauss_best_liar)\n"
   ]
  },
  {
   "cell_type": "code",
   "execution_count": null,
   "id": "c3877315",
   "metadata": {},
   "outputs": [],
   "source": [
    "#print(fakenews/(fakenews+notfake))"
   ]
  }
 ],
 "metadata": {
  "kernelspec": {
   "display_name": "base",
   "language": "python",
   "name": "python3"
  },
  "language_info": {
   "codemirror_mode": {
    "name": "ipython",
    "version": 3
   },
   "file_extension": ".py",
   "mimetype": "text/x-python",
   "name": "python",
   "nbconvert_exporter": "python",
   "pygments_lexer": "ipython3",
   "version": "3.9.13"
  },
  "vscode": {
   "interpreter": {
    "hash": "40d3a090f54c6569ab1632332b64b2c03c39dcf918b08424e98f38b5ae0af88f"
   }
  }
 },
 "nbformat": 4,
 "nbformat_minor": 5
}
