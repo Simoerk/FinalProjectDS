{
 "cells": [
  {
   "cell_type": "code",
   "execution_count": 552,
   "id": "1ec8bc9e",
   "metadata": {},
   "outputs": [],
   "source": [
    "#1) Lav rigtig model. Hvad indebærer det? parameter, preprocessing, model?\n",
    "#2) Evaluation and Conclusion\n",
    "#3) nan values\n",
    "#4) Træn på stort, test på stort. Træn på liar, test på liar. Træn på sort, test på liar. Træn på liar, test på stort"
   ]
  },
  {
   "attachments": {},
   "cell_type": "markdown",
   "id": "8dd40ba6",
   "metadata": {},
   "source": [
    "# Importing all packages"
   ]
  },
  {
   "cell_type": "code",
   "execution_count": 553,
   "id": "a9bb0c40",
   "metadata": {},
   "outputs": [
    {
     "name": "stderr",
     "output_type": "stream",
     "text": [
      "[nltk_data] Downloading package stopwords to\n",
      "[nltk_data]     /Users/simonmork/nltk_data...\n",
      "[nltk_data]   Package stopwords is already up-to-date!\n"
     ]
    }
   ],
   "source": [
    "%matplotlib inline\n",
    "import re\n",
    "import matplotlib.pyplot as plt\n",
    "import numpy as np\n",
    "import pandas as pd\n",
    "from collections import Counter\n",
    "from cleantext import clean\n",
    "import nltk\n",
    "from nltk.corpus import stopwords\n",
    "nltk.download('stopwords')\n",
    "from nltk.stem import SnowballStemmer\n",
    "from collections import Counter\n",
    "import subprocess\n",
    "import zipfile\n",
    "import io\n",
    "import csv\n",
    "import zipfile38 as zipfile\n",
    "from dask import dataframe as dd\n",
    "from sklearn.model_selection import train_test_split\n",
    "import h5py\n",
    "from sklearn.linear_model import LogisticRegression\n",
    "from sklearn.metrics import accuracy_score\n",
    "from sklearn.feature_extraction.text import CountVectorizer\n",
    "from sklearn.feature_extraction.text import TfidfVectorizer\n",
    "from matplotlib.pyplot import bar\n",
    "from matplotlib.pyplot import xticks\n",
    "from matplotlib.pyplot import show\n",
    "import itertools, sys\n",
    "from collections import Counter\n"
   ]
  },
  {
   "attachments": {},
   "cell_type": "markdown",
   "id": "93a17193",
   "metadata": {},
   "source": [
    "# Getting The news_cleaned csv and train, val, test"
   ]
  },
  {
   "cell_type": "code",
   "execution_count": 554,
   "id": "c877a920",
   "metadata": {},
   "outputs": [
    {
     "name": "stdout",
     "output_type": "stream",
     "text": [
      "Unnamed: 0                                                                                                                                                                                                                                                                                                                                                                                                                                                                                                                                                                                                                                                                                                                                                                                             0\n",
      "id                                                                                                                                                                                                                                                                                                                                                                                                                                                                                                                                                                                                                                                                                                                                                                                                     2\n",
      "domain                                                                                                                                                                                                                                                                                                                                                                                                                                                                                                                                                                                                                                                                                                                                                                                     express.co.uk\n",
      "type                                                                                                                                                                                                                                                                                                                                                                                                                                                                                                                                                                                                                                                                                                                                                                                               rumor\n",
      "url                                                                                                                                                                                                                                                                                                                                                                                                                                                                                                                                                                                                                                                                                   https://www.express.co.uk/news/science/738402/life-an-ILLUSION-reality-does-not-exist-if-you-are-not-looking-at-it\n",
      "content             Life is an illusion, at least on a quantum level, in a theory which has recently been confirmed by a set of researchers.\\n\\nThey finally have the means to test John Wheeler’s delayed-choice theory and concluded that the physicist was right.\\n\\nIn 1978, Mr Wheeler’s proposed experiment involved a moving object that was given the choice to act like a wave or a particle – the former acting as a vibration with a frequency that can distinguish it from other waves and the latter having no frequency that you can determine its position in space, unlike a wave – and at what point does it ‘decide’ to act like one or the other.\\n\\nAt the time, the technology was not available to conduct a strong experiment, but scientists have now been able to carry it out.\n",
      "scraped_at                                                                                                                                                                                                                                                                                                                                                                                                                                                                                                                                                                                                                                                                                                                                                                    2018-01-25 16:17:44.789555\n",
      "inserted_at                                                                                                                                                                                                                                                                                                                                                                                                                                                                                                                                                                                                                                                                                                                                                                   2018-02-02 01:19:41.756632\n",
      "updated_at                                                                                                                                                                                                                                                                                                                                                                                                                                                                                                                                                                                                                                                                                                                                                                    2018-02-02 01:19:41.756664\n",
      "title                                                                                                                                                                                                                                                                                                                                                                                                                                                                                                                                                                                                                                                                                                         Is life an ILLUSION? Researchers prove 'reality doesn't exist if you're not looking at it'\n",
      "authors                                                                                                                                                                                                                                                                                                                                                                                                                                                                                                                                                                                                                                                                                                                                                                                      Sean Martin\n",
      "keywords                                                                                                                                                                                                                                                                                                                                                                                                                                                                                                                                                                                                                                                                                                                                                                                             NaN\n",
      "meta_keywords                                                                                                                                                                                                                                                                                                                                                                                                                                                                                                                                                                                                                                                                                                                                                                                       ['']\n",
      "meta_description                                                                                                                                                                                                                                                                                                                                                                                                                                                                                                                                                                                                                                                                    THE UNIVERSE ceases to exist when we are not looking at it proving that life is an illusion, according to one study.\n",
      "tags                                                                                                                                                                                                                                                                                                                                                                                                                                                                                                                                                                                                                                                                                                                                                                                                 NaN\n",
      "summary                                                                                                                                                                                                                                                                                                                                                                                                                                                                                                                                                                                                                                                                                                                                                                                              NaN\n",
      "source                                                                                                                                                                                                                                                                                                                                                                                                                                                                                                                                                                                                                                                                                                                                                                                               NaN\n",
      "Name: 0, dtype: object\n"
     ]
    }
   ],
   "source": [
    "#Getting News_cleaned_2018_02_13\n",
    "csv_textfilereader = pd.read_csv('/Users/simonmork/Desktop/GitHub/FinalProjectDS/news_cleaned_2018_02_13.csv', chunksize=1000000, iterator=True)\n",
    "big_df = csv_textfilereader.get_chunk(1000)\n",
    "first_article = big_df.iloc[0]\n",
    "print(first_article)"
   ]
  },
  {
   "cell_type": "code",
   "execution_count": 555,
   "id": "fdfbe0a3",
   "metadata": {},
   "outputs": [
    {
     "name": "stdout",
     "output_type": "stream",
     "text": [
      "Getting liar train csv...\n",
      "When did the decline of coal start? It started when natural gas took off that started to begin in (President George W.) Bushs administration.\n",
      "half-true\n"
     ]
    }
   ],
   "source": [
    "# Get Liar train datataset\n",
    "print(\"Getting liar train csv...\")\n",
    "LiarTrain = pd.read_csv('/Users/simonmork/Desktop/GitHub/FinalProjectDS/liar_dataset/train.tsv', sep='\\t')\n",
    "# Save the third column as a list\n",
    "LiarTrainArticles = LiarTrain.iloc[:, 2].values.tolist()\n",
    "LiarTrainLables = LiarTrain.iloc[:, 1].values.tolist()\n",
    "print(LiarTrainArticles[0])\n",
    "print(LiarTrainLables[0])"
   ]
  },
  {
   "cell_type": "code",
   "execution_count": 556,
   "id": "d187bbe1",
   "metadata": {},
   "outputs": [
    {
     "name": "stdout",
     "output_type": "stream",
     "text": [
      "Getting liar val csv...\n",
      "When Obama was sworn into office, he DID NOT use the Holy Bible, but instead the Kuran (Their equivalency to our Bible, but very different beliefs).\n",
      "pants-fire\n"
     ]
    }
   ],
   "source": [
    "# Get Liar Val datataset\n",
    "print(\"Getting liar val csv...\")\n",
    "LiarVal = pd.read_csv('/Users/simonmork/Desktop/GitHub/FinalProjectDS/liar_dataset/valid.tsv', sep='\\t')\n",
    "# Save the third column as a list\n",
    "LiarValArticles = LiarVal.iloc[:, 2].values.tolist()\n",
    "LiarValLables = LiarVal.iloc[:, 1].values.tolist()\n",
    "print(LiarValArticles[0])\n",
    "print(LiarValLables[0])\n"
   ]
  },
  {
   "cell_type": "code",
   "execution_count": 557,
   "id": "ee194e31",
   "metadata": {},
   "outputs": [
    {
     "name": "stdout",
     "output_type": "stream",
     "text": [
      "Getting liar test csv...\n",
      "<class 'pandas.core.frame.DataFrame'>\n",
      "Wisconsin is on pace to double the number of layoffs this year.\n",
      "false\n"
     ]
    }
   ],
   "source": [
    "# Get Liar test datataset\n",
    "print(\"Getting liar test csv...\")\n",
    "LiarTest = pd.read_csv('/Users/simonmork/Desktop/GitHub/FinalProjectDS/liar_dataset/test.tsv', sep='\\t')\n",
    "\n",
    "\n",
    "\n",
    "\n",
    "print(type(LiarTest))\n",
    "# Save the third column as a list\n",
    "LiarTestArticles = LiarTest.iloc[:, 2].values.tolist()\n",
    "LiarTestLables = LiarTest.iloc[:, 1].values.tolist()\n",
    "print(LiarTestArticles[0])\n",
    "print(LiarTestLables[0])\n"
   ]
  },
  {
   "attachments": {},
   "cell_type": "markdown",
   "id": "7a23b49d",
   "metadata": {},
   "source": [
    "# Defining all the functions we need"
   ]
  },
  {
   "attachments": {},
   "cell_type": "markdown",
   "id": "505de534",
   "metadata": {},
   "source": [
    "#### The cleantext function specifications"
   ]
  },
  {
   "cell_type": "code",
   "execution_count": 558,
   "id": "9bb4d92b",
   "metadata": {},
   "outputs": [
    {
     "name": "stdout",
     "output_type": "stream",
     "text": [
      "Done\n"
     ]
    }
   ],
   "source": [
    "# Define settings for cleaning\n",
    "def clean_text(text):\n",
    "    \"\"\"Calls the clean function from cleantext clean on a string\"\"\"\n",
    "    t = clean(text,\n",
    "    fix_unicode=True,               # fix various unicode errors\n",
    "    to_ascii=True,                  # transliterate to closest ASCII representation\n",
    "    lower=True,                     # lowercase text\n",
    "    no_line_breaks=True,         # fully strip line breaks as opposed to only normalizing them NOT WORKING?\n",
    "    no_urls=True,                  # replace all URLs with a special token\n",
    "    no_emails=True,                # replace all email addresses with a special token\n",
    "    no_phone_numbers=False,         # replace all phone numbers with a special token\n",
    "    no_numbers=True,               # replace all numbers with a special token\n",
    "    no_digits=False,                # replace all digits with a special token\n",
    "    no_currency_symbols=False,      # replace all currency symbols with a special token\n",
    "    no_punct=True,                 # remove punctuations\n",
    "    replace_with_punct=\"\",          # instead of removing punctuations you may replace them\n",
    "    replace_with_url=\"URL\",\n",
    "    replace_with_email=\"EMAIL\",\n",
    "    replace_with_phone_number=\"PHONE\",\n",
    "    replace_with_number=\"NUM\",\n",
    "    replace_with_digit=\"0\",\n",
    "    replace_with_currency_symbol=\"CUR\",\n",
    "    lang=\"en\",                       # set to 'de' for German special handling\n",
    "    )\n",
    "    return t\n",
    "\n",
    "\n",
    "pd.set_option(\"display.max_colwidth\", 10000000)    \n",
    "print(\"Done\")    "
   ]
  },
  {
   "attachments": {},
   "cell_type": "markdown",
   "id": "3e6feea7",
   "metadata": {},
   "source": [
    "#### The clean articles funtionality. Not used atm."
   ]
  },
  {
   "cell_type": "code",
   "execution_count": 559,
   "id": "614e9267",
   "metadata": {},
   "outputs": [],
   "source": [
    "def clean_article_texts(article_texts):\n",
    "    # Download stopwords and initialize stemmer\n",
    "    stop_words = set(stopwords.words('english'))\n",
    "    snowball = SnowballStemmer(language='english')\n",
    "\n",
    "    words_before = []\n",
    "    unique_words_before = []\n",
    "    words_clean = []\n",
    "    unique_words_clean = []\n",
    "    words = []\n",
    "    unique_words = []\n",
    "\n",
    "\n",
    "\n",
    "    for article in article_texts:\n",
    "        #Get number of words and unique words before clean\n",
    "        words_before.extend(article)\n",
    "        unique_words_before_set =  set(word for word_list in article for word in word_list)\n",
    "        unique_words_before.extend(unique_words_before_set) \n",
    "        \n",
    "\n",
    "        # Clean the text\n",
    "        cleaned = clean_text(article)      \n",
    "        \n",
    "        #Get number of words and unique words after clean  \n",
    "        words_clean.extend(cleaned.split())\n",
    "        unique_words_clean_set = set(word for word_list in article for word in word_list)\n",
    "        unique_words_clean.extend(unique_words_clean_set) \n",
    "        \n",
    "\n",
    "        # Tokenize the text\n",
    "        words = nltk.word_tokenize(cleaned)\n",
    "\n",
    "        # Remove stopwords and stem the words\n",
    "        filtered_words = [snowball.stem(word.lower()) for word in words if word.lower() not in stop_words]        \n",
    "        words.append(filtered_words)\n",
    "        unique_words_set = [word for words in filtered_words for word in words]\n",
    "        unique_words.append(unique_words_set)\n",
    "        \n",
    "\n",
    "    return words_before, unique_words_before, words_clean, unique_words_clean, filtered_words, unique_words\n",
    "\n"
   ]
  },
  {
   "attachments": {},
   "cell_type": "markdown",
   "id": "cfeff71b",
   "metadata": {},
   "source": [
    "#### The clean function for a df column"
   ]
  },
  {
   "cell_type": "code",
   "execution_count": 560,
   "id": "1731ad76",
   "metadata": {},
   "outputs": [],
   "source": [
    "    # Clean dataframe function\n",
    "def clean_df(df, label):\n",
    "        column_names = list(df.columns)\n",
    "        #print(column_names)\n",
    "\n",
    "        #for index, row in df.iterrows():\n",
    "            #print(df.at[index,'content']) \n",
    "\n",
    "\n",
    "\n",
    "        print(\"Getting num words...\")\n",
    "        # unique words and num before clean\n",
    "        words = df[label].str.split()\n",
    "        #print(words)\n",
    "        unique_words_before = set(word for word_list in words for word in word_list)\n",
    "        #print(type(unique_words_before))\n",
    "        #unique_words_before = set(words)\n",
    "        #print(unique_words_before)\n",
    "        #print(unique_words_before)\n",
    "        #word_counts = Counter(unique_words_before)\n",
    "        #unique_words_before_sort = sorted(word_counts.items(), key=lambda x: x[1], reverse=True)\n",
    "        #unique_words_before = [word[0] for word in unique_words_before_sort]\n",
    "        #print(unique_words_before_sort)\n",
    "        # Count the number of unique words\n",
    "        num_unique_words_before = len(unique_words_before)\n",
    "        #print(num_unique_words_before) \n",
    "        print(\"Number unique words before cleaning: \", num_unique_words_before)\n",
    "        #print(unique_words_before) \n",
    "        \n",
    "        #Number of words before clean\n",
    "        word_list_before = [word for row in df[label] for word in row]\n",
    "        # Count the number of words in the list\n",
    "        total_word_count_before = len(word_list_before)\n",
    "        print(\"Total word count before clean: \", total_word_count_before, \"\\n\")\n",
    "\n",
    "\n",
    "        print(\"Cleaning...\")\n",
    "        for index, row in df.iterrows():\n",
    "            #print(\"Before: \\n\\n\", df.at[index,'content'])\n",
    "            cleaned = clean_text(df.at[index,label])\n",
    "            df.at[index,label] = cleaned\n",
    "            #print(\"\\n\\ncleaned: \\n\\n\", cleaned)\n",
    "            #print(cleaned)\n",
    "            \n",
    "            \n",
    "        # unique words and num after clean\n",
    "        words_clean = df[label].str.split()\n",
    "        unique_words_clean = set(word for word_list in words_clean for word in word_list)\n",
    "        #unique_words_clean = words_clean\n",
    "        #word_counts_clean = Counter(unique_words_clean)\n",
    "        #unique_words_clean_sort = sorted(word_counts_clean.items(), key=lambda x: x[1], reverse=True)\n",
    "        #unique_words_clean = [word[0] for word in unique_words_clean_sort]\n",
    "        num_unique_words_clean = len(unique_words_clean)\n",
    "        print(\"Number of unique words after cleaning\", num_unique_words_clean) \n",
    "        print(\"How many percent unique words were removed \", 1-num_unique_words_clean/num_unique_words_before) \n",
    "        #print(unique_words_clean) \n",
    "\n",
    "        #Number of words after clean\n",
    "        word_list_clean = [word for row in df[label] for word in row]\n",
    "        # Count the number of words in the list\n",
    "        total_word_count_clean = len(word_list_clean)\n",
    "        print(\"Total word count after clean: \", total_word_count_clean)\n",
    "        print(\"Percent of words removed: \", 1-total_word_count_clean/total_word_count_before, \"\\n\")\n",
    "\n",
    "\n",
    "        print(\"Tokenizing and removing stopwords...\")\n",
    "        #stopped = 0\n",
    "        stop_words = set(stopwords.words('english'))\n",
    "        for index, row in df.iterrows():    \n",
    "            #print(\"\\n\\nbefore: \\n\\n\", df.at[index,'content'])\n",
    "            #print(row['content'])\n",
    "            df.at[index,label] = nltk.word_tokenize(row[label])\n",
    "            \n",
    "            filtered_sentence = []\n",
    "            for w in df.at[index,label]:\n",
    "                if w not in stop_words:\n",
    "                    filtered_sentence.append(w)\n",
    "                #else:\n",
    "                    #stopped += 1\n",
    "            \n",
    "            df.at[index,label] = filtered_sentence\n",
    "            #print(\"\\n\\nafter: \\n\\n\", filtered_sentence)\n",
    "\n",
    "        #print(\"Stopped: \", stopped)\n",
    "        # Unique words and num after stop\n",
    "        words = set(word for content in df[label] for word in content)\n",
    "        #print(words)\n",
    "        # get the set of unique words\n",
    "        unique_words_stop = set(words)\n",
    "        #word_counts_stop = Counter(unique_words_stop)\n",
    "        #unique_words_stop_sort = sorted(word_counts_stop.items(), key=lambda x: x[1], reverse=True)\n",
    "        # get the number of unique words\n",
    "        #unique_words_stop = [word[0] for word in unique_words_stop_sort]\n",
    "        num_unique_words_stop = len(unique_words_stop)\n",
    "        print(\"Number of unique words after removing stopwords: \", num_unique_words_stop)\n",
    "        print(\"How many percent were removed: \", 1-num_unique_words_stop/num_unique_words_clean)\n",
    "        #print(unique_words_stop)     \n",
    "\n",
    "        #Number of words after stopwords removed\n",
    "        word_list_stop = [word for row in df[label] for word in row]\n",
    "        # Count the number of words in the list\n",
    "        total_word_count_stop = len(word_list_stop)\n",
    "        print(\"Total word count after stopwords removed: \", total_word_count_stop)\n",
    "        print(\"Percent of words removed: \", 1-total_word_count_stop/total_word_count_clean,  \"\\n\")\n",
    "\n",
    "        print(\"Stemming\")\n",
    "        snowball = SnowballStemmer(language='english')\n",
    "        for index, row in df.iterrows():   \n",
    "            stemmed = []\n",
    "            for word in df.at[index,label]:\n",
    "                stemmed.append(snowball.stem(word))\n",
    "            df.at[index,label] = stemmed\n",
    "            #print(stemmed)\n",
    "\n",
    "\n",
    "        # concatenate all the lists into a single list of words\n",
    "        words = [word for content in df[label] for word in content]\n",
    "        # get the set of unique words\n",
    "        unique_words_stem = set(words)\n",
    "        # get the number of unique words\n",
    "        #word_counts_stem = Counter(unique_words_stem)\n",
    "        #unique_words_stem_sort = sorted(word_counts_stem.items(), key=lambda x: x[1], reverse=True)\n",
    "        #unique_words_stem = [word[0] for word in unique_words_stem_sort]\n",
    "        num_unique_words_stem = len(unique_words_stem)\n",
    "        print(\"Number of unique words after stemming: \", num_unique_words_stem)\n",
    "        print(\"How many percent were removed: \", 1-num_unique_words_stem/num_unique_words_stop)\n",
    "        #print(unique_words_stem) \n",
    "\n",
    "        #Number of words after stemming\n",
    "        word_list_stem = [word for row in df[label] for word in row]\n",
    "        # Count the number of words in the list\n",
    "        total_word_count_stem = len(word_list_stem)\n",
    "        print(\"Total word count after stemming: \", total_word_count_stem)\n",
    "        print(\"Percent of words removed: \", 1-total_word_count_stem/total_word_count_stop, \"\\n\")\n",
    "\n",
    "\n",
    "        print(\"Done...\")\n",
    "        return df, unique_words_before, unique_words_clean, unique_words_stop, unique_words_stem, total_word_count_before, total_word_count_clean, total_word_count_stop, total_word_count_stem\n",
    "        \n"
   ]
  },
  {
   "attachments": {},
   "cell_type": "markdown",
   "id": "8263a40f",
   "metadata": {},
   "source": [
    "#### Function to vectorize a set and unique words to get same dimensions\n",
    "##### X_vectoriser is a function that takes in a list of text data as input, concatenates the words in each string, and transforms the resulting text data into a sparse matrix representation using the CountVectorizer from scikit-learn. The resulting matrix can be used as input to machine learning algorithms."
   ]
  },
  {
   "cell_type": "code",
   "execution_count": 561,
   "id": "2281accd",
   "metadata": {},
   "outputs": [],
   "source": [
    "def X_vectoriser(vectee, unique_words):\n",
    "    vectee = [' '.join(words) for words in vectee]\n",
    "    vectorizer = CountVectorizer(vocabulary=unique_words)\n",
    "    vectee = vectorizer.fit_transform(vectee)\n",
    "    return vectee"
   ]
  },
  {
   "attachments": {},
   "cell_type": "markdown",
   "id": "e6a0eb1e",
   "metadata": {},
   "source": [
    "#### Function to make the labels binary.\n",
    "##### make_bin is a function that takes in a list of categorical data and converts it into a list of binary labels. The function iterates through the input list and assigns a binary label of 0 to each non-'fake' element and a label of 1 to each 'fake' element. The resulting binary labels are returned as a list, which can be used as target values for machine learning algorithms."
   ]
  },
  {
   "cell_type": "code",
   "execution_count": 562,
   "id": "818f3126",
   "metadata": {},
   "outputs": [],
   "source": [
    "def make_bin(to_bin):\n",
    "    to_bin = np.asarray(to_bin)\n",
    "    reliable = 0\n",
    "    fake = 0\n",
    "    bin_list = []\n",
    "    for i in range(len(to_bin)):\n",
    "        if to_bin[i] == \"nan\":\n",
    "            print(\"nan\")\n",
    "        if to_bin[i] == \"Na\":\n",
    "            print(\"Na\")\n",
    "        if to_bin[i] != 'fake' and to_bin[i] != 'satire' and to_bin[i] != 'conspiracy' and to_bin[i] != 'junksci' and to_bin[i] != 'hate' and to_bin[i] != 'clickbait' and to_bin[i] != 'unreliable' and to_bin[i] != 'rumor' and to_bin[i] != 'false' and to_bin[i] != 'pants-fire':\n",
    "            bin_list.append(0)\n",
    "            reliable = reliable +1\n",
    "        else:\n",
    "            bin_list.append(1)\n",
    "            fake = fake+1\n",
    "        #print(to_bin[i])\n",
    "    return bin_list, fake, reliable"
   ]
  },
  {
   "attachments": {},
   "cell_type": "markdown",
   "id": "64aabd4b",
   "metadata": {},
   "source": [
    "#### How to save data to csv file"
   ]
  },
  {
   "cell_type": "code",
   "execution_count": 563,
   "id": "b60709c8",
   "metadata": {},
   "outputs": [
    {
     "data": {
      "text/plain": [
       "\" # Save original data to CSV\\nfirst_chunk.to_csv('original_data.csv', index=False)\\n\\n# Clean the data\\ncleaned_df = clean_df(first_chunk)\\n\\n# Save cleaned data to CSV\\ncleaned_df.to_csv('cleaned_data.csv', index=False) \""
      ]
     },
     "execution_count": 563,
     "metadata": {},
     "output_type": "execute_result"
    }
   ],
   "source": [
    "\"\"\" # Save original data to CSV\n",
    "first_chunk.to_csv('original_data.csv', index=False)\n",
    "\n",
    "# Clean the data\n",
    "cleaned_df = clean_df(first_chunk)\n",
    "\n",
    "# Save cleaned data to CSV\n",
    "cleaned_df.to_csv('cleaned_data.csv', index=False) \"\"\""
   ]
  },
  {
   "attachments": {},
   "cell_type": "markdown",
   "id": "5285983a",
   "metadata": {},
   "source": [
    "## The big Dataset"
   ]
  },
  {
   "attachments": {},
   "cell_type": "markdown",
   "id": "5055f7d9",
   "metadata": {},
   "source": [
    "#### Cleaning the big dataset"
   ]
  },
  {
   "cell_type": "code",
   "execution_count": 564,
   "id": "3e5099cc",
   "metadata": {},
   "outputs": [
    {
     "name": "stdout",
     "output_type": "stream",
     "text": [
      "Getting num words...\n",
      "Number unique words before cleaning:  58198\n",
      "Total word count before clean:  3047320 \n",
      "\n",
      "Cleaning...\n",
      "Number of unique words after cleaning 29185\n",
      "How many percent unique words were removed  0.4985222859892092\n",
      "Total word count after clean:  2930803\n",
      "Percent of words removed:  0.038235892521953696 \n",
      "\n",
      "Tokenizing and removing stopwords...\n",
      "Number of unique words after removing stopwords:  29030\n",
      "How many percent were removed:  0.005310947404488564\n",
      "Total word count after stopwords removed:  283635\n",
      "Percent of words removed:  0.9032227686405399 \n",
      "\n",
      "Stemming\n",
      "Number of unique words after stemming:  19500\n",
      "How many percent were removed:  0.32828108852910787\n",
      "Total word count after stemming:  283635\n",
      "Percent of words removed:  0.0 \n",
      "\n",
      "Done...\n"
     ]
    }
   ],
   "source": [
    "big_df, unique_words_before_big, unique_words_clean_big, unique_words_stop_big, unique_words_stem_big, total_word_count_before_big, total_word_count_clean_big, total_word_count_stop_big, total_word_count_stem_big = clean_df(big_df, 'content')\n"
   ]
  },
  {
   "attachments": {},
   "cell_type": "markdown",
   "id": "5284f1dc",
   "metadata": {},
   "source": [
    "#### Getting some stats on the big dataset"
   ]
  },
  {
   "cell_type": "code",
   "execution_count": 565,
   "id": "8ef1080e",
   "metadata": {},
   "outputs": [
    {
     "name": "stdout",
     "output_type": "stream",
     "text": [
      "Counting number of urls, dates and num, and fake news and trump\n",
      "Num urls:  261\n",
      "Num num:  5931\n",
      "Num trump:  1703\n",
      "Num fake:  124\n",
      "Num notfake:  876\n"
     ]
    }
   ],
   "source": [
    "#Part 1 - Task 2\n",
    "print(\"Counting number of urls, dates and num, and fake news and trump\")\n",
    "url = 0\n",
    "num = 0\n",
    "trump=0\n",
    "fakenews = 0\n",
    "notfake = 0\n",
    "\n",
    "for index, row in big_df.iterrows():\n",
    "    for word in big_df.at[index,'content']:\n",
    "        #print(word)\n",
    "        if word == 'url':\n",
    "            url = url+1\n",
    "        if word == 'num':\n",
    "            num = num+1\n",
    "        if word == 'trump':\n",
    "            trump = trump+1\n",
    "    if big_df.at[index,'type'] == 'fake':\n",
    "        fakenews = fakenews+1\n",
    "    else:\n",
    "        notfake = notfake+1\n",
    "print(\"Num urls: \", url)\n",
    "print(\"Num num: \", num)\n",
    "print(\"Num trump: \", trump)\n",
    "print(\"Num fake: \", fakenews)\n",
    "print(\"Num notfake: \", notfake)"
   ]
  },
  {
   "attachments": {},
   "cell_type": "markdown",
   "id": "cc0b20d7",
   "metadata": {},
   "source": [
    "Visualization of the key properties of the dataset"
   ]
  },
  {
   "cell_type": "code",
   "execution_count": 566,
   "id": "eb25bb25",
   "metadata": {},
   "outputs": [
    {
     "data": {
      "image/png": "[encoded data removed]",
      "text/plain": [
       "<Figure size 1000x500 with 1 Axes>"
      ]
     },
     "metadata": {},
     "output_type": "display_data"
    }
   ],
   "source": [
    "# Plotting the bar chart \n",
    "data = {'Before cleaning': len(unique_words_before_big), 'After cleaning': len(unique_words_clean_big), 'After stopword removal': len(unique_words_stop_big), 'After stemming': len(unique_words_stem_big)}\n",
    "dataset = list(data.keys())\n",
    "values = list(data.values())\n",
    "bar(dataset, values, color = 'maroon', width = 0.5)\n",
    "plt.xlabel('Each processing step')\n",
    "plt.ylabel('Number of unique words')\n",
    "plt.title('Number of unique words after each processing step')\n",
    "plt.rcParams[\"figure.figsize\"] = [10.0, 5.0]\n",
    "font = {'size' : 14}\n",
    "plt.rc('font', **font)\n",
    "plt.show()"
   ]
  },
  {
   "cell_type": "code",
   "execution_count": 567,
   "id": "c281553c",
   "metadata": {},
   "outputs": [
    {
     "data": {
      "image/png": "[encoded data removed]",
      "text/plain": [
       "<Figure size 1000x500 with 1 Axes>"
      ]
     },
     "metadata": {},
     "output_type": "display_data"
    }
   ],
   "source": [
    "# Plotting the bar chart \n",
    "data = {'Before cleaning': total_word_count_before_big, 'After cleaning': total_word_count_clean_big, 'After stopword removal': total_word_count_stop_big, 'After stemming': total_word_count_stem_big}\n",
    "dataset = list(data.keys())\n",
    "values = list(data.values())\n",
    "bar(dataset, values, color = 'maroon', width = 0.5)\n",
    "plt.xlabel('Each preprocessing step')\n",
    "plt.ylabel('Number of words')\n",
    "plt.title('Number of words after each processing step')\n",
    "plt.rcParams[\"figure.figsize\"] = [10.0, 5.0]\n",
    "font = {'size' : 14}\n",
    "plt.rc('font', **font)\n",
    "plt.show()"
   ]
  },
  {
   "attachments": {},
   "cell_type": "markdown",
   "id": "e22729e1",
   "metadata": {},
   "source": [
    "#### Splitting the data\n",
    "##### This code splits a DataFrame df into training, validation, and testing sets, with a 80:10:10 ratio. The X variable contains the content of the articles, while the y variable contains the type of the articles (reliable/fake)."
   ]
  },
  {
   "cell_type": "code",
   "execution_count": 568,
   "id": "b09fd9d1",
   "metadata": {},
   "outputs": [],
   "source": [
    "X, y = big_df.content, big_df['type']\n",
    "\n",
    "X_train, X_temp, y_train, y_temp = train_test_split(X, y, test_size = 0.2, random_state = 0)\n",
    "X_test, X_val, y_test, y_val = train_test_split(X_temp, y_temp, test_size = 0.5, random_state = 0)\n"
   ]
  },
  {
   "attachments": {},
   "cell_type": "markdown",
   "id": "ca9e6310",
   "metadata": {},
   "source": [
    "#### Transform text big csv data into a sparse matrix representation\n",
    "##### To make predictions later"
   ]
  },
  {
   "cell_type": "code",
   "execution_count": 569,
   "id": "533a8b3b",
   "metadata": {},
   "outputs": [],
   "source": [
    "X_train_vec = X_vectoriser(X_train, unique_words_stem_big)\n",
    "X_val_vec = X_vectoriser(X_val, unique_words_stem_big)\n",
    "X_test_vec = X_vectoriser(X_test, unique_words_stem_big)"
   ]
  },
  {
   "attachments": {},
   "cell_type": "markdown",
   "id": "9b00872a",
   "metadata": {},
   "source": [
    "### Handling the labels for big data"
   ]
  },
  {
   "cell_type": "code",
   "execution_count": 570,
   "id": "e2e8bbeb",
   "metadata": {},
   "outputs": [],
   "source": [
    "y_train_bin, LabelFa, LabelRe  = make_bin(y_train)\n",
    "y_val_bin, no1, no2 = make_bin(y_val)\n",
    "y_test_bin, no3, no4 = make_bin(y_test)\n"
   ]
  },
  {
   "cell_type": "code",
   "execution_count": 571,
   "id": "f58a1cfc",
   "metadata": {},
   "outputs": [
    {
     "data": {
      "image/png": "[encoded data removed]",
      "text/plain": [
       "<Figure size 1000x500 with 1 Axes>"
      ]
     },
     "metadata": {},
     "output_type": "display_data"
    }
   ],
   "source": [
    "# Bar chart showing number of fake labels and number of reliable\n",
    "data = {'Number of articles labeled fake': LabelFa, 'Number of articles labeled reliable': LabelRe }\n",
    "labels = list(data.keys())\n",
    "values = list(data.values())\n",
    "bar(labels, values, color = 'maroon', width= 0.5)\n",
    "plt.xlabel('No. of labels')\n",
    "plt.ylabel('Type of label')\n",
    "plt.title('Number of labels for reliable or fake')\n",
    "plt.rcParams[\"figure.figsize\"] = [10.0, 5.0]\n",
    "font = {'size' : 14}\n",
    "plt.rc('font', **font)\n",
    "plt.show()"
   ]
  },
  {
   "attachments": {},
   "cell_type": "markdown",
   "id": "5d98d0a4",
   "metadata": {},
   "source": [
    "## The Liar dataset"
   ]
  },
  {
   "attachments": {},
   "cell_type": "markdown",
   "id": "b656e481",
   "metadata": {},
   "source": [
    "#### Cleaning the Liar dataset"
   ]
  },
  {
   "cell_type": "code",
   "execution_count": 572,
   "id": "44abfdcb",
   "metadata": {},
   "outputs": [
    {
     "name": "stdout",
     "output_type": "stream",
     "text": [
      "Getting num words...\n",
      "Number unique words before cleaning:  6096\n",
      "Total word count before clean:  136968 \n",
      "\n",
      "Cleaning...\n",
      "Number of unique words after cleaning 4275\n",
      "How many percent unique words were removed  0.2987204724409449\n",
      "Total word count after clean:  133657\n",
      "Percent of words removed:  0.024173529583552344 \n",
      "\n",
      "Tokenizing and removing stopwords...\n",
      "Number of unique words after removing stopwords:  4155\n",
      "How many percent were removed:  0.028070175438596467\n",
      "Total word count after stopwords removed:  14337\n",
      "Percent of words removed:  0.8927328909073224 \n",
      "\n",
      "Stemming\n",
      "Number of unique words after stemming:  3158\n",
      "How many percent were removed:  0.23995186522262335\n",
      "Total word count after stemming:  14337\n",
      "Percent of words removed:  0.0 \n",
      "\n",
      "Done...\n"
     ]
    }
   ],
   "source": [
    "#X_val_liar, k1, k2,k3, UWC = clean_df(LiarVal, 2)\n",
    "LiarVal.columns = ['col1', 'col2', 'content', 'col4', 'col5', 'col6', 'col7', 'col8', 'col9', 'col10', 'col11', 'col12', 'col13', 'col14']\n",
    "#LiarVal = LiarVal.rename(columns={2: 'content'})\n",
    "#print(\"Headers: \", LiarVal.columns.values)\n",
    "#print(LiarVal)\n",
    "Liar_df, unique_words_before_liar, unique_words_clean_liar, unique_words_stop_liar, unique_words_stem_liar, total_word_count_liar, total_word_count_liar, total_word_count_liar, total_word_count_liar = clean_df(LiarVal, 'content')"
   ]
  },
  {
   "attachments": {},
   "cell_type": "markdown",
   "id": "82b286fa",
   "metadata": {},
   "source": [
    "#### Vectorizing the liar datset"
   ]
  },
  {
   "cell_type": "code",
   "execution_count": 573,
   "id": "1e701261",
   "metadata": {},
   "outputs": [],
   "source": [
    "X_val_liar = X_vectoriser(Liar_df.content, unique_words_stem_big)"
   ]
  },
  {
   "attachments": {},
   "cell_type": "markdown",
   "id": "ce737041",
   "metadata": {},
   "source": [
    "#### Making the labels for liar dataset binary"
   ]
  },
  {
   "cell_type": "code",
   "execution_count": 574,
   "id": "7960adf0",
   "metadata": {},
   "outputs": [],
   "source": [
    "y_val_liar, no5, no6 = make_bin(LiarValLables)"
   ]
  },
  {
   "attachments": {},
   "cell_type": "markdown",
   "id": "12e24151",
   "metadata": {},
   "source": [
    "## Models:"
   ]
  },
  {
   "attachments": {},
   "cell_type": "markdown",
   "id": "eef597c9",
   "metadata": {},
   "source": [
    "### A simple logistic model:"
   ]
  },
  {
   "attachments": {},
   "cell_type": "markdown",
   "id": "c72243cc",
   "metadata": {},
   "source": [
    "#### Predicting on the FakeNewsCorpus val dataset"
   ]
  },
  {
   "cell_type": "code",
   "execution_count": 575,
   "id": "e5d92696",
   "metadata": {},
   "outputs": [
    {
     "name": "stdout",
     "output_type": "stream",
     "text": [
      "Accuracy of simple logistic regression:  0.93\n"
     ]
    }
   ],
   "source": [
    "simple_log_model = LogisticRegression(max_iter=100000)\n",
    "simple_log_model.fit(X_train_vec, y_train_bin)\n",
    "y_pred = simple_log_model.predict(X_val_vec)\n",
    "\n",
    "acc_simple_log = accuracy_score(y_val_bin, y_pred)\n",
    "print(\"Accuracy of simple logistic regression: \", acc_simple_log)\n"
   ]
  },
  {
   "attachments": {},
   "cell_type": "markdown",
   "id": "d5c37086",
   "metadata": {},
   "source": [
    "#### Predicting on the liar validation set: "
   ]
  },
  {
   "cell_type": "code",
   "execution_count": 576,
   "id": "4c3f94cf",
   "metadata": {},
   "outputs": [
    {
     "name": "stdout",
     "output_type": "stream",
     "text": [
      "0.2954014029618083\n"
     ]
    }
   ],
   "source": [
    "simple_log_model_liar = LogisticRegression(max_iter=100000)\n",
    "simple_log_model_liar.fit(X_train_vec, y_train_bin)\n",
    "y_pred = simple_log_model_liar.predict(X_val_liar)\n",
    "\n",
    "acc_simple_log = accuracy_score(y_val_liar, y_pred)\n",
    "print(accuracy_score(y_val_liar, y_pred))"
   ]
  },
  {
   "attachments": {},
   "cell_type": "markdown",
   "id": "9a4200d6",
   "metadata": {},
   "source": [
    "#### Gaussion model: (kan ikke køre med lige så meget data som den logistiske)\n"
   ]
  },
  {
   "cell_type": "code",
   "execution_count": 577,
   "id": "fd9e53e3",
   "metadata": {},
   "outputs": [
    {
     "name": "stdout",
     "output_type": "stream",
     "text": [
      "0.7\n"
     ]
    }
   ],
   "source": [
    "from sklearn.naive_bayes import GaussianNB\n",
    "from sklearn.metrics import accuracy_score\n",
    "from imblearn.under_sampling import RandomUnderSampler\n",
    "\n",
    "# create a RandomUnderSampler instance\n",
    "rus = RandomUnderSampler(random_state=0)\n",
    "\n",
    "# fit and transform the training data using RandomUnderSampler\n",
    "X_train_resampled, y_train_resampled = rus.fit_resample(X_train_vec.toarray(), y_train_bin)\n",
    "\n",
    "# train the model on the resampled data\n",
    "simple_nb_model = GaussianNB()\n",
    "simple_nb_model.fit(X_train_resampled, y_train_resampled)\n",
    "\n",
    "# make predictions on the validation data\n",
    "y_pred2 = simple_nb_model.predict(X_val_vec.toarray())\n",
    "\n",
    "# evaluate the accuracy of the model's predictions\n",
    "acc_gaus = accuracy_score(y_val_bin, y_pred2)\n",
    "print(accuracy_score(y_val_bin, y_pred2))\n"
   ]
  },
  {
   "attachments": {},
   "cell_type": "markdown",
   "id": "d7afe9e5",
   "metadata": {},
   "source": [
    "### Simlpe logistic model with meta (author and domain)"
   ]
  },
  {
   "attachments": {},
   "cell_type": "markdown",
   "id": "155d63c5",
   "metadata": {},
   "source": [
    "#### Make the data include the authors and domains"
   ]
  },
  {
   "cell_type": "code",
   "execution_count": 578,
   "id": "07331086",
   "metadata": {},
   "outputs": [],
   "source": [
    "\n",
    "for index, row in big_df.iterrows():\n",
    "    #print(\"df.at[index,'authors']\", df.at[index,'authors'])\n",
    "    if big_df.at[index,'authors'] != \"nan\":\n",
    "        split_str = str(big_df.at[index,'authors']).split(\", \")\n",
    "        for word in split_str:\n",
    "            author_str = \"authors: \" + word.lower()\n",
    "            big_df.at[index,'content'].append(author_str)\n",
    "    if  big_df.at[index,'domain'] != \"nan\":\n",
    "        domain_str = \"domain: \" + str(big_df.at[index,'domain'])\n",
    "        big_df.at[index,'content'].append(domain_str.lower())\n",
    "    \n",
    "\n",
    "#print(df['content'][1])\n",
    "\n",
    "X_meta, y_meta = big_df.content, big_df['type']\n",
    "\n",
    "\n",
    "X_train_meta, X_temp_meta, y_train_meta, y_temp_meta = train_test_split(X_meta, y_meta, test_size = 0.2, random_state = 0)\n",
    "X_test_meta, X_val_meta, y_test_meta, y_val_meta = train_test_split(X_temp_meta, y_temp_meta, test_size = 0.5, random_state = 0)\n",
    "\n",
    "\n",
    "X_train_vec_meta = X_vectoriser(X_train_meta, unique_words_stem_big)\n",
    "X_val_vec_meta = X_vectoriser(X_val_meta,unique_words_stem_big)\n",
    "X_test_vec_meta = X_vectoriser(X_test_meta, unique_words_stem_big)\n",
    "\n",
    "y_train_bin_meta, LabelFa, LabelRe  = make_bin(y_train_meta)\n",
    "y_val_bin_meta, LabelFa, LabelRe  = make_bin(y_val_meta)\n",
    "y_test_bin_meta, LabelFa, LabelRe = make_bin(y_test_meta)\n",
    "\n"
   ]
  },
  {
   "attachments": {},
   "cell_type": "markdown",
   "id": "31811b68",
   "metadata": {},
   "source": [
    "#### Predict with simple model and meta"
   ]
  },
  {
   "cell_type": "code",
   "execution_count": 579,
   "id": "b6b816d4",
   "metadata": {},
   "outputs": [
    {
     "name": "stdout",
     "output_type": "stream",
     "text": [
      "0.94\n"
     ]
    }
   ],
   "source": [
    "simple_log_model_meta = LogisticRegression(max_iter=100000)\n",
    "simple_log_model_meta.fit(X_train_vec_meta, y_train_bin_meta)\n",
    "y_pred_meta = simple_log_model_meta.predict(X_val_vec_meta)\n",
    "\n",
    "acc_simple_log_meta = accuracy_score(y_val_bin_meta, y_pred_meta)\n",
    "print(accuracy_score(y_val_bin_meta, y_pred_meta))"
   ]
  },
  {
   "attachments": {},
   "cell_type": "markdown",
   "id": "6a5122a9",
   "metadata": {},
   "source": [
    "#### Comparing the simple model without metadata and the simple model with metadata:"
   ]
  },
  {
   "cell_type": "code",
   "execution_count": 580,
   "id": "96a9ce02",
   "metadata": {},
   "outputs": [
    {
     "name": "stdout",
     "output_type": "stream",
     "text": [
      "0.6445985970381917\n"
     ]
    }
   ],
   "source": [
    "#Comparison of acc bewteen simple log models\n",
    "\n",
    "acc_diff_logs = abs(acc_simple_log_meta - acc_simple_log)\n",
    "print(acc_diff_logs)"
   ]
  },
  {
   "attachments": {},
   "cell_type": "markdown",
   "id": "b6f2e9f3",
   "metadata": {},
   "source": [
    "#### making and predicting for the Gaussian model"
   ]
  },
  {
   "cell_type": "code",
   "execution_count": 581,
   "id": "744b3430",
   "metadata": {},
   "outputs": [
    {
     "name": "stdout",
     "output_type": "stream",
     "text": [
      "0.75\n"
     ]
    }
   ],
   "source": [
    "# create a RandomUnderSampler instance\n",
    "rus_meta = RandomUnderSampler(random_state=0)\n",
    "\n",
    "# fit and transform the training data using RandomUnderSampler\n",
    "X_train_resampled_meta, y_train_resampled_meta = rus_meta.fit_resample(X_train_vec_meta.toarray(), y_train_bin_meta)\n",
    "\n",
    "# train the model on the resampled data\n",
    "simple_nb_model_meta = GaussianNB()\n",
    "simple_nb_model_meta.fit(X_train_resampled_meta, y_train_resampled_meta)\n",
    "\n",
    "# make predictions on the validation data\n",
    "y_pred2_meta = simple_nb_model_meta.predict(X_val_vec_meta.toarray())\n",
    "\n",
    "# evaluate the accuracy of the model's predictions\n",
    "acc_gaus_meta = accuracy_score(y_val_bin_meta, y_pred2_meta)\n",
    "print(accuracy_score(y_val_bin_meta, y_pred2_meta))"
   ]
  },
  {
   "attachments": {},
   "cell_type": "markdown",
   "id": "bd0b8e2c",
   "metadata": {},
   "source": [
    "#### Comparing the gaussian with and without metadata"
   ]
  },
  {
   "cell_type": "code",
   "execution_count": 582,
   "id": "757b8e55",
   "metadata": {},
   "outputs": [
    {
     "name": "stdout",
     "output_type": "stream",
     "text": [
      "0.050000000000000044\n"
     ]
    }
   ],
   "source": [
    "#Comparison of acc between simple gauss models\n",
    "#Frst run randomstate=42: 0.038000000000000034\n",
    "#Second run, randomstate=0: 0.04\n",
    "\n",
    "acc_diff_gauss = abs(acc_gaus - acc_gaus_meta)\n",
    "print(acc_diff_gauss)"
   ]
  },
  {
   "attachments": {},
   "cell_type": "markdown",
   "id": "39ca161e",
   "metadata": {},
   "source": [
    "## DEN KOMPLICEREDE MODEL:"
   ]
  },
  {
   "cell_type": "code",
   "execution_count": 583,
   "id": "90b885c6",
   "metadata": {},
   "outputs": [
    {
     "name": "stdout",
     "output_type": "stream",
     "text": [
      "Accuracy for C=0.1: 0.92\n",
      "Best C: 0.1\n",
      "              precision    recall  f1-score   support\n",
      "\n",
      "           0       0.58      0.70      0.64        10\n",
      "           1       0.97      0.94      0.96        90\n",
      "\n",
      "    accuracy                           0.92       100\n",
      "   macro avg       0.77      0.82      0.80       100\n",
      "weighted avg       0.93      0.92      0.92       100\n",
      "\n"
     ]
    },
    {
     "data": {
      "image/png": "[encoded data removed]",
      "text/plain": [
       "<Figure size 1000x500 with 2 Axes>"
      ]
     },
     "metadata": {},
     "output_type": "display_data"
    }
   ],
   "source": [
    "from sklearn.metrics import confusion_matrix, accuracy_score, classification_report\n",
    "import seaborn as sns\n",
    "\n",
    "Cs = [0.1]\n",
    "best_accuracy = 0\n",
    "best_c = 0\n",
    "best_y_pred = None\n",
    "\n",
    "for c in Cs:\n",
    "    simple_log_model = LogisticRegression(max_iter=100000, C=c, class_weight='balanced')\n",
    "    simple_log_model.fit(X_train_vec, y_train_bin)\n",
    "    y_pred = simple_log_model.predict(X_val_vec)\n",
    "    accuracy = accuracy_score(y_val_bin, y_pred)\n",
    "    print(f\"Accuracy for C={c}: {accuracy}\")\n",
    "    \n",
    "    if accuracy > best_accuracy:\n",
    "        best_accuracy = accuracy\n",
    "        best_c = c\n",
    "        best_y_pred = y_pred\n",
    "\n",
    "print(\"Best C:\", best_c)\n",
    "\n",
    "# generate class probabilities and select cutoff\n",
    "probas = simple_log_model.predict_proba(X_val_vec)\n",
    "cutoff = 0.5\n",
    "y_pred_cutoff = (probas[:,1] > cutoff).astype(int)\n",
    "\n",
    "# print classification report\n",
    "print(classification_report(y_val_bin, y_pred_cutoff))\n",
    "\n",
    "# calculate and plot confusion matrix in percentages\n",
    "conf_mat = confusion_matrix(y_val_bin, y_pred_cutoff, normalize='true')\n",
    "sns.heatmap(conf_mat, annot=True, cmap=\"YlGnBu\", xticklabels=['Reliable', 'Fake'], yticklabels=['Reliable', 'Fake'])\n",
    "plt.xlabel('Predicted label')\n",
    "plt.ylabel('True label')\n",
    "plt.title(f'Confusion Matrix (C={best_c}, cutoff={cutoff})')\n",
    "plt.show()\n"
   ]
  },
  {
   "cell_type": "code",
   "execution_count": 584,
   "id": "96b63c95",
   "metadata": {},
   "outputs": [
    {
     "data": {
      "text/plain": [
       "<AxesSubplot:>"
      ]
     },
     "execution_count": 584,
     "metadata": {},
     "output_type": "execute_result"
    },
    {
     "data": {
      "image/png": "[encoded data removed]",
      "text/plain": [
       "<Figure size 1000x500 with 2 Axes>"
      ]
     },
     "metadata": {},
     "output_type": "display_data"
    }
   ],
   "source": [
    "# calculate and plot confusion matrix with absolute values\n",
    "conf_mat1 = confusion_matrix(y_val_bin, best_y_pred)\n",
    "sns.heatmap(conf_mat1, annot=True, cmap=\"YlGnBu\")"
   ]
  }
 ],
 "metadata": {
  "kernelspec": {
   "display_name": "base",
   "language": "python",
   "name": "python3"
  },
  "language_info": {
   "codemirror_mode": {
    "name": "ipython",
    "version": 3
   },
   "file_extension": ".py",
   "mimetype": "text/x-python",
   "name": "python",
   "nbconvert_exporter": "python",
   "pygments_lexer": "ipython3",
   "version": "3.9.13"
  },
  "vscode": {
   "interpreter": {
    "hash": "40d3a090f54c6569ab1632332b64b2c03c39dcf918b08424e98f38b5ae0af88f"
   }
  }
 },
 "nbformat": 4,
 "nbformat_minor": 5
}
