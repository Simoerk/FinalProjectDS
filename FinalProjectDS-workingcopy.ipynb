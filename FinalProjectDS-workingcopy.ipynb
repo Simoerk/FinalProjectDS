{
 "cells": [
  {
   "cell_type": "code",
   "execution_count": 1,
   "id": "1ec8bc9e",
   "metadata": {},
   "outputs": [],
   "source": [
    "#1) Over 80 på rigtig model (gauss)\n",
    "#2) Hvorfor er simple logistic model så god? Fjern preprocces skridt\n",
    "#2) Evaluation: f-score, mse, acc. for både liar og bigcorp. Både val og test\n",
    "#3) Conclusion: visualizer alt i rapport\n",
    "#3) what to do with nan values.\n",
    "#4) duplicate articles\n",
    "\n",
    "#f1-score for simple logistic and gauss\n",
    "#medtag peters SVM og Neural."
   ]
  },
  {
   "attachments": {},
   "cell_type": "markdown",
   "id": "8dd40ba6",
   "metadata": {},
   "source": [
    "# Importing all packages"
   ]
  },
  {
   "cell_type": "code",
   "execution_count": 2,
   "id": "a9bb0c40",
   "metadata": {},
   "outputs": [
    {
     "ename": "KeyboardInterrupt",
     "evalue": "",
     "output_type": "error",
     "traceback": [
      "\u001b[0;31m---------------------------------------------------------------------------\u001b[0m",
      "\u001b[0;31mKeyboardInterrupt\u001b[0m                         Traceback (most recent call last)",
      "\u001b[0;32m/var/folders/r3/3zlyy5351w142fn8p5ldy2k00000gn/T/ipykernel_3624/4177323878.py\u001b[0m in \u001b[0;36m<module>\u001b[0;34m\u001b[0m\n\u001b[0;32m----> 1\u001b[0;31m \u001b[0mget_ipython\u001b[0m\u001b[0;34m(\u001b[0m\u001b[0;34m)\u001b[0m\u001b[0;34m.\u001b[0m\u001b[0mrun_line_magic\u001b[0m\u001b[0;34m(\u001b[0m\u001b[0;34m'matplotlib'\u001b[0m\u001b[0;34m,\u001b[0m \u001b[0;34m'inline'\u001b[0m\u001b[0;34m)\u001b[0m\u001b[0;34m\u001b[0m\u001b[0;34m\u001b[0m\u001b[0m\n\u001b[0m\u001b[1;32m      2\u001b[0m \u001b[0;32mimport\u001b[0m \u001b[0mre\u001b[0m\u001b[0;34m\u001b[0m\u001b[0;34m\u001b[0m\u001b[0m\n\u001b[1;32m      3\u001b[0m \u001b[0;32mimport\u001b[0m \u001b[0mmatplotlib\u001b[0m\u001b[0;34m.\u001b[0m\u001b[0mpyplot\u001b[0m \u001b[0;32mas\u001b[0m \u001b[0mplt\u001b[0m\u001b[0;34m\u001b[0m\u001b[0;34m\u001b[0m\u001b[0m\n\u001b[1;32m      4\u001b[0m \u001b[0;32mimport\u001b[0m \u001b[0mnumpy\u001b[0m \u001b[0;32mas\u001b[0m \u001b[0mnp\u001b[0m\u001b[0;34m\u001b[0m\u001b[0;34m\u001b[0m\u001b[0m\n\u001b[1;32m      5\u001b[0m \u001b[0;32mimport\u001b[0m \u001b[0mpandas\u001b[0m \u001b[0;32mas\u001b[0m \u001b[0mpd\u001b[0m\u001b[0;34m\u001b[0m\u001b[0;34m\u001b[0m\u001b[0m\n",
      "\u001b[0;32m/opt/anaconda3/lib/python3.9/site-packages/IPython/core/interactiveshell.py\u001b[0m in \u001b[0;36mrun_line_magic\u001b[0;34m(self, magic_name, line, _stack_depth)\u001b[0m\n\u001b[1;32m   2362\u001b[0m                 \u001b[0mkwargs\u001b[0m\u001b[0;34m[\u001b[0m\u001b[0;34m'local_ns'\u001b[0m\u001b[0;34m]\u001b[0m \u001b[0;34m=\u001b[0m \u001b[0mself\u001b[0m\u001b[0;34m.\u001b[0m\u001b[0mget_local_scope\u001b[0m\u001b[0;34m(\u001b[0m\u001b[0mstack_depth\u001b[0m\u001b[0;34m)\u001b[0m\u001b[0;34m\u001b[0m\u001b[0;34m\u001b[0m\u001b[0m\n\u001b[1;32m   2363\u001b[0m             \u001b[0;32mwith\u001b[0m \u001b[0mself\u001b[0m\u001b[0;34m.\u001b[0m\u001b[0mbuiltin_trap\u001b[0m\u001b[0;34m:\u001b[0m\u001b[0;34m\u001b[0m\u001b[0;34m\u001b[0m\u001b[0m\n\u001b[0;32m-> 2364\u001b[0;31m                 \u001b[0mresult\u001b[0m \u001b[0;34m=\u001b[0m \u001b[0mfn\u001b[0m\u001b[0;34m(\u001b[0m\u001b[0;34m*\u001b[0m\u001b[0margs\u001b[0m\u001b[0;34m,\u001b[0m \u001b[0;34m**\u001b[0m\u001b[0mkwargs\u001b[0m\u001b[0;34m)\u001b[0m\u001b[0;34m\u001b[0m\u001b[0;34m\u001b[0m\u001b[0m\n\u001b[0m\u001b[1;32m   2365\u001b[0m             \u001b[0;32mreturn\u001b[0m \u001b[0mresult\u001b[0m\u001b[0;34m\u001b[0m\u001b[0;34m\u001b[0m\u001b[0m\n\u001b[1;32m   2366\u001b[0m \u001b[0;34m\u001b[0m\u001b[0m\n",
      "\u001b[0;32m/opt/anaconda3/lib/python3.9/site-packages/decorator.py\u001b[0m in \u001b[0;36mfun\u001b[0;34m(*args, **kw)\u001b[0m\n\u001b[1;32m    230\u001b[0m             \u001b[0;32mif\u001b[0m \u001b[0;32mnot\u001b[0m \u001b[0mkwsyntax\u001b[0m\u001b[0;34m:\u001b[0m\u001b[0;34m\u001b[0m\u001b[0;34m\u001b[0m\u001b[0m\n\u001b[1;32m    231\u001b[0m                 \u001b[0margs\u001b[0m\u001b[0;34m,\u001b[0m \u001b[0mkw\u001b[0m \u001b[0;34m=\u001b[0m \u001b[0mfix\u001b[0m\u001b[0;34m(\u001b[0m\u001b[0margs\u001b[0m\u001b[0;34m,\u001b[0m \u001b[0mkw\u001b[0m\u001b[0;34m,\u001b[0m \u001b[0msig\u001b[0m\u001b[0;34m)\u001b[0m\u001b[0;34m\u001b[0m\u001b[0;34m\u001b[0m\u001b[0m\n\u001b[0;32m--> 232\u001b[0;31m             \u001b[0;32mreturn\u001b[0m \u001b[0mcaller\u001b[0m\u001b[0;34m(\u001b[0m\u001b[0mfunc\u001b[0m\u001b[0;34m,\u001b[0m \u001b[0;34m*\u001b[0m\u001b[0;34m(\u001b[0m\u001b[0mextras\u001b[0m \u001b[0;34m+\u001b[0m \u001b[0margs\u001b[0m\u001b[0;34m)\u001b[0m\u001b[0;34m,\u001b[0m \u001b[0;34m**\u001b[0m\u001b[0mkw\u001b[0m\u001b[0;34m)\u001b[0m\u001b[0;34m\u001b[0m\u001b[0;34m\u001b[0m\u001b[0m\n\u001b[0m\u001b[1;32m    233\u001b[0m     \u001b[0mfun\u001b[0m\u001b[0;34m.\u001b[0m\u001b[0m__name__\u001b[0m \u001b[0;34m=\u001b[0m \u001b[0mfunc\u001b[0m\u001b[0;34m.\u001b[0m\u001b[0m__name__\u001b[0m\u001b[0;34m\u001b[0m\u001b[0;34m\u001b[0m\u001b[0m\n\u001b[1;32m    234\u001b[0m     \u001b[0mfun\u001b[0m\u001b[0;34m.\u001b[0m\u001b[0m__doc__\u001b[0m \u001b[0;34m=\u001b[0m \u001b[0mfunc\u001b[0m\u001b[0;34m.\u001b[0m\u001b[0m__doc__\u001b[0m\u001b[0;34m\u001b[0m\u001b[0;34m\u001b[0m\u001b[0m\n",
      "\u001b[0;32m/opt/anaconda3/lib/python3.9/site-packages/IPython/core/magic.py\u001b[0m in \u001b[0;36m<lambda>\u001b[0;34m(f, *a, **k)\u001b[0m\n\u001b[1;32m    185\u001b[0m     \u001b[0;31m# but it's overkill for just that one bit of state.\u001b[0m\u001b[0;34m\u001b[0m\u001b[0;34m\u001b[0m\u001b[0m\n\u001b[1;32m    186\u001b[0m     \u001b[0;32mdef\u001b[0m \u001b[0mmagic_deco\u001b[0m\u001b[0;34m(\u001b[0m\u001b[0marg\u001b[0m\u001b[0;34m)\u001b[0m\u001b[0;34m:\u001b[0m\u001b[0;34m\u001b[0m\u001b[0;34m\u001b[0m\u001b[0m\n\u001b[0;32m--> 187\u001b[0;31m         \u001b[0mcall\u001b[0m \u001b[0;34m=\u001b[0m \u001b[0;32mlambda\u001b[0m \u001b[0mf\u001b[0m\u001b[0;34m,\u001b[0m \u001b[0;34m*\u001b[0m\u001b[0ma\u001b[0m\u001b[0;34m,\u001b[0m \u001b[0;34m**\u001b[0m\u001b[0mk\u001b[0m\u001b[0;34m:\u001b[0m \u001b[0mf\u001b[0m\u001b[0;34m(\u001b[0m\u001b[0;34m*\u001b[0m\u001b[0ma\u001b[0m\u001b[0;34m,\u001b[0m \u001b[0;34m**\u001b[0m\u001b[0mk\u001b[0m\u001b[0;34m)\u001b[0m\u001b[0;34m\u001b[0m\u001b[0;34m\u001b[0m\u001b[0m\n\u001b[0m\u001b[1;32m    188\u001b[0m \u001b[0;34m\u001b[0m\u001b[0m\n\u001b[1;32m    189\u001b[0m         \u001b[0;32mif\u001b[0m \u001b[0mcallable\u001b[0m\u001b[0;34m(\u001b[0m\u001b[0marg\u001b[0m\u001b[0;34m)\u001b[0m\u001b[0;34m:\u001b[0m\u001b[0;34m\u001b[0m\u001b[0;34m\u001b[0m\u001b[0m\n",
      "\u001b[0;32m/opt/anaconda3/lib/python3.9/site-packages/IPython/core/magics/pylab.py\u001b[0m in \u001b[0;36mmatplotlib\u001b[0;34m(self, line)\u001b[0m\n\u001b[1;32m     97\u001b[0m             \u001b[0mprint\u001b[0m\u001b[0;34m(\u001b[0m\u001b[0;34m\"Available matplotlib backends: %s\"\u001b[0m \u001b[0;34m%\u001b[0m \u001b[0mbackends_list\u001b[0m\u001b[0;34m)\u001b[0m\u001b[0;34m\u001b[0m\u001b[0;34m\u001b[0m\u001b[0m\n\u001b[1;32m     98\u001b[0m         \u001b[0;32melse\u001b[0m\u001b[0;34m:\u001b[0m\u001b[0;34m\u001b[0m\u001b[0;34m\u001b[0m\u001b[0m\n\u001b[0;32m---> 99\u001b[0;31m             \u001b[0mgui\u001b[0m\u001b[0;34m,\u001b[0m \u001b[0mbackend\u001b[0m \u001b[0;34m=\u001b[0m \u001b[0mself\u001b[0m\u001b[0;34m.\u001b[0m\u001b[0mshell\u001b[0m\u001b[0;34m.\u001b[0m\u001b[0menable_matplotlib\u001b[0m\u001b[0;34m(\u001b[0m\u001b[0margs\u001b[0m\u001b[0;34m.\u001b[0m\u001b[0mgui\u001b[0m\u001b[0;34m.\u001b[0m\u001b[0mlower\u001b[0m\u001b[0;34m(\u001b[0m\u001b[0;34m)\u001b[0m \u001b[0;32mif\u001b[0m \u001b[0misinstance\u001b[0m\u001b[0;34m(\u001b[0m\u001b[0margs\u001b[0m\u001b[0;34m.\u001b[0m\u001b[0mgui\u001b[0m\u001b[0;34m,\u001b[0m \u001b[0mstr\u001b[0m\u001b[0;34m)\u001b[0m \u001b[0;32melse\u001b[0m \u001b[0margs\u001b[0m\u001b[0;34m.\u001b[0m\u001b[0mgui\u001b[0m\u001b[0;34m)\u001b[0m\u001b[0;34m\u001b[0m\u001b[0;34m\u001b[0m\u001b[0m\n\u001b[0m\u001b[1;32m    100\u001b[0m             \u001b[0mself\u001b[0m\u001b[0;34m.\u001b[0m\u001b[0m_show_matplotlib_backend\u001b[0m\u001b[0;34m(\u001b[0m\u001b[0margs\u001b[0m\u001b[0;34m.\u001b[0m\u001b[0mgui\u001b[0m\u001b[0;34m,\u001b[0m \u001b[0mbackend\u001b[0m\u001b[0;34m)\u001b[0m\u001b[0;34m\u001b[0m\u001b[0;34m\u001b[0m\u001b[0m\n\u001b[1;32m    101\u001b[0m \u001b[0;34m\u001b[0m\u001b[0m\n",
      "\u001b[0;32m/opt/anaconda3/lib/python3.9/site-packages/IPython/core/interactiveshell.py\u001b[0m in \u001b[0;36menable_matplotlib\u001b[0;34m(self, gui)\u001b[0m\n\u001b[1;32m   3531\u001b[0m         \"\"\"\n\u001b[1;32m   3532\u001b[0m         \u001b[0;32mfrom\u001b[0m \u001b[0mIPython\u001b[0m\u001b[0;34m.\u001b[0m\u001b[0mcore\u001b[0m \u001b[0;32mimport\u001b[0m \u001b[0mpylabtools\u001b[0m \u001b[0;32mas\u001b[0m \u001b[0mpt\u001b[0m\u001b[0;34m\u001b[0m\u001b[0;34m\u001b[0m\u001b[0m\n\u001b[0;32m-> 3533\u001b[0;31m         \u001b[0;32mfrom\u001b[0m \u001b[0mmatplotlib_inline\u001b[0m\u001b[0;34m.\u001b[0m\u001b[0mbackend_inline\u001b[0m \u001b[0;32mimport\u001b[0m \u001b[0mconfigure_inline_support\u001b[0m\u001b[0;34m\u001b[0m\u001b[0;34m\u001b[0m\u001b[0m\n\u001b[0m\u001b[1;32m   3534\u001b[0m         \u001b[0mgui\u001b[0m\u001b[0;34m,\u001b[0m \u001b[0mbackend\u001b[0m \u001b[0;34m=\u001b[0m \u001b[0mpt\u001b[0m\u001b[0;34m.\u001b[0m\u001b[0mfind_gui_and_backend\u001b[0m\u001b[0;34m(\u001b[0m\u001b[0mgui\u001b[0m\u001b[0;34m,\u001b[0m \u001b[0mself\u001b[0m\u001b[0;34m.\u001b[0m\u001b[0mpylab_gui_select\u001b[0m\u001b[0;34m)\u001b[0m\u001b[0;34m\u001b[0m\u001b[0;34m\u001b[0m\u001b[0m\n\u001b[1;32m   3535\u001b[0m \u001b[0;34m\u001b[0m\u001b[0m\n",
      "\u001b[0;32m/opt/anaconda3/lib/python3.9/site-packages/matplotlib_inline/__init__.py\u001b[0m in \u001b[0;36m<module>\u001b[0;34m\u001b[0m\n\u001b[0;32m----> 1\u001b[0;31m \u001b[0;32mfrom\u001b[0m \u001b[0;34m.\u001b[0m \u001b[0;32mimport\u001b[0m \u001b[0mbackend_inline\u001b[0m\u001b[0;34m,\u001b[0m \u001b[0mconfig\u001b[0m  \u001b[0;31m# noqa\u001b[0m\u001b[0;34m\u001b[0m\u001b[0;34m\u001b[0m\u001b[0m\n\u001b[0m\u001b[1;32m      2\u001b[0m \u001b[0m__version__\u001b[0m \u001b[0;34m=\u001b[0m \u001b[0;34m\"0.1.6\"\u001b[0m  \u001b[0;31m# noqa\u001b[0m\u001b[0;34m\u001b[0m\u001b[0;34m\u001b[0m\u001b[0m\n",
      "\u001b[0;32m/opt/anaconda3/lib/python3.9/site-packages/matplotlib_inline/backend_inline.py\u001b[0m in \u001b[0;36m<module>\u001b[0;34m\u001b[0m\n\u001b[1;32m      4\u001b[0m \u001b[0;31m# Distributed under the terms of the BSD 3-Clause License.\u001b[0m\u001b[0;34m\u001b[0m\u001b[0;34m\u001b[0m\u001b[0m\n\u001b[1;32m      5\u001b[0m \u001b[0;34m\u001b[0m\u001b[0m\n\u001b[0;32m----> 6\u001b[0;31m \u001b[0;32mimport\u001b[0m \u001b[0mmatplotlib\u001b[0m\u001b[0;34m\u001b[0m\u001b[0;34m\u001b[0m\u001b[0m\n\u001b[0m\u001b[1;32m      7\u001b[0m \u001b[0;32mfrom\u001b[0m \u001b[0mmatplotlib\u001b[0m \u001b[0;32mimport\u001b[0m \u001b[0mcolors\u001b[0m\u001b[0;34m\u001b[0m\u001b[0;34m\u001b[0m\u001b[0m\n\u001b[1;32m      8\u001b[0m \u001b[0;32mfrom\u001b[0m \u001b[0mmatplotlib\u001b[0m\u001b[0;34m.\u001b[0m\u001b[0mbackends\u001b[0m \u001b[0;32mimport\u001b[0m \u001b[0mbackend_agg\u001b[0m\u001b[0;34m\u001b[0m\u001b[0;34m\u001b[0m\u001b[0m\n",
      "\u001b[0;32m/opt/anaconda3/lib/python3.9/site-packages/matplotlib/__init__.py\u001b[0m in \u001b[0;36m<module>\u001b[0;34m\u001b[0m\n\u001b[1;32m    102\u001b[0m \u001b[0;32mimport\u001b[0m \u001b[0mwarnings\u001b[0m\u001b[0;34m\u001b[0m\u001b[0;34m\u001b[0m\u001b[0m\n\u001b[1;32m    103\u001b[0m \u001b[0;34m\u001b[0m\u001b[0m\n\u001b[0;32m--> 104\u001b[0;31m \u001b[0;32mimport\u001b[0m \u001b[0mnumpy\u001b[0m\u001b[0;34m\u001b[0m\u001b[0;34m\u001b[0m\u001b[0m\n\u001b[0m\u001b[1;32m    105\u001b[0m \u001b[0;32mfrom\u001b[0m \u001b[0mpackaging\u001b[0m\u001b[0;34m.\u001b[0m\u001b[0mversion\u001b[0m \u001b[0;32mimport\u001b[0m \u001b[0mparse\u001b[0m \u001b[0;32mas\u001b[0m \u001b[0mparse_version\u001b[0m\u001b[0;34m\u001b[0m\u001b[0;34m\u001b[0m\u001b[0m\n\u001b[1;32m    106\u001b[0m \u001b[0;34m\u001b[0m\u001b[0m\n",
      "\u001b[0;32m/opt/anaconda3/lib/python3.9/site-packages/numpy/__init__.py\u001b[0m in \u001b[0;36m<module>\u001b[0;34m\u001b[0m\n\u001b[1;32m    151\u001b[0m     \u001b[0;32mfrom\u001b[0m \u001b[0;34m.\u001b[0m\u001b[0mcore\u001b[0m \u001b[0;32mimport\u001b[0m \u001b[0;34m*\u001b[0m\u001b[0;34m\u001b[0m\u001b[0;34m\u001b[0m\u001b[0m\n\u001b[1;32m    152\u001b[0m     \u001b[0;32mfrom\u001b[0m \u001b[0;34m.\u001b[0m \u001b[0;32mimport\u001b[0m \u001b[0mcompat\u001b[0m\u001b[0;34m\u001b[0m\u001b[0;34m\u001b[0m\u001b[0m\n\u001b[0;32m--> 153\u001b[0;31m     \u001b[0;32mfrom\u001b[0m \u001b[0;34m.\u001b[0m \u001b[0;32mimport\u001b[0m \u001b[0mlib\u001b[0m\u001b[0;34m\u001b[0m\u001b[0;34m\u001b[0m\u001b[0m\n\u001b[0m\u001b[1;32m    154\u001b[0m     \u001b[0;31m# NOTE: to be revisited following future namespace cleanup.\u001b[0m\u001b[0;34m\u001b[0m\u001b[0;34m\u001b[0m\u001b[0m\n\u001b[1;32m    155\u001b[0m     \u001b[0;31m# See gh-14454 and gh-15672 for discussion.\u001b[0m\u001b[0;34m\u001b[0m\u001b[0;34m\u001b[0m\u001b[0m\n",
      "\u001b[0;32m/opt/anaconda3/lib/python3.9/site-packages/numpy/lib/__init__.py\u001b[0m in \u001b[0;36m<module>\u001b[0;34m\u001b[0m\n\u001b[1;32m     26\u001b[0m \u001b[0;32mfrom\u001b[0m \u001b[0;34m.\u001b[0m\u001b[0mfunction_base\u001b[0m \u001b[0;32mimport\u001b[0m \u001b[0;34m*\u001b[0m\u001b[0;34m\u001b[0m\u001b[0;34m\u001b[0m\u001b[0m\n\u001b[1;32m     27\u001b[0m \u001b[0;32mfrom\u001b[0m \u001b[0;34m.\u001b[0m\u001b[0mnanfunctions\u001b[0m \u001b[0;32mimport\u001b[0m \u001b[0;34m*\u001b[0m\u001b[0;34m\u001b[0m\u001b[0;34m\u001b[0m\u001b[0m\n\u001b[0;32m---> 28\u001b[0;31m \u001b[0;32mfrom\u001b[0m \u001b[0;34m.\u001b[0m\u001b[0mshape_base\u001b[0m \u001b[0;32mimport\u001b[0m \u001b[0;34m*\u001b[0m\u001b[0;34m\u001b[0m\u001b[0;34m\u001b[0m\u001b[0m\n\u001b[0m\u001b[1;32m     29\u001b[0m \u001b[0;32mfrom\u001b[0m \u001b[0;34m.\u001b[0m\u001b[0mstride_tricks\u001b[0m \u001b[0;32mimport\u001b[0m \u001b[0;34m*\u001b[0m\u001b[0;34m\u001b[0m\u001b[0;34m\u001b[0m\u001b[0m\n\u001b[1;32m     30\u001b[0m \u001b[0;32mfrom\u001b[0m \u001b[0;34m.\u001b[0m\u001b[0mtwodim_base\u001b[0m \u001b[0;32mimport\u001b[0m \u001b[0;34m*\u001b[0m\u001b[0;34m\u001b[0m\u001b[0;34m\u001b[0m\u001b[0m\n",
      "\u001b[0;32m/opt/anaconda3/lib/python3.9/importlib/_bootstrap.py\u001b[0m in \u001b[0;36m_find_and_load\u001b[0;34m(name, import_)\u001b[0m\n",
      "\u001b[0;32m/opt/anaconda3/lib/python3.9/importlib/_bootstrap.py\u001b[0m in \u001b[0;36m_find_and_load_unlocked\u001b[0;34m(name, import_)\u001b[0m\n",
      "\u001b[0;32m/opt/anaconda3/lib/python3.9/importlib/_bootstrap.py\u001b[0m in \u001b[0;36m_load_unlocked\u001b[0;34m(spec)\u001b[0m\n",
      "\u001b[0;31mKeyboardInterrupt\u001b[0m: "
     ]
    }
   ],
   "source": [
    "%matplotlib inline\n",
    "import re\n",
    "import matplotlib.pyplot as plt\n",
    "import numpy as np\n",
    "import pandas as pd\n",
    "from cleantext import clean\n",
    "import nltk\n",
    "from nltk.corpus import stopwords\n",
    "nltk.download('stopwords')\n",
    "from nltk.stem import SnowballStemmer\n",
    "from sklearn.model_selection import train_test_split\n",
    "from sklearn.linear_model import LogisticRegression\n",
    "from sklearn.metrics import accuracy_score\n",
    "from sklearn.feature_extraction.text import CountVectorizer\n",
    "from sklearn.feature_extraction.text import TfidfVectorizer\n",
    "from matplotlib.pyplot import bar\n",
    "from matplotlib.pyplot import xticks\n",
    "from matplotlib.pyplot import show\n",
    "from sklearn.ensemble import RandomForestClassifier\n",
    "import csv\n"
   ]
  },
  {
   "attachments": {},
   "cell_type": "markdown",
   "id": "93a17193",
   "metadata": {},
   "source": [
    "# Getting The news_cleaned csv and train, val, test"
   ]
  },
  {
   "cell_type": "code",
   "execution_count": null,
   "id": "c877a920",
   "metadata": {},
   "outputs": [],
   "source": [
    "#Getting News_cleaned_2018_02_13\n",
    "csv_textfilereader = pd.read_csv('/Users/simonmork/Desktop/GitHub/FinalProjectDS/news_cleaned_2018_02_13.csv', chunksize=1000000, iterator=True)\n",
    "#big_df_1 = csv_textfilereader.get_chunk(1000000)\n",
    "#big_df_2 = csv_textfilereader.get_chunk()\n",
    "\n",
    "#first_article = big_df.iloc[0]\n",
    "#print(first_article)"
   ]
  },
  {
   "cell_type": "code",
   "execution_count": null,
   "id": "fdfbe0a3",
   "metadata": {},
   "outputs": [
    {
     "name": "stdout",
     "output_type": "stream",
     "text": [
      "Getting liar train csv...\n",
      "When did the decline of coal start? It started when natural gas took off that started to begin in (President George W.) Bushs administration.\n",
      "half-true\n"
     ]
    }
   ],
   "source": [
    "# Get Liar train datataset\n",
    "print(\"Getting liar train csv...\")\n",
    "LiarTrain = pd.read_csv('/Users/simonmork/Desktop/GitHub/FinalProjectDS/liar_dataset/train.tsv', sep='\\t')\n",
    "# Save the third column as a list\n",
    "LiarTrainArticles = LiarTrain.iloc[:, 2].values.tolist()\n",
    "LiarTrainLables = LiarTrain.iloc[:, 1].values.tolist()\n",
    "print(LiarTrainArticles[0])\n",
    "print(LiarTrainLables[0])"
   ]
  },
  {
   "cell_type": "code",
   "execution_count": null,
   "id": "d187bbe1",
   "metadata": {},
   "outputs": [
    {
     "name": "stdout",
     "output_type": "stream",
     "text": [
      "Getting liar val csv...\n",
      "When Obama was sworn into office, he DID NOT use the Holy Bible, but instead the Kuran (Their equivalency to our Bible, but very different beliefs).\n",
      "pants-fire\n"
     ]
    }
   ],
   "source": [
    "# Get Liar Val datataset\n",
    "print(\"Getting liar val csv...\")\n",
    "LiarVal = pd.read_csv('/Users/simonmork/Desktop/GitHub/FinalProjectDS/liar_dataset/valid.tsv', sep='\\t')\n",
    "# Save the third column as a list\n",
    "LiarValArticles = LiarVal.iloc[:, 2].values.tolist()\n",
    "LiarValLables = LiarVal.iloc[:, 1].values.tolist()\n",
    "print(LiarValArticles[0])\n",
    "print(LiarValLables[0])\n"
   ]
  },
  {
   "cell_type": "code",
   "execution_count": null,
   "id": "ee194e31",
   "metadata": {},
   "outputs": [
    {
     "name": "stdout",
     "output_type": "stream",
     "text": [
      "Getting liar test csv...\n",
      "<class 'pandas.core.frame.DataFrame'>\n",
      "Wisconsin is on pace to double the number of layoffs this year.\n",
      "false\n"
     ]
    }
   ],
   "source": [
    "# Get Liar test datataset\n",
    "print(\"Getting liar test csv...\")\n",
    "LiarTest = pd.read_csv('/Users/simonmork/Desktop/GitHub/FinalProjectDS/liar_dataset/test.tsv', sep='\\t')\n",
    "\n",
    "\n",
    "\n",
    "\n",
    "print(type(LiarTest))\n",
    "# Save the third column as a list\n",
    "LiarTestArticles = LiarTest.iloc[:, 2].values.tolist()\n",
    "LiarTestLables = LiarTest.iloc[:, 1].values.tolist()\n",
    "print(LiarTestArticles[0])\n",
    "print(LiarTestLables[0])\n"
   ]
  },
  {
   "attachments": {},
   "cell_type": "markdown",
   "id": "7a23b49d",
   "metadata": {},
   "source": [
    "# Defining all the functions we need"
   ]
  },
  {
   "attachments": {},
   "cell_type": "markdown",
   "id": "505de534",
   "metadata": {},
   "source": [
    "#### The cleantext function specifications"
   ]
  },
  {
   "cell_type": "code",
   "execution_count": null,
   "id": "9bb4d92b",
   "metadata": {},
   "outputs": [
    {
     "name": "stdout",
     "output_type": "stream",
     "text": [
      "Done\n"
     ]
    }
   ],
   "source": [
    "# Define settings for cleaning\n",
    "def clean_text(text):\n",
    "    \"\"\"Calls the clean function from cleantext clean on a string\"\"\"\n",
    "    t = clean(text,\n",
    "    fix_unicode=True,               # fix various unicode errors\n",
    "    to_ascii=True,                  # transliterate to closest ASCII representation\n",
    "    lower=True,                     # lowercase text\n",
    "    no_line_breaks=True,         # fully strip line breaks as opposed to only normalizing them NOT WORKING?\n",
    "    no_urls=True,                  # replace all URLs with a special token\n",
    "    no_emails=True,                # replace all email addresses with a special token\n",
    "    no_phone_numbers=False,         # replace all phone numbers with a special token\n",
    "    no_numbers=True,               # replace all numbers with a special token\n",
    "    no_digits=False,                # replace all digits with a special token\n",
    "    no_currency_symbols=False,      # replace all currency symbols with a special token\n",
    "    no_punct=True,                 # remove punctuations\n",
    "    replace_with_punct=\"\",          # instead of removing punctuations you may replace them\n",
    "    replace_with_url=\"URL\",\n",
    "    replace_with_email=\"EMAIL\",\n",
    "    replace_with_phone_number=\"PHONE\",\n",
    "    replace_with_number=\"NUM\",\n",
    "    replace_with_digit=\"0\",\n",
    "    replace_with_currency_symbol=\"CUR\",\n",
    "    lang=\"en\",                       # set to 'de' for German special handling\n",
    "    )\n",
    "    return t\n",
    "\n",
    "\n",
    "pd.set_option(\"display.max_colwidth\", 10000000)    \n",
    "print(\"Done\")    "
   ]
  },
  {
   "attachments": {},
   "cell_type": "markdown",
   "id": "3e6feea7",
   "metadata": {},
   "source": [
    "#### The clean articles funtionality. Not used atm."
   ]
  },
  {
   "cell_type": "code",
   "execution_count": null,
   "id": "614e9267",
   "metadata": {},
   "outputs": [],
   "source": [
    "def clean_article_texts(article_texts):\n",
    "    # Download stopwords and initialize stemmer\n",
    "    stop_words = set(stopwords.words('english'))\n",
    "    snowball = SnowballStemmer(language='english')\n",
    "\n",
    "    words_before = []\n",
    "    unique_words_before = []\n",
    "    words_clean = []\n",
    "    unique_words_clean = []\n",
    "    words = []\n",
    "    unique_words = []\n",
    "\n",
    "\n",
    "\n",
    "    for article in article_texts:\n",
    "        #Get number of words and unique words before clean\n",
    "        words_before.extend(article)\n",
    "        unique_words_before_set =  set(word for word_list in article for word in word_list)\n",
    "        unique_words_before.extend(unique_words_before_set) \n",
    "        \n",
    "\n",
    "        # Clean the text\n",
    "        cleaned = clean_text(article)      \n",
    "        \n",
    "        #Get number of words and unique words after clean  \n",
    "        words_clean.extend(cleaned.split())\n",
    "        unique_words_clean_set = set(word for word_list in article for word in word_list)\n",
    "        unique_words_clean.extend(unique_words_clean_set) \n",
    "        \n",
    "\n",
    "        # Tokenize the text\n",
    "        words = nltk.word_tokenize(cleaned)\n",
    "\n",
    "        # Remove stopwords and stem the words\n",
    "        filtered_words = [snowball.stem(word.lower()) for word in words if word.lower() not in stop_words]        \n",
    "        words.append(filtered_words)\n",
    "        unique_words_set = [word for words in filtered_words for word in words]\n",
    "        unique_words.append(unique_words_set)\n",
    "        \n",
    "\n",
    "    return words_before, unique_words_before, words_clean, unique_words_clean, filtered_words, unique_words\n",
    "\n"
   ]
  },
  {
   "attachments": {},
   "cell_type": "markdown",
   "id": "cfeff71b",
   "metadata": {},
   "source": [
    "#### The clean function for a df column"
   ]
  },
  {
   "cell_type": "code",
   "execution_count": null,
   "id": "1731ad76",
   "metadata": {},
   "outputs": [],
   "source": [
    "    # Clean dataframe function\n",
    "def clean_df(df, label):\n",
    "        column_names = list(df.columns)\n",
    "\n",
    "        print(\"Getting num words...\")\n",
    "        # unique words and num before clean\n",
    "        words = df[label].str.split()\n",
    "\n",
    "        unique_words_before = set(word for word_list in words for word in word_list)\n",
    "    \n",
    "        # Count the number of unique words\n",
    "        num_unique_words_before = len(unique_words_before)\n",
    "        print(\"Number unique words before cleaning: \", num_unique_words_before)\n",
    "        \n",
    "        #Number of words before clean\n",
    "        word_list_before = [word for row in df[label] for word in row]\n",
    "        # Count the number of words in the list\n",
    "        total_word_count_before = len(word_list_before)\n",
    "        print(\"Total word count before clean: \", total_word_count_before, \"\\n\")\n",
    "\n",
    "\n",
    "        print(\"Cleaning...\")\n",
    "        for index, row in df.iterrows():\n",
    "            cleaned = clean_text(df.at[index,label])\n",
    "            df.at[index,label] = cleaned\n",
    "            \n",
    "            \n",
    "        # unique words and num after clean\n",
    "        words_clean = df[label].str.split()\n",
    "        unique_words_clean = set(word for word_list in words_clean for word in word_list)\n",
    "        num_unique_words_clean = len(unique_words_clean)\n",
    "        print(\"Number of unique words after cleaning\", num_unique_words_clean) \n",
    "        print(\"How many percent unique words were removed \", 1-num_unique_words_clean/num_unique_words_before) \n",
    "\n",
    "\n",
    "        #Number of words after clean\n",
    "        word_list_clean = [word for row in df[label] for word in row]\n",
    "        # Count the number of words in the list\n",
    "        total_word_count_clean = len(word_list_clean)\n",
    "        print(\"Total word count after clean: \", total_word_count_clean)\n",
    "        print(\"Percent of words removed: \", 1-total_word_count_clean/total_word_count_before, \"\\n\")\n",
    "\n",
    "\n",
    "        print(\"Tokenizing and removing stopwords...\")\n",
    "        stop_words = set(stopwords.words('english'))\n",
    "        for index, row in df.iterrows():    \n",
    "            df.at[index,label] = nltk.word_tokenize(row[label])\n",
    "            \n",
    "            filtered_sentence = []\n",
    "            for w in df.at[index,label]:\n",
    "                if w not in stop_words:\n",
    "                    filtered_sentence.append(w)\n",
    "            \n",
    "            df.at[index,label] = filtered_sentence\n",
    "\n",
    "        # Unique words and num after stop\n",
    "        words = set(word for content in df[label] for word in content)\n",
    "        # get the set of unique words\n",
    "        unique_words_stop = set(words)\n",
    "        num_unique_words_stop = len(unique_words_stop)\n",
    "        print(\"Number of unique words after removing stopwords: \", num_unique_words_stop)\n",
    "        print(\"How many percent were removed: \", 1-num_unique_words_stop/num_unique_words_clean)  \n",
    "\n",
    "        #Number of words after stopwords removed\n",
    "        word_list_stop = [word for row in df[label] for word in row]\n",
    "        # Count the number of words in the list\n",
    "        total_word_count_stop = len(word_list_stop)\n",
    "        print(\"Total word count after stopwords removed: \", total_word_count_stop)\n",
    "        print(\"Percent of words removed: \", 1-total_word_count_stop/total_word_count_clean,  \"\\n\")\n",
    "\n",
    "        print(\"Stemming\")\n",
    "        snowball = SnowballStemmer(language='english')\n",
    "        for index, row in df.iterrows():   \n",
    "            stemmed = []\n",
    "            for word in df.at[index,label]:\n",
    "                stemmed.append(snowball.stem(word))\n",
    "            df.at[index,label] = stemmed\n",
    "\n",
    "\n",
    "        # concatenate all the lists into a single list of words\n",
    "        words = [word for content in df[label] for word in content]\n",
    "        # get the set of unique words\n",
    "        unique_words_stem = set(words)\n",
    "        # get the number of unique words\n",
    "        num_unique_words_stem = len(unique_words_stem)\n",
    "        print(\"Number of unique words after stemming: \", num_unique_words_stem)\n",
    "        print(\"How many percent were removed: \", 1-num_unique_words_stem/num_unique_words_stop)\n",
    "\n",
    "        #Number of words after stemming\n",
    "        word_list_stem = [word for row in df[label] for word in row]\n",
    "        # Count the number of words in the list\n",
    "        total_word_count_stem = len(word_list_stem)\n",
    "        print(\"Total word count after stemming: \", total_word_count_stem)\n",
    "        print(\"Percent of words removed: \", 1-total_word_count_stem/total_word_count_stop, \"\\n\")\n",
    "\n",
    "\n",
    "        \n",
    "\n",
    "\n",
    "        print(\"Done...\")\n",
    "\n",
    "\n",
    "        return df, unique_words_before, unique_words_clean, unique_words_stop, unique_words_stem, total_word_count_before, total_word_count_clean, total_word_count_stop, total_word_count_stem\n",
    "        \n"
   ]
  },
  {
   "attachments": {},
   "cell_type": "markdown",
   "id": "8263a40f",
   "metadata": {},
   "source": [
    "#### Function to vectorize a set and unique words to get same dimensions\n",
    "##### X_vectoriser is a function that takes in a list of text data as input, concatenates the words in each string, and transforms the resulting text data into a sparse matrix representation using the CountVectorizer from scikit-learn. The resulting matrix can be used as input to machine learning algorithms."
   ]
  },
  {
   "cell_type": "code",
   "execution_count": null,
   "id": "2281accd",
   "metadata": {},
   "outputs": [],
   "source": [
    "def X_vectoriser(vectee, unique_words):\n",
    "    vectee = [' '.join(words) for words in vectee]\n",
    "    vectorizer = CountVectorizer(vocabulary=unique_words)\n",
    "    vectee = vectorizer.fit_transform(vectee)\n",
    "    return vectee"
   ]
  },
  {
   "attachments": {},
   "cell_type": "markdown",
   "id": "e6a0eb1e",
   "metadata": {},
   "source": [
    "#### Function to make the labels binary.\n",
    "##### make_bin is a function that takes in a list of categorical data and converts it into a list of binary labels. The function iterates through the input list and assigns a binary label of 0 to each non-'fake' element and a label of 1 to each 'fake' element. The resulting binary labels are returned as a list, which can be used as target values for machine learning algorithms."
   ]
  },
  {
   "cell_type": "code",
   "execution_count": null,
   "id": "818f3126",
   "metadata": {},
   "outputs": [],
   "source": [
    "def make_bin(to_bin):\n",
    "    to_bin = np.asarray(to_bin)\n",
    "    reliable = 0\n",
    "    fake = 0\n",
    "    bin_list = []\n",
    "    for i in range(len(to_bin)):\n",
    "        if to_bin[i] == \"nan\":\n",
    "            print(\"nan\")\n",
    "        if to_bin[i] == \"Na\":\n",
    "            print(\"Na\")\n",
    "        if to_bin[i] != 'fake' and to_bin[i] != 'satire' and to_bin[i] != 'conspiracy' and to_bin[i] != 'junksci' and to_bin[i] != 'hate' and to_bin[i] != 'clickbait' and to_bin[i] != 'unreliable' and to_bin[i] != 'rumor' and to_bin[i] != 'false' and to_bin[i] != 'pants-fire' and to_bin[i]!='nan':\n",
    "            bin_list.append(0)\n",
    "            reliable = reliable +1\n",
    "        else:\n",
    "            bin_list.append(1)\n",
    "            fake = fake+1\n",
    "        #print(to_bin[i])\n",
    "    return bin_list, fake, reliable"
   ]
  },
  {
   "attachments": {},
   "cell_type": "markdown",
   "id": "64aabd4b",
   "metadata": {},
   "source": [
    "#### How to save data to csv file"
   ]
  },
  {
   "cell_type": "code",
   "execution_count": null,
   "id": "b60709c8",
   "metadata": {},
   "outputs": [
    {
     "data": {
      "text/plain": [
       "\" # Save original data to CSV\\nfirst_chunk.to_csv('original_data.csv', index=False)\\n\\n# Clean the data\\ncleaned_df = clean_df(first_chunk)\\n\\n# Save cleaned data to CSV\\ncleaned_df.to_csv('cleaned_data.csv', index=False) \""
      ]
     },
     "execution_count": 54,
     "metadata": {},
     "output_type": "execute_result"
    }
   ],
   "source": [
    "\"\"\" # Save original data to CSV\n",
    "first_chunk.to_csv('original_data.csv', index=False)\n",
    "\n",
    "# Clean the data\n",
    "cleaned_df = clean_df(first_chunk)\n",
    "\n",
    "# Save cleaned data to CSV\n",
    "cleaned_df.to_csv('cleaned_data.csv', index=False) \"\"\""
   ]
  },
  {
   "attachments": {},
   "cell_type": "markdown",
   "id": "5285983a",
   "metadata": {},
   "source": [
    "## The big Dataset"
   ]
  },
  {
   "attachments": {},
   "cell_type": "markdown",
   "id": "5055f7d9",
   "metadata": {},
   "source": [
    "#### Cleaning the big dataset"
   ]
  },
  {
   "cell_type": "code",
   "execution_count": null,
   "id": "3e5099cc",
   "metadata": {},
   "outputs": [
    {
     "name": "stderr",
     "output_type": "stream",
     "text": [
      "/var/folders/r3/3zlyy5351w142fn8p5ldy2k00000gn/T/ipykernel_3489/3774776525.py:11: DtypeWarning: Columns (0,1,2,3,4,5,6,7,8,9,10,12,13,14) have mixed types. Specify dtype option on import or set low_memory=False.\n",
      "  all_of_df = csv_textfilereader.get_chunk(1000000)\n"
     ]
    },
    {
     "ename": "",
     "evalue": "",
     "output_type": "error",
     "traceback": [
      "\u001b[1;31mCanceled future for execute_request message before replies were done"
     ]
    },
    {
     "ename": "",
     "evalue": "",
     "output_type": "error",
     "traceback": [
      "\u001b[1;31mThe Kernel crashed while executing code in the the current cell or a previous cell. Please review the code in the cell(s) to identify a possible cause of the failure. Click <a href='https://aka.ms/vscodeJupyterKernelCrash'>here</a> for more info. View Jupyter <a href='command:jupyter.viewOutput'>log</a> for further details."
     ]
    }
   ],
   "source": [
    "unique_words_before_big = []\n",
    "unique_words_clean_big = []\n",
    "unique_words_stop_big = []\n",
    "unique_words_big = []\n",
    "\n",
    "total_word_count_before_big = 0\n",
    "total_word_count_clean_big = 0\n",
    "total_word_count_stop_big = 0\n",
    "total_word_count_stem_big = 0\n",
    "\n",
    "all_of_df = csv_textfilereader.get_chunk(1000000)\n",
    "chunks = [all_of_df.iloc[j:j+100000] for j in range(0, 1000000, 100000)]\n",
    "for chunk in chunks:\n",
    "\n",
    "    df, unique_words_before, unique_words_clean, unique_words_stop, unique_words_stem, total_word_count_before, total_word_count_clean, total_word_count_stop, total_word_count_stem = clean_df(chunk, 'content')\n",
    "    df = df.fillna(value={\"content\": \"UNKNOWN\", \"type\": \"UNKNOWN\"})\n",
    "\n",
    "    df.to_csv('big_df.csv', mode='a')\n",
    "\n",
    "    unique_words_before_big.extend(unique_words_before)\n",
    "    unique_words_clean_big.extend(unique_words_clean)\n",
    "    unique_words_stop_big.extend(unique_words_stop)\n",
    "    unique_words_big.extend(unique_words_stem)\n",
    "\n",
    "    total_word_count_before_big += total_word_count_before\n",
    "    total_word_count_clean_big += total_word_count_clean\n",
    "    total_word_count_stop_big += total_word_count_stop\n",
    "    total_word_count_stem_big += total_word_count_stem\n",
    "\n",
    "\n",
    "big_df = pd.read_csv('/Users/simonmork/Desktop/GitHub/FinalProjectDS/df.csv', chunksize=1000000, iterator=True)"
   ]
  },
  {
   "attachments": {},
   "cell_type": "markdown",
   "id": "5284f1dc",
   "metadata": {},
   "source": [
    "#### Getting some stats on the big dataset"
   ]
  },
  {
   "cell_type": "code",
   "execution_count": null,
   "id": "8ef1080e",
   "metadata": {},
   "outputs": [
    {
     "name": "stdout",
     "output_type": "stream",
     "text": [
      "Counting number of urls, dates and num, and fake news and trump\n",
      "Num urls:  261\n",
      "Num num:  5931\n",
      "Num trump:  1703\n",
      "Num fake:  124\n",
      "Num notfake:  876\n"
     ]
    }
   ],
   "source": [
    "#Part 1 - Task 2\n",
    "print(\"Counting number of urls, dates and num, and fake news and trump\")\n",
    "url = 0\n",
    "num = 0\n",
    "trump=0\n",
    "fakenews = 0\n",
    "notfake = 0\n",
    "\n",
    "for index, row in big_df.iterrows():\n",
    "    for word in big_df.at[index,'content']:\n",
    "        #print(word)\n",
    "        if word == 'url':\n",
    "            url = url+1\n",
    "        if word == 'num':\n",
    "            num = num+1\n",
    "        if word == 'trump':\n",
    "            trump = trump+1\n",
    "    if big_df.at[index,'type'] == 'fake':\n",
    "        fakenews = fakenews+1\n",
    "    else:\n",
    "        notfake = notfake+1\n",
    "print(\"Num urls: \", url)\n",
    "print(\"Num num: \", num)\n",
    "print(\"Num trump: \", trump)\n",
    "print(\"Num fake: \", fakenews)\n",
    "print(\"Num notfake: \", notfake)"
   ]
  },
  {
   "attachments": {},
   "cell_type": "markdown",
   "id": "cc0b20d7",
   "metadata": {},
   "source": [
    "Visualization of the key properties of the dataset"
   ]
  },
  {
   "cell_type": "code",
   "execution_count": null,
   "id": "eb25bb25",
   "metadata": {},
   "outputs": [
    {
     "data": {
      "image/png": "[encoded data removed]",
      "text/plain": [
       "<Figure size 640x480 with 1 Axes>"
      ]
     },
     "metadata": {},
     "output_type": "display_data"
    }
   ],
   "source": [
    "# Plotting the bar chart \n",
    "data = {'Before cleaning': len(unique_words_before_big), 'After cleaning': len(unique_words_clean_big), 'After stopword removal': len(unique_words_stop_big), 'After stemming': len(unique_words_stem_big)}\n",
    "dataset = list(data.keys())\n",
    "values = list(data.values())\n",
    "bar(dataset, values, color = 'maroon', width = 0.5)\n",
    "plt.xlabel('Each processing step')\n",
    "plt.ylabel('Number of unique words')\n",
    "plt.title('Number of unique words after each processing step')\n",
    "plt.rcParams[\"figure.figsize\"] = [10.0, 5.0]\n",
    "font = {'size' : 14}\n",
    "plt.rc('font', **font)\n",
    "plt.show()"
   ]
  },
  {
   "cell_type": "code",
   "execution_count": null,
   "id": "c281553c",
   "metadata": {},
   "outputs": [
    {
     "data": {
      "image/png": "[encoded data removed]",
      "text/plain": [
       "<Figure size 1000x500 with 1 Axes>"
      ]
     },
     "metadata": {},
     "output_type": "display_data"
    }
   ],
   "source": [
    "# Plotting the bar chart \n",
    "data = {'Before cleaning': total_word_count_before_big, 'After cleaning': total_word_count_clean_big, 'After stopword removal': total_word_count_stop_big, 'After stemming': total_word_count_stem_big}\n",
    "dataset = list(data.keys())\n",
    "values = list(data.values())\n",
    "bar(dataset, values, color = 'maroon', width = 0.5)\n",
    "plt.xlabel('Each preprocessing step')\n",
    "plt.ylabel('Number of words')\n",
    "plt.title('Number of words after each processing step')\n",
    "plt.rcParams[\"figure.figsize\"] = [10.0, 5.0]\n",
    "font = {'size' : 14}\n",
    "plt.rc('font', **font)\n",
    "plt.show()"
   ]
  },
  {
   "attachments": {},
   "cell_type": "markdown",
   "id": "e22729e1",
   "metadata": {},
   "source": [
    "#### Splitting the data\n",
    "##### This code splits a DataFrame df into training, validation, and testing sets, with a 80:10:10 ratio. The X variable contains the content of the articles, while the y variable contains the type of the articles (reliable/fake)."
   ]
  },
  {
   "cell_type": "code",
   "execution_count": null,
   "id": "b09fd9d1",
   "metadata": {},
   "outputs": [],
   "source": [
    "X, y = big_df.content, big_df['type']\n",
    "\n",
    "X_train, X_temp, y_train, y_temp = train_test_split(X, y, test_size = 0.2, random_state = 0)\n",
    "X_test, X_val, y_test, y_val = train_test_split(X_temp, y_temp, test_size = 0.5, random_state = 0)\n"
   ]
  },
  {
   "attachments": {},
   "cell_type": "markdown",
   "id": "ca9e6310",
   "metadata": {},
   "source": [
    "#### Transform text big csv data into a sparse matrix representation\n",
    "##### To make predictions later"
   ]
  },
  {
   "cell_type": "code",
   "execution_count": null,
   "id": "533a8b3b",
   "metadata": {},
   "outputs": [],
   "source": [
    "X_train_vec = X_vectoriser(X_train, unique_words_stem_big)\n",
    "X_val_vec = X_vectoriser(X_val, unique_words_stem_big)\n",
    "X_test_vec = X_vectoriser(X_test, unique_words_stem_big)"
   ]
  },
  {
   "attachments": {},
   "cell_type": "markdown",
   "id": "9b00872a",
   "metadata": {},
   "source": [
    "### Handling the labels for big data"
   ]
  },
  {
   "cell_type": "code",
   "execution_count": null,
   "id": "e2e8bbeb",
   "metadata": {},
   "outputs": [],
   "source": [
    "y_train_bin, LabelFa, LabelRe  = make_bin(y_train)\n",
    "y_val_bin, no1, no2 = make_bin(y_val)\n",
    "y_test_bin, no3, no4 = make_bin(y_test)\n"
   ]
  },
  {
   "cell_type": "code",
   "execution_count": null,
   "id": "f58a1cfc",
   "metadata": {},
   "outputs": [
    {
     "data": {
      "image/png": "[encoded data removed]",
      "text/plain": [
       "<Figure size 1000x500 with 1 Axes>"
      ]
     },
     "metadata": {},
     "output_type": "display_data"
    }
   ],
   "source": [
    "# Bar chart showing number of fake labels and number of reliable\n",
    "data = {'Number of articles labeled fake': LabelFa, 'Number of articles labeled reliable': LabelRe }\n",
    "labels = list(data.keys())\n",
    "values = list(data.values())\n",
    "bar(labels, values, color = 'maroon', width= 0.5)\n",
    "plt.xlabel('No. of labels')\n",
    "plt.ylabel('Type of label')\n",
    "plt.title('Number of labels for reliable or fake')\n",
    "plt.rcParams[\"figure.figsize\"] = [10.0, 5.0]\n",
    "font = {'size' : 14}\n",
    "plt.rc('font', **font)\n",
    "plt.show()"
   ]
  },
  {
   "attachments": {},
   "cell_type": "markdown",
   "id": "5d98d0a4",
   "metadata": {},
   "source": [
    "## The Liar dataset"
   ]
  },
  {
   "attachments": {},
   "cell_type": "markdown",
   "id": "b656e481",
   "metadata": {},
   "source": [
    "#### Cleaning the Liar dataset"
   ]
  },
  {
   "cell_type": "code",
   "execution_count": null,
   "id": "44abfdcb",
   "metadata": {},
   "outputs": [
    {
     "name": "stdout",
     "output_type": "stream",
     "text": [
      "Getting num words...\n",
      "Number unique words before cleaning:  6096\n",
      "Total word count before clean:  136968 \n",
      "\n",
      "Cleaning...\n",
      "Number of unique words after cleaning 4275\n",
      "How many percent unique words were removed  0.2987204724409449\n",
      "Total word count after clean:  133657\n",
      "Percent of words removed:  0.024173529583552344 \n",
      "\n",
      "Tokenizing and removing stopwords...\n",
      "Number of unique words after removing stopwords:  4155\n",
      "How many percent were removed:  0.028070175438596467\n",
      "Total word count after stopwords removed:  14337\n",
      "Percent of words removed:  0.8927328909073224 \n",
      "\n",
      "Stemming\n",
      "Number of unique words after stemming:  3158\n",
      "How many percent were removed:  0.23995186522262335\n",
      "Total word count after stemming:  14337\n",
      "Percent of words removed:  0.0 \n",
      "\n",
      "Done...\n"
     ]
    }
   ],
   "source": [
    "#X_val_liar, k1, k2,k3, UWC = clean_df(LiarVal, 2)\n",
    "LiarVal.columns = ['col1', 'col2', 'content', 'col4', 'col5', 'col6', 'col7', 'col8', 'col9', 'col10', 'col11', 'col12', 'col13', 'col14']\n",
    "#LiarVal = LiarVal.rename(columns={2: 'content'})\n",
    "#print(\"Headers: \", LiarVal.columns.values)\n",
    "#print(LiarVal)\n",
    "Liar_df, unique_words_before_liar, unique_words_clean_liar, unique_words_stop_liar, unique_words_stem_liar, total_word_count_liar, total_word_count_liar, total_word_count_liar, total_word_count_liar = clean_df(LiarVal, 'content')"
   ]
  },
  {
   "attachments": {},
   "cell_type": "markdown",
   "id": "82b286fa",
   "metadata": {},
   "source": [
    "#### Vectorizing the liar datset"
   ]
  },
  {
   "cell_type": "code",
   "execution_count": null,
   "id": "1e701261",
   "metadata": {},
   "outputs": [],
   "source": [
    "X_val_liar = X_vectoriser(Liar_df.content, unique_words_stem_big)"
   ]
  },
  {
   "attachments": {},
   "cell_type": "markdown",
   "id": "ce737041",
   "metadata": {},
   "source": [
    "#### Making the labels for liar dataset binary"
   ]
  },
  {
   "cell_type": "code",
   "execution_count": null,
   "id": "7960adf0",
   "metadata": {},
   "outputs": [],
   "source": [
    "y_val_liar, no5, no6 = make_bin(LiarValLables)"
   ]
  },
  {
   "attachments": {},
   "cell_type": "markdown",
   "id": "12e24151",
   "metadata": {},
   "source": [
    "## Models:"
   ]
  },
  {
   "attachments": {},
   "cell_type": "markdown",
   "id": "eef597c9",
   "metadata": {},
   "source": [
    "### A simple logistic model:"
   ]
  },
  {
   "attachments": {},
   "cell_type": "markdown",
   "id": "c72243cc",
   "metadata": {},
   "source": [
    "#### Training on FakeNewsCorpus and predicting on the FakeNewsCorpus val dataset"
   ]
  },
  {
   "cell_type": "code",
   "execution_count": null,
   "id": "e5d92696",
   "metadata": {},
   "outputs": [
    {
     "name": "stdout",
     "output_type": "stream",
     "text": [
      "Accuracy of simple logistic regression:  0.93\n"
     ]
    }
   ],
   "source": [
    "simple_log_model = LogisticRegression(max_iter=100000)\n",
    "simple_log_model.fit(X_train_vec, y_train_bin)\n",
    "y_pred = simple_log_model.predict(X_val_vec)\n",
    "\n",
    "acc_simple_log = accuracy_score(y_val_bin, y_pred)\n",
    "print(\"Accuracy of simple logistic regression: \", acc_simple_log)\n"
   ]
  },
  {
   "attachments": {},
   "cell_type": "markdown",
   "id": "d5c37086",
   "metadata": {},
   "source": [
    "#### Training on FakeNewsCorpus and Predicting on the liar validation set: "
   ]
  },
  {
   "cell_type": "code",
   "execution_count": null,
   "id": "4c3f94cf",
   "metadata": {},
   "outputs": [
    {
     "name": "stdout",
     "output_type": "stream",
     "text": [
      "0.2954014029618083\n"
     ]
    }
   ],
   "source": [
    "simple_log_model_liar = LogisticRegression(max_iter=100000)\n",
    "simple_log_model_liar.fit(X_train_vec, y_train_bin)\n",
    "y_pred = simple_log_model_liar.predict(X_val_liar)\n",
    "\n",
    "acc_simple_log_liar = accuracy_score(y_val_liar, y_pred)\n",
    "print(accuracy_score(y_val_liar, y_pred))"
   ]
  },
  {
   "attachments": {},
   "cell_type": "markdown",
   "id": "d7afe9e5",
   "metadata": {},
   "source": [
    "### Simlpe logistic model with meta (author and domain)"
   ]
  },
  {
   "attachments": {},
   "cell_type": "markdown",
   "id": "155d63c5",
   "metadata": {},
   "source": [
    "#### Make the data include the authors and domains"
   ]
  },
  {
   "cell_type": "code",
   "execution_count": null,
   "id": "07331086",
   "metadata": {},
   "outputs": [],
   "source": [
    "\n",
    "for index, row in big_df.iterrows():\n",
    "    #print(\"df.at[index,'authors']\", df.at[index,'authors'])\n",
    "    if big_df.at[index,'authors'] != \"nan\":\n",
    "        split_str = str(big_df.at[index,'authors']).split(\", \")\n",
    "        for word in split_str:\n",
    "            author_str = \"authors: \" + word.lower()\n",
    "            big_df.at[index,'content'].append(author_str)\n",
    "    if  big_df.at[index,'domain'] != \"nan\":\n",
    "        domain_str = \"domain: \" + str(big_df.at[index,'domain'])\n",
    "        big_df.at[index,'content'].append(domain_str.lower())\n",
    "    \n",
    "\n",
    "#print(df['content'][1])\n",
    "\n",
    "X_meta, y_meta = big_df.content, big_df['type']\n",
    "\n",
    "\n",
    "X_train_meta, X_temp_meta, y_train_meta, y_temp_meta = train_test_split(X_meta, y_meta, test_size = 0.2, random_state = 0)\n",
    "X_test_meta, X_val_meta, y_test_meta, y_val_meta = train_test_split(X_temp_meta, y_temp_meta, test_size = 0.5, random_state = 0)\n",
    "\n",
    "\n",
    "X_train_vec_meta = X_vectoriser(X_train_meta, unique_words_stem_big)\n",
    "X_val_vec_meta = X_vectoriser(X_val_meta,unique_words_stem_big)\n",
    "X_test_vec_meta = X_vectoriser(X_test_meta, unique_words_stem_big)\n",
    "\n",
    "y_train_bin_meta, LabelFa, LabelRe  = make_bin(y_train_meta)\n",
    "y_val_bin_meta, LabelFa, LabelRe  = make_bin(y_val_meta)\n",
    "y_test_bin_meta, LabelFa, LabelRe = make_bin(y_test_meta)\n",
    "\n"
   ]
  },
  {
   "attachments": {},
   "cell_type": "markdown",
   "id": "31811b68",
   "metadata": {},
   "source": [
    "#### Predict with simple model and meta"
   ]
  },
  {
   "cell_type": "code",
   "execution_count": null,
   "id": "b6b816d4",
   "metadata": {},
   "outputs": [
    {
     "name": "stdout",
     "output_type": "stream",
     "text": [
      "0.94\n"
     ]
    }
   ],
   "source": [
    "simple_log_model_meta = LogisticRegression(max_iter=100000)\n",
    "simple_log_model_meta.fit(X_train_vec_meta, y_train_bin_meta)\n",
    "y_pred_meta = simple_log_model_meta.predict(X_val_vec_meta)\n",
    "\n",
    "acc_simple_log_meta = accuracy_score(y_val_bin_meta, y_pred_meta)\n",
    "print(accuracy_score(y_val_bin_meta, y_pred_meta))"
   ]
  },
  {
   "attachments": {},
   "cell_type": "markdown",
   "id": "6a5122a9",
   "metadata": {},
   "source": [
    "#### Comparing the simple model without metadata and the simple model with metadata:"
   ]
  },
  {
   "cell_type": "code",
   "execution_count": null,
   "id": "96a9ce02",
   "metadata": {},
   "outputs": [
    {
     "name": "stdout",
     "output_type": "stream",
     "text": [
      "0.009999999999999898\n"
     ]
    }
   ],
   "source": [
    "#Comparison of acc bewteen simple log models\n",
    "\n",
    "acc_diff_logs = abs(acc_simple_log_meta - acc_simple_log)\n",
    "print(acc_diff_logs)"
   ]
  },
  {
   "attachments": {},
   "cell_type": "markdown",
   "id": "9a4200d6",
   "metadata": {},
   "source": [
    "#### Gaussion model: (kan ikke køre med lige så meget data som den logistiske)\n"
   ]
  },
  {
   "cell_type": "code",
   "execution_count": null,
   "id": "fd9e53e3",
   "metadata": {},
   "outputs": [
    {
     "name": "stdout",
     "output_type": "stream",
     "text": [
      "0.7\n"
     ]
    }
   ],
   "source": [
    "from sklearn.naive_bayes import GaussianNB\n",
    "from sklearn.metrics import accuracy_score\n",
    "from imblearn.under_sampling import RandomUnderSampler\n",
    "\n",
    "# create a RandomUnderSampler instance\n",
    "rus = RandomUnderSampler(random_state=0)\n",
    "\n",
    "# fit and transform the training data using RandomUnderSampler\n",
    "X_train_resampled, y_train_resampled = rus.fit_resample(X_train_vec.toarray(), y_train_bin)\n",
    "\n",
    "# train the model on the resampled data\n",
    "simple_nb_model = GaussianNB()\n",
    "simple_nb_model.fit(X_train_resampled, y_train_resampled)\n",
    "\n",
    "# make predictions on the validation data\n",
    "y_pred_gauss = simple_nb_model.predict(X_val_vec.toarray())\n",
    "\n",
    "# evaluate the accuracy of the model's predictions\n",
    "acc_gauss = accuracy_score(y_val_bin, y_pred_gauss)\n",
    "print(accuracy_score(y_val_bin, y_pred_gauss))\n"
   ]
  },
  {
   "attachments": {},
   "cell_type": "markdown",
   "id": "ce4439f0",
   "metadata": {},
   "source": [
    "#### predicting the gaussian model on the liar dataset"
   ]
  },
  {
   "cell_type": "code",
   "execution_count": null,
   "id": "33f6dafa",
   "metadata": {},
   "outputs": [
    {
     "name": "stdout",
     "output_type": "stream",
     "text": [
      "0.4333593141075604\n"
     ]
    }
   ],
   "source": [
    "y_pred_gauss_liar = simple_nb_model.predict(X_val_liar.toarray())\n",
    "\n",
    "# evaluate the accuracy of the model's predictions on liar\n",
    "acc_gauss_liar = accuracy_score(y_val_liar, y_pred_gauss_liar)\n",
    "print(acc_gauss_liar)"
   ]
  },
  {
   "attachments": {},
   "cell_type": "markdown",
   "id": "b6f2e9f3",
   "metadata": {},
   "source": [
    "#### making and predicting for the Gaussian model with meta"
   ]
  },
  {
   "cell_type": "code",
   "execution_count": null,
   "id": "744b3430",
   "metadata": {},
   "outputs": [
    {
     "name": "stdout",
     "output_type": "stream",
     "text": [
      "0.75\n"
     ]
    }
   ],
   "source": [
    "# create a RandomUnderSampler instance\n",
    "rus_meta = RandomUnderSampler(random_state=0)\n",
    "\n",
    "# fit and transform the training data using RandomUnderSampler\n",
    "X_train_resampled_meta, y_train_resampled_meta = rus_meta.fit_resample(X_train_vec_meta.toarray(), y_train_bin_meta)\n",
    "\n",
    "# train the model on the resampled data\n",
    "simple_nb_model_meta = GaussianNB()\n",
    "simple_nb_model_meta.fit(X_train_resampled_meta, y_train_resampled_meta)\n",
    "\n",
    "# make predictions on the validation data\n",
    "y_pred2_meta = simple_nb_model_meta.predict(X_val_vec_meta.toarray())\n",
    "\n",
    "# evaluate the accuracy of the model's predictions\n",
    "acc_gaus_meta = accuracy_score(y_val_bin_meta, y_pred2_meta)\n",
    "print(accuracy_score(y_val_bin_meta, y_pred2_meta))"
   ]
  },
  {
   "attachments": {},
   "cell_type": "markdown",
   "id": "bd0b8e2c",
   "metadata": {},
   "source": [
    "#### Comparing the gaussian with and without metadata"
   ]
  },
  {
   "cell_type": "code",
   "execution_count": null,
   "id": "757b8e55",
   "metadata": {},
   "outputs": [
    {
     "name": "stdout",
     "output_type": "stream",
     "text": [
      "0.050000000000000044\n"
     ]
    }
   ],
   "source": [
    "#Comparison of acc between simple gauss models\n",
    "#Frst run randomstate=42: 0.038000000000000034\n",
    "#Second run, randomstate=0: 0.04\n",
    "\n",
    "acc_diff_gauss = abs(acc_gauss - acc_gaus_meta)\n",
    "print(acc_diff_gauss)"
   ]
  },
  {
   "attachments": {},
   "cell_type": "markdown",
   "id": "8f3c2b8b",
   "metadata": {},
   "source": [
    "#### Random forrest classifer model:"
   ]
  },
  {
   "cell_type": "code",
   "execution_count": null,
   "id": "bce5187c",
   "metadata": {},
   "outputs": [
    {
     "name": "stdout",
     "output_type": "stream",
     "text": [
      "Model is trained\n"
     ]
    }
   ],
   "source": [
    "# RandomForest model\n",
    "\n",
    "import pandas as pd\n",
    "from sklearn.model_selection import train_test_split\n",
    "from sklearn.ensemble import RandomForestClassifier\n",
    "from sklearn.feature_extraction.text import CountVectorizer\n",
    "\n",
    "\n",
    "# Train a Random Forest model\n",
    "rfc = RandomForestClassifier(n_estimators=100, random_state=42)\n",
    "rfc.fit(X_train_vec, y_train_bin)\n",
    "print(\"Model is trained\")\n",
    "\n",
    "#output notes: Accuracy: 0.764 when nrows=10.000, runtime 47.8s\n",
    "#output notes: Accuracy: 0.8575 when nrows=20.000, runtime 1m 53.3s\n",
    "\n"
   ]
  },
  {
   "attachments": {},
   "cell_type": "markdown",
   "id": "2ad97129",
   "metadata": {},
   "source": [
    "#### Evaluate the forrest model on the validation for the big fake news corpus"
   ]
  },
  {
   "cell_type": "code",
   "execution_count": null,
   "id": "fea59f3d",
   "metadata": {},
   "outputs": [
    {
     "name": "stdout",
     "output_type": "stream",
     "text": [
      "Accuracy: 0.95\n"
     ]
    }
   ],
   "source": [
    "# Evaluate the model on big corpus\n",
    "y_pred_forrest = rfc.predict(X_val_vec)\n",
    "acc_forrest = accuracy_score(y_val_bin, y_pred_forrest)\n",
    "print('Accuracy:', acc_forrest)"
   ]
  },
  {
   "attachments": {},
   "cell_type": "markdown",
   "id": "90bac5b7",
   "metadata": {},
   "source": [
    "#### Evaluate the forrest model on liar valid "
   ]
  },
  {
   "cell_type": "code",
   "execution_count": null,
   "id": "dba635f4",
   "metadata": {},
   "outputs": [
    {
     "name": "stdout",
     "output_type": "stream",
     "text": [
      "Accuracy: 0.2954014029618083\n"
     ]
    }
   ],
   "source": [
    "# Evaluate the model on liar corpus\n",
    "y_pred_forrest_liar = rfc.predict(X_val_liar)\n",
    "acc_forrest = accuracy_score(y_val_liar, y_pred_forrest_liar)\n",
    "print('Accuracy:', acc_forrest)"
   ]
  },
  {
   "attachments": {},
   "cell_type": "markdown",
   "id": "f22c6b16",
   "metadata": {},
   "source": [
    "#### Evaluate the forrest model on big corpus with included metadata"
   ]
  },
  {
   "cell_type": "code",
   "execution_count": null,
   "id": "83698091",
   "metadata": {},
   "outputs": [
    {
     "name": "stdout",
     "output_type": "stream",
     "text": [
      "Accuracy: 0.94\n"
     ]
    }
   ],
   "source": [
    "# Train and evaluate the model on liar corpus\n",
    "rfc.fit(X_train_vec_meta, y_train_bin_meta)\n",
    "y_pred_forrest_meta = rfc.predict(X_val_vec)\n",
    "acc_forrest = accuracy_score(y_val_bin, y_pred_forrest_meta)\n",
    "print('Accuracy:', acc_forrest)"
   ]
  },
  {
   "attachments": {},
   "cell_type": "markdown",
   "id": "5b7e4a49",
   "metadata": {},
   "source": [
    "#### Support vector machine model:"
   ]
  },
  {
   "cell_type": "code",
   "execution_count": null,
   "id": "ad23ca98",
   "metadata": {},
   "outputs": [],
   "source": []
  },
  {
   "attachments": {},
   "cell_type": "markdown",
   "id": "269ac332",
   "metadata": {},
   "source": [
    "#### Neural Network model"
   ]
  },
  {
   "cell_type": "code",
   "execution_count": null,
   "id": "505d08c0",
   "metadata": {},
   "outputs": [],
   "source": []
  },
  {
   "attachments": {},
   "cell_type": "markdown",
   "id": "39ca161e",
   "metadata": {},
   "source": [
    "## DEN KOMPLICEREDE MODEL schematic:"
   ]
  },
  {
   "cell_type": "code",
   "execution_count": null,
   "id": "90b885c6",
   "metadata": {},
   "outputs": [
    {
     "name": "stdout",
     "output_type": "stream",
     "text": [
      "Accuracy for C=0.1: 0.92\n",
      "Best C: 0.1\n",
      "              precision    recall  f1-score   support\n",
      "\n",
      "           0       0.58      0.70      0.64        10\n",
      "           1       0.97      0.94      0.96        90\n",
      "\n",
      "    accuracy                           0.92       100\n",
      "   macro avg       0.77      0.82      0.80       100\n",
      "weighted avg       0.93      0.92      0.92       100\n",
      "\n"
     ]
    },
    {
     "data": {
      "image/png": "[encoded data removed]",
      "text/plain": [
       "<Figure size 1000x500 with 2 Axes>"
      ]
     },
     "metadata": {},
     "output_type": "display_data"
    }
   ],
   "source": [
    "from sklearn.metrics import confusion_matrix, accuracy_score, classification_report\n",
    "import seaborn as sns\n",
    "\n",
    "Cs = [0.1]\n",
    "best_accuracy = 0\n",
    "best_c = 0\n",
    "best_y_pred = None\n",
    "\n",
    "for c in Cs:\n",
    "    simple_log_model = LogisticRegression(max_iter=100000, C=c, class_weight='balanced')\n",
    "    simple_log_model.fit(X_train_vec, y_train_bin)\n",
    "    y_pred = simple_log_model.predict(X_val_vec)\n",
    "    accuracy = accuracy_score(y_val_bin, y_pred)\n",
    "    print(f\"Accuracy for C={c}: {accuracy}\")\n",
    "    \n",
    "    if accuracy > best_accuracy:\n",
    "        best_accuracy = accuracy\n",
    "        best_c = c\n",
    "        best_y_pred = y_pred\n",
    "\n",
    "print(\"Best C:\", best_c)\n",
    "\n",
    "# generate class probabilities and select cutoff\n",
    "probas = simple_log_model.predict_proba(X_val_vec)\n",
    "cutoff = 0.5\n",
    "y_pred_cutoff = (probas[:,1] > cutoff).astype(int)\n",
    "\n",
    "# print classification report\n",
    "print(classification_report(y_val_bin, y_pred_cutoff))\n",
    "\n",
    "# calculate and plot confusion matrix in percentages\n",
    "conf_mat = confusion_matrix(y_val_bin, y_pred_cutoff, normalize='true')\n",
    "sns.heatmap(conf_mat, annot=True, cmap=\"YlGnBu\", xticklabels=['Reliable', 'Fake'], yticklabels=['Reliable', 'Fake'])\n",
    "plt.xlabel('Predicted label')\n",
    "plt.ylabel('True label')\n",
    "plt.title(f'Confusion Matrix (C={best_c}, cutoff={cutoff})')\n",
    "plt.show()\n"
   ]
  },
  {
   "cell_type": "code",
   "execution_count": null,
   "id": "96b63c95",
   "metadata": {},
   "outputs": [
    {
     "data": {
      "text/plain": [
       "<AxesSubplot:>"
      ]
     },
     "execution_count": 38,
     "metadata": {},
     "output_type": "execute_result"
    },
    {
     "data": {
      "image/png": "[encoded data removed]",
      "text/plain": [
       "<Figure size 1000x500 with 2 Axes>"
      ]
     },
     "metadata": {},
     "output_type": "display_data"
    }
   ],
   "source": [
    "# calculate and plot confusion matrix with absolute values\n",
    "conf_mat1 = confusion_matrix(y_val_bin, best_y_pred)\n",
    "sns.heatmap(conf_mat1, annot=True, cmap=\"YlGnBu\")"
   ]
  }
 ],
 "metadata": {
  "kernelspec": {
   "display_name": "base",
   "language": "python",
   "name": "python3"
  },
  "language_info": {
   "codemirror_mode": {
    "name": "ipython",
    "version": 3
   },
   "file_extension": ".py",
   "mimetype": "text/x-python",
   "name": "python",
   "nbconvert_exporter": "python",
   "pygments_lexer": "ipython3",
   "version": "3.9.13"
  },
  "vscode": {
   "interpreter": {
    "hash": "40d3a090f54c6569ab1632332b64b2c03c39dcf918b08424e98f38b5ae0af88f"
   }
  }
 },
 "nbformat": 4,
 "nbformat_minor": 5
}
