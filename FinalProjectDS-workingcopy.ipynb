{
 "cells": [
  {
   "cell_type": "code",
   "execution_count": 708,
   "id": "1ec8bc9e",
   "metadata": {},
   "outputs": [],
   "source": [
    "#1) Regroup labels?\n",
    "#2) Lav rigtig model. Hvad indebærer det? parameter, preprocessing, model?\n",
    "#3) Evaluation and Conclusion\n",
    "#4) Kør på liar, why is liar train, val, test? HVordan og hvorledes med Liar?\n",
    "#5) More of the dataset?\n",
    "#6) fake vs reliable histogram\n",
    "#7) mest brugte ord inden og efter clean, osv\n",
    "#8) nan values"
   ]
  },
  {
   "cell_type": "code",
   "execution_count": 709,
   "id": "a9bb0c40",
   "metadata": {},
   "outputs": [
    {
     "name": "stderr",
     "output_type": "stream",
     "text": [
      "[nltk_data] Downloading package stopwords to\n",
      "[nltk_data]     C:\\Users\\Baxe\\AppData\\Roaming\\nltk_data...\n",
      "[nltk_data]   Package stopwords is already up-to-date!\n"
     ]
    }
   ],
   "source": [
    "%matplotlib inline\n",
    "import re\n",
    "import matplotlib.pyplot as plt\n",
    "import numpy as np\n",
    "import pandas as pd\n",
    "from collections import Counter\n",
    "from cleantext import clean\n",
    "import nltk\n",
    "from nltk.corpus import stopwords\n",
    "nltk.download('stopwords')\n",
    "from nltk.stem import SnowballStemmer\n",
    "from collections import Counter\n",
    "import subprocess\n",
    "import zipfile\n",
    "import io\n",
    "import csv\n",
    "import zipfile38 as zipfile\n",
    "from dask import dataframe as dd\n",
    "from sklearn.model_selection import train_test_split\n",
    "import h5py\n",
    "from sklearn.linear_model import LogisticRegression\n",
    "from sklearn.metrics import accuracy_score\n",
    "from sklearn.feature_extraction.text import CountVectorizer\n",
    "from sklearn.feature_extraction.text import TfidfVectorizer\n",
    "from matplotlib.pyplot import bar\n",
    "from matplotlib.pyplot import xticks\n",
    "from matplotlib.pyplot import show\n",
    "import itertools, sys\n",
    "from collections import Counter\n"
   ]
  },
  {
   "cell_type": "code",
   "execution_count": 710,
   "id": "dfa15bbf",
   "metadata": {
    "scrolled": false
   },
   "outputs": [
    {
     "name": "stdout",
     "output_type": "stream",
     "text": [
      "Done\n"
     ]
    }
   ],
   "source": [
    "# Define settings for cleaning\n",
    "def clean_text(text):\n",
    "    \"\"\"Calls the clean function from cleantext clean on a string\"\"\"\n",
    "    t = clean(text,\n",
    "    fix_unicode=True,               # fix various unicode errors\n",
    "    to_ascii=True,                  # transliterate to closest ASCII representation\n",
    "    lower=True,                     # lowercase text\n",
    "    no_line_breaks=True,         # fully strip line breaks as opposed to only normalizing them NOT WORKING?\n",
    "    no_urls=True,                  # replace all URLs with a special token\n",
    "    no_emails=True,                # replace all email addresses with a special token\n",
    "    no_phone_numbers=False,         # replace all phone numbers with a special token\n",
    "    no_numbers=True,               # replace all numbers with a special token\n",
    "    no_digits=False,                # replace all digits with a special token\n",
    "    no_currency_symbols=False,      # replace all currency symbols with a special token\n",
    "    no_punct=True,                 # remove punctuations\n",
    "    replace_with_punct=\"\",          # instead of removing punctuations you may replace them\n",
    "    replace_with_url=\"URL\",\n",
    "    replace_with_email=\"EMAIL\",\n",
    "    replace_with_phone_number=\"PHONE\",\n",
    "    replace_with_number=\"NUM\",\n",
    "    replace_with_digit=\"0\",\n",
    "    replace_with_currency_symbol=\"CUR\",\n",
    "    lang=\"en\",                       # set to 'de' for German special handling\n",
    "    )\n",
    "    return t\n",
    "\n",
    "\n",
    "pd.set_option(\"display.max_colwidth\", 10000000)    \n",
    "print(\"Done\")    \n",
    "    \n"
   ]
  },
  {
   "cell_type": "code",
   "execution_count": 711,
   "id": "b27fedea",
   "metadata": {},
   "outputs": [
    {
     "data": {
      "text/plain": [
       "' #Small df\\nprint(\"Getting csv...\")\\ndf = pd.read_csv(\\'https://raw.githubusercontent.com/several27/FakeNewsCorpus/master/news_sample.csv\\')\\nprint(type(df)) '"
      ]
     },
     "execution_count": 711,
     "metadata": {},
     "output_type": "execute_result"
    }
   ],
   "source": [
    "\"\"\" #Small df\n",
    "print(\"Getting csv...\")\n",
    "df = pd.read_csv('https://raw.githubusercontent.com/several27/FakeNewsCorpus/master/news_sample.csv')\n",
    "print(type(df)) \"\"\""
   ]
  },
  {
   "cell_type": "code",
   "execution_count": 712,
   "id": "c877a920",
   "metadata": {},
   "outputs": [
    {
     "name": "stdout",
     "output_type": "stream",
     "text": [
      "Unnamed: 0                                                                                                                                                                                                                                                                                                                                                                                                                                                                                                                                                                                                                                                                                                                                                                                             0\n",
      "id                                                                                                                                                                                                                                                                                                                                                                                                                                                                                                                                                                                                                                                                                                                                                                                                     2\n",
      "domain                                                                                                                                                                                                                                                                                                                                                                                                                                                                                                                                                                                                                                                                                                                                                                                     express.co.uk\n",
      "type                                                                                                                                                                                                                                                                                                                                                                                                                                                                                                                                                                                                                                                                                                                                                                                               rumor\n",
      "url                                                                                                                                                                                                                                                                                                                                                                                                                                                                                                                                                                                                                                                                                   https://www.express.co.uk/news/science/738402/life-an-ILLUSION-reality-does-not-exist-if-you-are-not-looking-at-it\n",
      "content             Life is an illusion, at least on a quantum level, in a theory which has recently been confirmed by a set of researchers.\\n\\nThey finally have the means to test John Wheeler’s delayed-choice theory and concluded that the physicist was right.\\n\\nIn 1978, Mr Wheeler’s proposed experiment involved a moving object that was given the choice to act like a wave or a particle – the former acting as a vibration with a frequency that can distinguish it from other waves and the latter having no frequency that you can determine its position in space, unlike a wave – and at what point does it ‘decide’ to act like one or the other.\\n\\nAt the time, the technology was not available to conduct a strong experiment, but scientists have now been able to carry it out.\n",
      "scraped_at                                                                                                                                                                                                                                                                                                                                                                                                                                                                                                                                                                                                                                                                                                                                                                    2018-01-25 16:17:44.789555\n",
      "inserted_at                                                                                                                                                                                                                                                                                                                                                                                                                                                                                                                                                                                                                                                                                                                                                                   2018-02-02 01:19:41.756632\n",
      "updated_at                                                                                                                                                                                                                                                                                                                                                                                                                                                                                                                                                                                                                                                                                                                                                                    2018-02-02 01:19:41.756664\n",
      "title                                                                                                                                                                                                                                                                                                                                                                                                                                                                                                                                                                                                                                                                                                         Is life an ILLUSION? Researchers prove 'reality doesn't exist if you're not looking at it'\n",
      "authors                                                                                                                                                                                                                                                                                                                                                                                                                                                                                                                                                                                                                                                                                                                                                                                      Sean Martin\n",
      "keywords                                                                                                                                                                                                                                                                                                                                                                                                                                                                                                                                                                                                                                                                                                                                                                                             NaN\n",
      "meta_keywords                                                                                                                                                                                                                                                                                                                                                                                                                                                                                                                                                                                                                                                                                                                                                                                       ['']\n",
      "meta_description                                                                                                                                                                                                                                                                                                                                                                                                                                                                                                                                                                                                                                                                    THE UNIVERSE ceases to exist when we are not looking at it proving that life is an illusion, according to one study.\n",
      "tags                                                                                                                                                                                                                                                                                                                                                                                                                                                                                                                                                                                                                                                                                                                                                                                                 NaN\n",
      "summary                                                                                                                                                                                                                                                                                                                                                                                                                                                                                                                                                                                                                                                                                                                                                                                              NaN\n",
      "source                                                                                                                                                                                                                                                                                                                                                                                                                                                                                                                                                                                                                                                                                                                                                                                               NaN\n",
      "Name: 0, dtype: object\n"
     ]
    }
   ],
   "source": [
    "csv_textfilereader = pd.read_csv(r'C:\\Users\\Baxe\\Documents\\Uni\\DataScience\\Aflevering3\\git\\news_cleaned_2018_02_13.csv', chunksize=1000000, iterator=True)\n",
    "first_chunk = csv_textfilereader.get_chunk(10000)\n",
    "first_article = first_chunk.iloc[0]\n",
    "print(first_article)"
   ]
  },
  {
   "cell_type": "code",
   "execution_count": 713,
   "id": "d187bbe1",
   "metadata": {},
   "outputs": [
    {
     "name": "stdout",
     "output_type": "stream",
     "text": [
      "Getting csv...\n",
      "When Obama was sworn into office, he DID NOT use the Holy Bible, but instead the Kuran (Their equivalency to our Bible, but very different beliefs).\n",
      "pants-fire\n"
     ]
    }
   ],
   "source": [
    "#Small df\n",
    "print(\"Getting csv...\")\n",
    "LiarVal = pd.read_csv(r'C:\\Users\\Baxe\\Documents\\Uni\\DataScience\\Aflevering3\\git\\valid.tsv', sep='\\t')\n",
    "#save the third column as a list\n",
    "LiarValArticles = LiarVal.iloc[:, 2].values.tolist()\n",
    "LiarValLables = LiarVal.iloc[:, 1].values.tolist()\n",
    "print(LiarValArticles[0])\n",
    "print(LiarValLables[0])\n"
   ]
  },
  {
   "cell_type": "code",
   "execution_count": 714,
   "id": "1d59ae19",
   "metadata": {},
   "outputs": [],
   "source": [
    "article_texts = df['content'].tolist()"
   ]
  },
  {
   "cell_type": "code",
   "execution_count": 715,
   "id": "614e9267",
   "metadata": {},
   "outputs": [],
   "source": [
    "\n",
    "\n",
    "def clean_article_texts(article_texts):\n",
    "    # Download stopwords and initialize stemmer\n",
    "    nltk.download('stopwords')\n",
    "    stop_words = set(stopwords.words('english'))\n",
    "    snowball = SnowballStemmer(language='english')\n",
    "\n",
    "    cleaned_texts = []\n",
    "    for article in article_texts:\n",
    "        # Clean the text\n",
    "        cleaned = clean_text(article)\n",
    "\n",
    "        # Tokenize the text\n",
    "        words = nltk.word_tokenize(cleaned)\n",
    "\n",
    "        # Remove stopwords and stem the words\n",
    "        filtered_words = [snowball.stem(word.lower()) for word in words if word.lower() not in stop_words]\n",
    "\n",
    "        # Concatenate the filtered words into a single string\n",
    "        cleaned_text = ' '.join(filtered_words)\n",
    "        cleaned_texts.append(cleaned_text)\n",
    "\n",
    "    return cleaned_texts\n",
    "\n"
   ]
  },
  {
   "cell_type": "code",
   "execution_count": 716,
   "id": "092cc917",
   "metadata": {},
   "outputs": [
    {
     "data": {
      "text/plain": [
       "'     # Clean dataframe function\\ndef clean_df(df):\\n        print(\"Getting num words...\")\\n        words = df[\\'content\\'].str.split()\\n        print(words)\\n        unique_words_before = set(word for word_list in words for word in word_list)\\n\\n        num_unique_words_before = len(unique_words_before)\\n        print(\"Number unique words before cleaning: \", num_unique_words_before)\\n\\n        print(\"Cleaning...\")\\n        for index, row in df.iterrows():\\n            cleaned = clean_text(df.at[index,\\'content\\'])\\n            df.at[index,\\'content\\'] = cleaned\\n            \\n        words_clean = df[\\'content\\'].str.split()\\n        unique_words_clean = set(word for word_list in words_clean for word in word_list)\\n\\n        num_unique_words_clean = len(unique_words_clean)\\n        print(\"Number of unique words after cleaning\", num_unique_words_clean) \\n        print(\"How many percent unique words were removed \", 1-num_unique_words_clean/num_unique_words_before) \\n\\n\\n        print(\"Tokenizing and removing stopwords...\")\\n        stop_words = set(stopwords.words(\\'english\\'))\\n        for index, row in df.iterrows():    \\n            df.at[index,\\'content\\'] = nltk.word_tokenize(row[\\'content\\'])\\n            \\n            filtered_sentence = []\\n            for w in df.at[index,\\'content\\']:\\n                if w not in stop_words:\\n                    filtered_sentence.append(w)\\n            \\n            df.at[index,\\'content\\'] = filtered_sentence\\n            \\n        # Unique words and num after stop\\n        words = set(word for content in df[\\'content\\'] for word in content)\\n\\n        # get the set of unique words\\n        unique_words_stop = set(words)\\n\\n        num_unique_words_stop = len(unique_words_stop)\\n        print(\"Number of unique words after removing stopwords: \", num_unique_words_stop)\\n        print(\"How many percent were removed: \", 1-num_unique_words_stop/num_unique_words_clean)\\n\\n        print(\"Stemming\")\\n        snowball = SnowballStemmer(language=\\'english\\')\\n        for index, row in df.iterrows():   \\n            stemmed = []\\n            for word in df.at[index,\\'content\\']:\\n                stemmed.append(snowball.stem(word))\\n            df.at[index,\\'content\\'] = stemmed\\n\\n        # concatenate all the lists into a single list of words\\n        words = [word for content in df[\\'content\\'] for word in content]\\n        # get the set of unique words\\n        unique_words_stem = set(words)\\n        # get the number of unique words\\n\\n        num_unique_words_stem = len(unique_words_stem)\\n        print(\"Number of unique words after stemming: \", num_unique_words_stem)\\n        print(\"How many percent were removed: \", 1-num_unique_words_stem/num_unique_words_stop)\\n\\n\\n        print(\"Done...\")\\n        return df, unique_words_before, unique_words_clean, unique_words_stop, unique_words_stem \\n        \\n '"
      ]
     },
     "execution_count": 716,
     "metadata": {},
     "output_type": "execute_result"
    }
   ],
   "source": [
    "\"\"\"     # Clean dataframe function\n",
    "def clean_df(df):\n",
    "        print(\"Getting num words...\")\n",
    "        words = df['content'].str.split()\n",
    "        print(words)\n",
    "        unique_words_before = set(word for word_list in words for word in word_list)\n",
    "\n",
    "        num_unique_words_before = len(unique_words_before)\n",
    "        print(\"Number unique words before cleaning: \", num_unique_words_before)\n",
    "\n",
    "        print(\"Cleaning...\")\n",
    "        for index, row in df.iterrows():\n",
    "            cleaned = clean_text(df.at[index,'content'])\n",
    "            df.at[index,'content'] = cleaned\n",
    "            \n",
    "        words_clean = df['content'].str.split()\n",
    "        unique_words_clean = set(word for word_list in words_clean for word in word_list)\n",
    "\n",
    "        num_unique_words_clean = len(unique_words_clean)\n",
    "        print(\"Number of unique words after cleaning\", num_unique_words_clean) \n",
    "        print(\"How many percent unique words were removed \", 1-num_unique_words_clean/num_unique_words_before) \n",
    "\n",
    "\n",
    "        print(\"Tokenizing and removing stopwords...\")\n",
    "        stop_words = set(stopwords.words('english'))\n",
    "        for index, row in df.iterrows():    \n",
    "            df.at[index,'content'] = nltk.word_tokenize(row['content'])\n",
    "            \n",
    "            filtered_sentence = []\n",
    "            for w in df.at[index,'content']:\n",
    "                if w not in stop_words:\n",
    "                    filtered_sentence.append(w)\n",
    "            \n",
    "            df.at[index,'content'] = filtered_sentence\n",
    "            \n",
    "        # Unique words and num after stop\n",
    "        words = set(word for content in df['content'] for word in content)\n",
    "\n",
    "        # get the set of unique words\n",
    "        unique_words_stop = set(words)\n",
    "\n",
    "        num_unique_words_stop = len(unique_words_stop)\n",
    "        print(\"Number of unique words after removing stopwords: \", num_unique_words_stop)\n",
    "        print(\"How many percent were removed: \", 1-num_unique_words_stop/num_unique_words_clean)\n",
    "\n",
    "        print(\"Stemming\")\n",
    "        snowball = SnowballStemmer(language='english')\n",
    "        for index, row in df.iterrows():   \n",
    "            stemmed = []\n",
    "            for word in df.at[index,'content']:\n",
    "                stemmed.append(snowball.stem(word))\n",
    "            df.at[index,'content'] = stemmed\n",
    "\n",
    "        # concatenate all the lists into a single list of words\n",
    "        words = [word for content in df['content'] for word in content]\n",
    "        # get the set of unique words\n",
    "        unique_words_stem = set(words)\n",
    "        # get the number of unique words\n",
    "\n",
    "        num_unique_words_stem = len(unique_words_stem)\n",
    "        print(\"Number of unique words after stemming: \", num_unique_words_stem)\n",
    "        print(\"How many percent were removed: \", 1-num_unique_words_stem/num_unique_words_stop)\n",
    "\n",
    "\n",
    "        print(\"Done...\")\n",
    "        return df, unique_words_before, unique_words_clean, unique_words_stop, unique_words_stem \n",
    "        \n",
    " \"\"\""
   ]
  },
  {
   "attachments": {},
   "cell_type": "markdown",
   "id": "4df6b0e5",
   "metadata": {},
   "source": [
    "### "
   ]
  },
  {
   "cell_type": "code",
   "execution_count": 717,
   "id": "b60709c8",
   "metadata": {},
   "outputs": [
    {
     "data": {
      "text/plain": [
       "\" # Save original data to CSV\\nfirst_chunk.to_csv('original_data.csv', index=False)\\n\\n# Clean the data\\ncleaned_df = clean_df(first_chunk)\\n\\n# Save cleaned data to CSV\\ncleaned_df.to_csv('cleaned_data.csv', index=False) \""
      ]
     },
     "execution_count": 717,
     "metadata": {},
     "output_type": "execute_result"
    }
   ],
   "source": [
    "\"\"\" # Save original data to CSV\n",
    "first_chunk.to_csv('original_data.csv', index=False)\n",
    "\n",
    "# Clean the data\n",
    "cleaned_df = clean_df(first_chunk)\n",
    "\n",
    "# Save cleaned data to CSV\n",
    "cleaned_df.to_csv('cleaned_data.csv', index=False) \"\"\""
   ]
  },
  {
   "cell_type": "code",
   "execution_count": 718,
   "id": "9bf18b56",
   "metadata": {},
   "outputs": [
    {
     "name": "stderr",
     "output_type": "stream",
     "text": [
      "[nltk_data] Downloading package stopwords to\n",
      "[nltk_data]     C:\\Users\\Baxe\\AppData\\Roaming\\nltk_data...\n",
      "[nltk_data]   Package stopwords is already up-to-date!\n"
     ]
    },
    {
     "ename": "ValueError",
     "evalue": "too many values to unpack (expected 3)",
     "output_type": "error",
     "traceback": [
      "\u001b[1;31m---------------------------------------------------------------------------\u001b[0m",
      "\u001b[1;31mValueError\u001b[0m                                Traceback (most recent call last)",
      "Cell \u001b[1;32mIn[718], line 1\u001b[0m\n\u001b[1;32m----> 1\u001b[0m df, unique_words_before, unique_words_stem \u001b[39m=\u001b[39m clean_article_texts(article_texts)\n",
      "\u001b[1;31mValueError\u001b[0m: too many values to unpack (expected 3)"
     ]
    }
   ],
   "source": [
    "df, unique_words_before, unique_words_stem = clean_article_texts(article_texts)"
   ]
  },
  {
   "cell_type": "code",
   "execution_count": null,
   "id": "3e5099cc",
   "metadata": {},
   "outputs": [
    {
     "name": "stdout",
     "output_type": "stream",
     "text": [
      "Getting num words...\n",
      "0                                                                          [Life, is, an, illusion,, at, least, on, a, quantum, level,, in, a, theory, which, has, recently, been, confirmed, by, a, set, of, researchers., They, finally, have, the, means, to, test, John, Wheeler’s, delayed-choice, theory, and, concluded, that, the, physicist, was, right., In, 1978,, Mr, Wheeler’s, proposed, experiment, involved, a, moving, object, that, was, given, the, choice, to, act, like, a, wave, or, a, particle, –, the, former, acting, as, a, vibration, with, a, frequency, that, can, distinguish, it, from, other, waves, and, the, latter, having, no, frequency, that, you, can, determine, its, position, in, space,, unlike, a, wave, –, and, ...]\n",
      "1                                                                                                                                                                                                                                                                                                                                        [Unfortunately,, he, hasn’t, yet, attacked, her, for, Islamic, terrorism-connections,, but, we, know, he, will., Below, are, several, links, that, explain, in, detail, why, having, Huma, Abedin, anywhere, near, the, White, House, would, be, like, inviting, in, the, terrorism-linked, Muslim, Brotherhood,, which, has, been, banned, in, Egypt, and, the, UAE., BNI, Readers,, please, forward, the, damning, […]]\n",
      "2                                                                                                                                                                                                                                                                                                                                                        [The, Los, Angeles, Police, Department, has, been, denied, $3, million, in, federal, aid, for, law, enforcement., While, there, is, no, official, announcement, as, to, why,, it, is, more, than, likely, that, it, has, everything, to, do, with, LA’s, “sanctuary, city”, status, for, harboring, illegal, aliens., Donald, Trump, and, Attorney, General, Jeff, Sessions, have, repeatedly, said, […]]\n",
      "3       [The, White, House, has, decided, to, quietly, withdraw, from, all, its, ties, with, the, Ramallah-based, Palestinian, Authority, and, Mahmoud, Abbas., Debka, (h/t, Marvin, W), DEBKAfile’s, exclusive, sources, report, that, the, Trump, administration, has, resolved, to, scrap, all, ties, with, the, Palestinian, leadership, in, retaliation, for, its, campaign, against, US, President, Donald, Trump, and, his, Jerusalem, policy., Several, warnings, to, Mahmoud, Abbas, (aka, Abu, Mazen), of, what, was, in, store, if, he, did, not, desist, from, castigating, the, US, president, fell, on, death, ears., Last, week,, two, Arab, crown, princes,, Saudi, Muhammed, bin, Salman, and, UAE, Sheikh, Muhammed, bin, Zayed,, summoned, ...]\n",
      "4                                                                                                                                                                                                                                                                                                                                                                                                                                                                                                       [“The, time, has, come, to, cut, off, the, tongues, of, those, who, support, peace, and, those, who, mourn, it.”, (Can’t, disagree, there,, Arab, Muslims, occupying, Israel, will, never, live, in, peace, with, the, native, population, –, the, Jews).]\n",
      "                                                                                                                                                                                                                                                                                                                                                                                   ...                                                                                                                                                                                                                                                                                                                                                                            \n",
      "9995      [A, Christmas, opportunity, for, unity, Headline:, Bitcoin, &, Blockchain, Searches, Exceed, Trump!, Blockchain, Stocks, Are, Next!, Political, tensions, at, home, and, abroad, sometimes, cause, us, to, forget, that, as, human, beings, —, no, matter, our, backgrounds,, beliefs, or, ambitions, —, we, are, all, in, this, together., Bitter, partisan, bickering, over, domestic, policy, has, the, potential, to, ruin, families, and, friendships, and, make, us, hate, complete, strangers., And, propagandized, reports, from, abroad, can, lead, us, to, view, entire, populations, of, people, with, disdain., There, will, always, be, evil, in, the, world., No, amount, of, scientific, research, or, religious, study, will, ever, ...]\n",
      "9996                                                                 [Our, Christmas, gift, to, you, Headline:, Bitcoin, &, Blockchain, Searches, Exceed, Trump!, Blockchain, Stocks, Are, Next!, In, 2008,, I, decided, it, was, time, to, embrace, the, “new”, technology, and, create, a, web, presence, as, a, way, of, expanding, knowledge, beyond, the, 50,000, subscribers, of, my, printed, newsletter,, The, Bob, Livingston, Letter, ., We, went, live, with, the, site, on, June, 23,, 2008., In, the, beginning,, Personal, Liberty, —, or, Personal, Liberty, Digest, as, it, was, then, known, —, was, simply, a, place, to, reprint, content, from, the, monthly, letter., Within, a, couple, of, months,, some, of, my, friends, joined, me, ...]\n",
      "9997                                                 [Subscribe, to, Canada, Free, Press, for, FREE, The, nomination, of, Loretta, Lynch, to, the, position, of, Attorney, General, and, Civil, Asset, Forfeiture, A, Letter, to, the, Senate, The, nomination, of, Loretta, Lynch, to, the, position, of, Attorney, General, is, before, you., Although, her, intelligence,, experience,, and, poise, may, appear, to, make, her, a, superb, candidate,, it, is, clear, now, that, she, would, be, an, extremely, poor, –, even, dangerous, —, choice, due, to, her, strong, position, on, civil, asset, forfeiture., The, need, to, safeguard, civil, liberties, and, individual, rights, is, a, priority, for, all, Americans., Do, you, really, want, to, ...]\n",
      "9998                                                          [Obama, has, consistently, talked, about, how, he, is, for, “tax, reform”, all, during, his, presidency., But, clearly,, he, has, no, idea, what, that, even, means., True, tax, reform, is, a, mechanism, that, produces, a, cleaner, and, clearer, tax, code., A, great, example, of, this, was, the, 1986, IRC, reform,, where, Reagan, set, the, highest, rate, at, 28%, in, exchange, for, eliminating, massive, amounts, of, tax, shelters, and, gimmicks., Obama’s, cluelessness, on, the, topic, was, evident, during, the, State, of, the, Union,, where,, instead, of, the, simplification, that, Obama, likes, to, espouse,, we, got, a, myriad, of, proposals, that, will, further, ...]\n",
      "9999                     [The, Wall, Street, Journal, had, an, excellent, article, a, couple, weeks, ago, calling, out, the, egregious, prosecutorial, misconduct, of, New, York, Attorney, General, Eric, Schneiderman., In, this, farce, of, a, case,, Schneiderman, is, hell, bent, on, going, after, Hank, Greenberg, (formerly, with, AIG), in, an, attempt, to, discredit, his, name, in, a, state, civil, lawsuit., For, several, years,, and, as, recently, as, January,, the, federal, government, continued, to, claim, that, the, notes, and, evidence, collected, during, the, first, case, should, be, kept, under, seal., It, was, only, recently,, under, pressure,, that, the, prosecutors, relented, and, provided, that, notes, and, memos, ...]\n",
      "Name: content, Length: 10000, dtype: object\n",
      "Number unique words before cleaning:  302318\n",
      "Cleaning...\n",
      "Number of unique words after cleaning 114520\n",
      "How many percent unique words were removed  0.621193577623562\n",
      "Tokenizing and removing stopwords...\n",
      "Number of unique words after removing stopwords:  114108\n",
      "How many percent were removed:  0.0035976248690184898\n",
      "Stemming\n",
      "Number of unique words after stemming:  84001\n",
      "How many percent were removed:  0.263846531356259\n",
      "Done...\n"
     ]
    }
   ],
   "source": [
    "\"\"\" df, unique_words_before, unique_words_clean, unique_words_stop, unique_words_stem = clean_df(first_chunk)\n",
    "unique_words = unique_words_stem \"\"\"\n"
   ]
  },
  {
   "cell_type": "code",
   "execution_count": null,
   "id": "8ef1080e",
   "metadata": {},
   "outputs": [
    {
     "name": "stdout",
     "output_type": "stream",
     "text": [
      "Counting number of urls, dates and num, and fake news and trump\n",
      "Num urls:  6148\n",
      "Num num:  96823\n",
      "Num trump:  15289\n",
      "Num fake:  3663\n",
      "Num notfake:  6337\n"
     ]
    }
   ],
   "source": [
    "#Part 1 - Task 2\n",
    "print(\"Counting number of urls, dates and num, and fake news and trump\")\n",
    "url = 0\n",
    "num = 0\n",
    "trump=0\n",
    "fakenews = 0\n",
    "notfake = 0\n",
    "\n",
    "for index, row in df.iterrows():\n",
    "    for word in df.at[index,'content']:\n",
    "        #print(word)\n",
    "        if word == 'url':\n",
    "            url = url+1\n",
    "        if word == 'num':\n",
    "            num = num+1\n",
    "        if word == 'trump':\n",
    "            trump = trump+1\n",
    "    if df.at[index,'type'] == 'fake':\n",
    "        fakenews = fakenews+1\n",
    "    else:\n",
    "        notfake = notfake+1\n",
    "print(\"Num urls: \", url)\n",
    "print(\"Num num: \", num)\n",
    "print(\"Num trump: \", trump)\n",
    "print(\"Num fake: \", fakenews)\n",
    "print(\"Num notfake: \", notfake)"
   ]
  },
  {
   "attachments": {},
   "cell_type": "markdown",
   "id": "cc0b20d7",
   "metadata": {},
   "source": [
    "Visualization of the key properties of the dataset"
   ]
  },
  {
   "cell_type": "code",
   "execution_count": null,
   "id": "eb25bb25",
   "metadata": {},
   "outputs": [
    {
     "data": {
      "image/png": "[encoded data removed]",
      "text/plain": [
       "<Figure size 1000x500 with 1 Axes>"
      ]
     },
     "metadata": {},
     "output_type": "display_data"
    }
   ],
   "source": [
    "# Plotting the bar chart \n",
    "data = {'Before cleaning': len(unique_words_before), 'After cleaning': len(unique_words_clean), 'After stopword removal': len(unique_words_stop), 'After stemming': len(unique_words_stem)}\n",
    "dataset = list(data.keys())\n",
    "values = list(data.values())\n",
    "bar(dataset, values, color = 'maroon', width = 0.5)\n",
    "plt.xlabel('No. of unique words')\n",
    "plt.ylabel('Number of words')\n",
    "plt.title('Number of unique words after each processing step')\n",
    "plt.rcParams[\"figure.figsize\"] = [10.0, 5.0]\n",
    "font = {'size' : 14}\n",
    "plt.rc('font', **font)\n",
    "plt.show()"
   ]
  },
  {
   "attachments": {},
   "cell_type": "markdown",
   "id": "e22729e1",
   "metadata": {},
   "source": [
    "##### This code splits a DataFrame df into training, validation, and testing sets, with a 80:10:10 ratio. The X variable contains the content of the articles, while the y variable contains the type of the articles (reliable/fake)."
   ]
  },
  {
   "cell_type": "code",
   "execution_count": null,
   "id": "b09fd9d1",
   "metadata": {},
   "outputs": [],
   "source": [
    "X, y = df.content, df['type']\n",
    "\n",
    "X_train, X_temp, y_train, y_temp = train_test_split(X, y, test_size = 0.2, random_state = 0)\n",
    "X_test, X_val, y_test, y_val = train_test_split(X_temp, y_temp, test_size = 0.5, random_state = 0)\n"
   ]
  },
  {
   "attachments": {},
   "cell_type": "markdown",
   "id": "9b00872a",
   "metadata": {},
   "source": [
    "#### make_bin function to convert categorical data into binary labels\n",
    "##### make_bin is a function that takes in a list of categorical data and converts it into a list of binary labels. The function iterates through the input list and assigns a binary label of 0 to each non-'fake' element and a label of 1 to each 'fake' element. The resulting binary labels are returned as a list, which can be used as target values for machine learning algorithms."
   ]
  },
  {
   "cell_type": "code",
   "execution_count": null,
   "id": "813dba15",
   "metadata": {},
   "outputs": [],
   "source": [
    "def make_bin(to_bin):\n",
    "    to_bin = np.asarray(to_bin)\n",
    "    reliable = 0\n",
    "    fake = 0\n",
    "    bin_list = []\n",
    "    for i in range(len(to_bin)):\n",
    "        if to_bin[i] == \"nan\":\n",
    "            print(\"nan\")\n",
    "        if to_bin[i] == \"Na\":\n",
    "            print(\"Na\")\n",
    "        if to_bin[i] != 'fake' and to_bin[i] != 'satire' and to_bin[i] != 'conspiracy' and to_bin[i] != 'junksci' and to_bin[i] != 'hate' and to_bin[i] != 'clickbait' and to_bin[i] != 'unreliable' and to_bin[i] != 'rumor':\n",
    "            bin_list.append(0)\n",
    "            reliable = reliable +1\n",
    "        else:\n",
    "            bin_list.append(1)\n",
    "            fake = fake+1\n",
    "        #print(to_bin[i])\n",
    "    return bin_list, fake, reliable"
   ]
  },
  {
   "cell_type": "code",
   "execution_count": null,
   "id": "e2e8bbeb",
   "metadata": {},
   "outputs": [],
   "source": [
    "y_train_bin, LabelFa, LabelRe  = make_bin(y_train)\n",
    "y_val_bin, no1, no2 = make_bin(y_val)\n",
    "y_test_bin, no3, no4 = make_bin(y_test)\n",
    "\n"
   ]
  },
  {
   "cell_type": "code",
   "execution_count": null,
   "id": "f58a1cfc",
   "metadata": {},
   "outputs": [
    {
     "data": {
      "image/png": "[encoded data removed]",
      "text/plain": [
       "<Figure size 1000x500 with 1 Axes>"
      ]
     },
     "metadata": {},
     "output_type": "display_data"
    }
   ],
   "source": [
    "# Bar chart showing number of fake labels and number of reliable\n",
    "data = {'Number of articles labeled fake': LabelFa, 'Number of articles labeled reliable': LabelRe }\n",
    "labels = list(data.keys())\n",
    "values = list(data.values())\n",
    "bar(labels, values, color = 'maroon', width= 0.5)\n",
    "plt.xlabel('No. of labels')\n",
    "plt.ylabel('Type of label')\n",
    "plt.title('Number of labels for reliable or fake')\n",
    "plt.rcParams[\"figure.figsize\"] = [10.0, 5.0]\n",
    "font = {'size' : 14}\n",
    "plt.rc('font', **font)\n",
    "plt.show()"
   ]
  },
  {
   "attachments": {},
   "cell_type": "markdown",
   "id": "c33fdac7",
   "metadata": {},
   "source": [
    "#### Liar dataset"
   ]
  },
  {
   "cell_type": "code",
   "execution_count": null,
   "id": "8ddaa9b2",
   "metadata": {},
   "outputs": [],
   "source": [
    "y_val_liar, no5, no6 = make_bin(LiarValLables)"
   ]
  },
  {
   "attachments": {},
   "cell_type": "markdown",
   "id": "039bb55e",
   "metadata": {},
   "source": [
    "#### X_vectoriser function to transform text data into a sparse matrix representation\n",
    "##### X_vectoriser is a function that takes in a list of text data as input, concatenates the words in each string, and transforms the resulting text data into a sparse matrix representation using the CountVectorizer from scikit-learn. The resulting matrix can be used as input to machine learning algorithms."
   ]
  },
  {
   "cell_type": "code",
   "execution_count": null,
   "id": "80bda1a5",
   "metadata": {},
   "outputs": [],
   "source": [
    "def X_vectoriser(vectee):\n",
    "    vectee = [' '.join(words) for words in vectee]\n",
    "    vectorizer = CountVectorizer(vocabulary=unique_words)\n",
    "    vectee = vectorizer.fit_transform(vectee)\n",
    "    return vectee"
   ]
  },
  {
   "cell_type": "code",
   "execution_count": null,
   "id": "227baf4e",
   "metadata": {},
   "outputs": [
    {
     "name": "stderr",
     "output_type": "stream",
     "text": [
      "c:\\Users\\Baxe\\AppData\\Local\\Programs\\Python\\Python39\\lib\\site-packages\\sklearn\\feature_extraction\\text.py:1380: UserWarning: Upper case characters found in vocabulary while 'lowercase' is True. These entries will not be matched with any documents\n",
      "  warnings.warn(\n"
     ]
    }
   ],
   "source": [
    "X_train_vec = X_vectoriser(X_train)\n",
    "X_val_vec = X_vectoriser(X_val)\n",
    "X_test_vec = X_vectoriser(X_test)"
   ]
  },
  {
   "attachments": {},
   "cell_type": "markdown",
   "id": "5d98d0a4",
   "metadata": {},
   "source": [
    "#### liar dataset"
   ]
  },
  {
   "cell_type": "code",
   "execution_count": null,
   "id": "44abfdcb",
   "metadata": {},
   "outputs": [
    {
     "name": "stdout",
     "output_type": "stream",
     "text": [
      "Getting num words...\n"
     ]
    },
    {
     "ename": "TypeError",
     "evalue": "list indices must be integers or slices, not str",
     "output_type": "error",
     "traceback": [
      "\u001b[1;31m---------------------------------------------------------------------------\u001b[0m",
      "\u001b[1;31mTypeError\u001b[0m                                 Traceback (most recent call last)",
      "Cell \u001b[1;32mIn[685], line 1\u001b[0m\n\u001b[1;32m----> 1\u001b[0m X_val_liar, k1, k2,k3, UWC \u001b[39m=\u001b[39m clean_df(LiarValArticles)\n\u001b[0;32m      2\u001b[0m unique_words_liar \u001b[39m=\u001b[39m UWC\n",
      "Cell \u001b[1;32mIn[672], line 4\u001b[0m, in \u001b[0;36mclean_df\u001b[1;34m(df)\u001b[0m\n\u001b[0;32m      2\u001b[0m \u001b[39mdef\u001b[39;00m \u001b[39mclean_df\u001b[39m(df):\n\u001b[0;32m      3\u001b[0m     \u001b[39mprint\u001b[39m(\u001b[39m\"\u001b[39m\u001b[39mGetting num words...\u001b[39m\u001b[39m\"\u001b[39m)\n\u001b[1;32m----> 4\u001b[0m     words \u001b[39m=\u001b[39m df[\u001b[39m'\u001b[39;49m\u001b[39mcontent\u001b[39;49m\u001b[39m'\u001b[39;49m]\u001b[39m.\u001b[39mstr\u001b[39m.\u001b[39msplit()\n\u001b[0;32m      5\u001b[0m     \u001b[39mprint\u001b[39m(words)\n\u001b[0;32m      6\u001b[0m     unique_words_before \u001b[39m=\u001b[39m \u001b[39mset\u001b[39m(word \u001b[39mfor\u001b[39;00m word_list \u001b[39min\u001b[39;00m words \u001b[39mfor\u001b[39;00m word \u001b[39min\u001b[39;00m word_list)\n",
      "\u001b[1;31mTypeError\u001b[0m: list indices must be integers or slices, not str"
     ]
    }
   ],
   "source": [
    "X_val_liar, k1, k2,k3, UWC = clean_df(LiarValArticles)\n",
    "unique_words_liar = UWC"
   ]
  },
  {
   "cell_type": "code",
   "execution_count": null,
   "id": "eb397a36",
   "metadata": {},
   "outputs": [],
   "source": [
    "X_val_liar_Clean = X_vectoriser(X_val_liar)"
   ]
  },
  {
   "attachments": {},
   "cell_type": "markdown",
   "id": "eef597c9",
   "metadata": {},
   "source": [
    "### A simple logistic model:"
   ]
  },
  {
   "attachments": {},
   "cell_type": "markdown",
   "id": "c72243cc",
   "metadata": {},
   "source": [
    "#### Predicting on the FakeNewsCorpus dataset"
   ]
  },
  {
   "cell_type": "code",
   "execution_count": null,
   "id": "e5d92696",
   "metadata": {},
   "outputs": [
    {
     "name": "stdout",
     "output_type": "stream",
     "text": [
      "Accuracy of simple logistic regression:  0.915\n"
     ]
    }
   ],
   "source": [
    "simple_log_model = LogisticRegression(max_iter=100000)\n",
    "simple_log_model.fit(X_train_vec, y_train_bin)\n",
    "y_pred = simple_log_model.predict(X_val_vec)\n",
    "\n",
    "acc_simple_log = accuracy_score(y_val_bin, y_pred)\n",
    "print(\"Accuracy of simple logistic regression: \", acc_simple_log)\n"
   ]
  },
  {
   "attachments": {},
   "cell_type": "markdown",
   "id": "d5c37086",
   "metadata": {},
   "source": [
    "#### Predicting on the liar validation set: "
   ]
  },
  {
   "cell_type": "code",
   "execution_count": null,
   "id": "4c3f94cf",
   "metadata": {},
   "outputs": [
    {
     "name": "stdout",
     "output_type": "stream",
     "text": [
      "0.0\n"
     ]
    }
   ],
   "source": [
    "simple_log_model_liar = LogisticRegression(max_iter=100000)\n",
    "simple_log_model_liar.fit(X_train_vec, y_train_bin)\n",
    "y_pred = simple_log_model_liar.predict(X_val_liar_Clean)\n",
    "\n",
    "acc_simple_log = accuracy_score(y_val_liar, y_pred)\n",
    "print(accuracy_score(y_val_liar, y_pred))"
   ]
  },
  {
   "attachments": {},
   "cell_type": "markdown",
   "id": "ec1deb8c",
   "metadata": {},
   "source": [
    "### Alt nedenfor er rettet mod den komplicerede model"
   ]
  },
  {
   "attachments": {},
   "cell_type": "markdown",
   "id": "9a4200d6",
   "metadata": {},
   "source": [
    "#### Gaussion model: (kan ikke køre med lige så meget data som den logistiske)\n"
   ]
  },
  {
   "cell_type": "code",
   "execution_count": null,
   "id": "fd9e53e3",
   "metadata": {},
   "outputs": [
    {
     "name": "stdout",
     "output_type": "stream",
     "text": [
      "0.707\n"
     ]
    }
   ],
   "source": [
    "from sklearn.naive_bayes import GaussianNB\n",
    "from sklearn.metrics import accuracy_score\n",
    "from imblearn.under_sampling import RandomUnderSampler\n",
    "\n",
    "# create a RandomUnderSampler instance\n",
    "rus = RandomUnderSampler(random_state=0)\n",
    "\n",
    "# fit and transform the training data using RandomUnderSampler\n",
    "X_train_resampled, y_train_resampled = rus.fit_resample(X_train_vec.toarray(), y_train_bin)\n",
    "\n",
    "# train the model on the resampled data\n",
    "simple_nb_model = GaussianNB()\n",
    "simple_nb_model.fit(X_train_resampled, y_train_resampled)\n",
    "\n",
    "# make predictions on the validation data\n",
    "y_pred2 = simple_nb_model.predict(X_val_vec.toarray())\n",
    "\n",
    "# evaluate the accuracy of the model's predictions\n",
    "acc_gaus = accuracy_score(y_val_bin, y_pred2)\n",
    "print(accuracy_score(y_val_bin, y_pred2))\n"
   ]
  },
  {
   "attachments": {},
   "cell_type": "markdown",
   "id": "c2a57a7d",
   "metadata": {},
   "source": [
    "#### Logistisk model with confusion matrix and classification report:"
   ]
  },
  {
   "cell_type": "code",
   "execution_count": null,
   "id": "3b641b92",
   "metadata": {},
   "outputs": [
    {
     "name": "stdout",
     "output_type": "stream",
     "text": [
      "Accuracy for C=0.1: 0.907\n",
      "Best C: 0.1\n",
      "              precision    recall  f1-score   support\n",
      "\n",
      "           0       0.69      0.74      0.71       156\n",
      "           1       0.95      0.94      0.94       844\n",
      "\n",
      "    accuracy                           0.91      1000\n",
      "   macro avg       0.82      0.84      0.83      1000\n",
      "weighted avg       0.91      0.91      0.91      1000\n",
      "\n"
     ]
    },
    {
     "data": {
      "image/png": "[encoded data removed]",
      "text/plain": [
       "<Figure size 1000x500 with 2 Axes>"
      ]
     },
     "metadata": {},
     "output_type": "display_data"
    }
   ],
   "source": [
    "from sklearn.metrics import confusion_matrix, accuracy_score, classification_report\n",
    "import seaborn as sns\n",
    "\n",
    "Cs = [0.1]\n",
    "best_accuracy = 0\n",
    "best_c = 0\n",
    "best_y_pred = None\n",
    "\n",
    "for c in Cs:\n",
    "    simple_log_model = LogisticRegression(max_iter=100000, C=c, class_weight='balanced')\n",
    "    simple_log_model.fit(X_train_vec, y_train_bin)\n",
    "    y_pred = simple_log_model.predict(X_val_vec)\n",
    "    accuracy = accuracy_score(y_val_bin, y_pred)\n",
    "    print(f\"Accuracy for C={c}: {accuracy}\")\n",
    "    \n",
    "    if accuracy > best_accuracy:\n",
    "        best_accuracy = accuracy\n",
    "        best_c = c\n",
    "        best_y_pred = y_pred\n",
    "\n",
    "print(\"Best C:\", best_c)\n",
    "\n",
    "# generate class probabilities and select cutoff\n",
    "probas = simple_log_model.predict_proba(X_val_vec)\n",
    "cutoff = 0.5\n",
    "y_pred_cutoff = (probas[:,1] > cutoff).astype(int)\n",
    "\n",
    "# print classification report\n",
    "print(classification_report(y_val_bin, y_pred_cutoff))\n",
    "\n",
    "# calculate and plot confusion matrix in percentages\n",
    "conf_mat = confusion_matrix(y_val_bin, y_pred_cutoff, normalize='true')\n",
    "sns.heatmap(conf_mat, annot=True, cmap=\"YlGnBu\", xticklabels=['Reliable', 'Fake'], yticklabels=['Reliable', 'Fake'])\n",
    "plt.xlabel('Predicted label')\n",
    "plt.ylabel('True label')\n",
    "plt.title(f'Confusion Matrix (C={best_c}, cutoff={cutoff})')\n",
    "plt.show()\n"
   ]
  },
  {
   "cell_type": "code",
   "execution_count": null,
   "id": "0875ddee",
   "metadata": {},
   "outputs": [
    {
     "data": {
      "text/plain": [
       "<AxesSubplot: >"
      ]
     },
     "execution_count": 663,
     "metadata": {},
     "output_type": "execute_result"
    },
    {
     "data": {
      "image/png": "[encoded data removed]",
      "text/plain": [
       "<Figure size 1000x500 with 2 Axes>"
      ]
     },
     "metadata": {},
     "output_type": "display_data"
    }
   ],
   "source": [
    "# calculate and plot confusion matrix with absolute values\n",
    "conf_mat1 = confusion_matrix(y_val_bin, best_y_pred)\n",
    "sns.heatmap(conf_mat1, annot=True, cmap=\"YlGnBu\")"
   ]
  },
  {
   "attachments": {},
   "cell_type": "markdown",
   "id": "d7afe9e5",
   "metadata": {},
   "source": [
    "#### Simlpe logistic model, with author and domain"
   ]
  },
  {
   "cell_type": "code",
   "execution_count": null,
   "id": "07331086",
   "metadata": {},
   "outputs": [
    {
     "ename": "TypeError",
     "evalue": "'str' object is not callable",
     "output_type": "error",
     "traceback": [
      "\u001b[1;31m---------------------------------------------------------------------------\u001b[0m",
      "\u001b[1;31mTypeError\u001b[0m                                 Traceback (most recent call last)",
      "Cell \u001b[1;32mIn[664], line 4\u001b[0m\n\u001b[0;32m      1\u001b[0m \u001b[39mfor\u001b[39;00m index, row \u001b[39min\u001b[39;00m df\u001b[39m.\u001b[39miterrows():\n\u001b[0;32m      2\u001b[0m     \u001b[39m#print(\"df.at[index,'authors']\", df.at[index,'authors'])\u001b[39;00m\n\u001b[0;32m      3\u001b[0m     \u001b[39mif\u001b[39;00m df\u001b[39m.\u001b[39mat[index,\u001b[39m'\u001b[39m\u001b[39mauthors\u001b[39m\u001b[39m'\u001b[39m] \u001b[39m!=\u001b[39m \u001b[39m\"\u001b[39m\u001b[39mnan\u001b[39m\u001b[39m\"\u001b[39m:\n\u001b[1;32m----> 4\u001b[0m         split_str \u001b[39m=\u001b[39m \u001b[39mstr\u001b[39;49m(df\u001b[39m.\u001b[39;49mat[index,\u001b[39m'\u001b[39;49m\u001b[39mauthors\u001b[39;49m\u001b[39m'\u001b[39;49m])\u001b[39m.\u001b[39msplit(\u001b[39m\"\u001b[39m\u001b[39m, \u001b[39m\u001b[39m\"\u001b[39m)\n\u001b[0;32m      5\u001b[0m         \u001b[39mfor\u001b[39;00m word \u001b[39min\u001b[39;00m split_str:\n\u001b[0;32m      6\u001b[0m             author_str \u001b[39m=\u001b[39m \u001b[39m\"\u001b[39m\u001b[39mauthors: \u001b[39m\u001b[39m\"\u001b[39m \u001b[39m+\u001b[39m word\u001b[39m.\u001b[39mlower()\n",
      "\u001b[1;31mTypeError\u001b[0m: 'str' object is not callable"
     ]
    }
   ],
   "source": [
    "\n",
    "for index, row in df.iterrows():\n",
    "    #print(\"df.at[index,'authors']\", df.at[index,'authors'])\n",
    "    if df.at[index,'authors'] != \"nan\":\n",
    "        split_str = str(df.at[index,'authors']).split(\", \")\n",
    "        for word in split_str:\n",
    "            author_str = \"authors: \" + word.lower()\n",
    "            df.at[index,'content'].append(author_str)\n",
    "    if  df.at[index,'domain'] != \"nan\":\n",
    "        domain_str = \"domain: \" + str(df.at[index,'domain'])\n",
    "        df.at[index,'content'].append(domain_str.lower())\n",
    "    \n",
    "\n",
    "#print(df['content'][1])\n",
    "\n",
    "X_meta, y_meta = df.content, df['type']\n",
    "\n",
    "\n",
    "X_train_meta, X_temp_meta, y_train_meta, y_temp_meta = train_test_split(X_meta, y_meta, test_size = 0.2, random_state = 0)\n",
    "X_test_meta, X_val_meta, y_test_meta, y_val_meta = train_test_split(X_temp_meta, y_temp_meta, test_size = 0.5, random_state = 0)\n",
    "\n",
    "\n",
    "X_train_vec_meta = X_vectoriser(X_train_meta)\n",
    "X_val_vec_meta = X_vectoriser(X_val_meta)\n",
    "X_test_vec_meta = X_vectoriser(X_test_meta)\n",
    "\n",
    "y_train_bin_meta = make_bin(y_train_meta)\n",
    "y_val_bin_meta = make_bin(y_val_meta)\n",
    "y_test_bin_meta = make_bin(y_test_meta)\n",
    "\n",
    "\n",
    "\n"
   ]
  },
  {
   "cell_type": "code",
   "execution_count": null,
   "id": "b6b816d4",
   "metadata": {},
   "outputs": [
    {
     "name": "stdout",
     "output_type": "stream",
     "text": [
      "0.972\n"
     ]
    }
   ],
   "source": [
    "simple_log_model_meta = LogisticRegression(max_iter=100000)\n",
    "simple_log_model_meta.fit(X_train_vec_meta, y_train_bin_meta)\n",
    "y_pred_meta = simple_log_model_meta.predict(X_val_vec_meta)\n",
    "\n",
    "acc_simple_log_meta = accuracy_score(y_val_bin_meta, y_pred_meta)\n",
    "print(accuracy_score(y_val_bin_meta, y_pred_meta))"
   ]
  },
  {
   "cell_type": "code",
   "execution_count": null,
   "id": "96a9ce02",
   "metadata": {},
   "outputs": [
    {
     "name": "stdout",
     "output_type": "stream",
     "text": [
      "0.020000000000000018\n"
     ]
    }
   ],
   "source": [
    "#Comparison of acc bewteen simple log models\n",
    "\n",
    "acc_diff_logs = abs(acc_simple_log_meta - acc_simple_log)\n",
    "print(acc_diff_logs)"
   ]
  },
  {
   "cell_type": "code",
   "execution_count": null,
   "id": "744b3430",
   "metadata": {},
   "outputs": [
    {
     "name": "stdout",
     "output_type": "stream",
     "text": [
      "0.758\n"
     ]
    }
   ],
   "source": [
    "# create a RandomUnderSampler instance\n",
    "rus_meta = RandomUnderSampler(random_state=0)\n",
    "\n",
    "# fit and transform the training data using RandomUnderSampler\n",
    "X_train_resampled_meta, y_train_resampled_meta = rus_meta.fit_resample(X_train_vec_meta.toarray(), y_train_bin_meta)\n",
    "\n",
    "# train the model on the resampled data\n",
    "simple_nb_model_meta = GaussianNB()\n",
    "simple_nb_model_meta.fit(X_train_resampled_meta, y_train_resampled_meta)\n",
    "\n",
    "# make predictions on the validation data\n",
    "y_pred2_meta = simple_nb_model_meta.predict(X_val_vec_meta.toarray())\n",
    "\n",
    "# evaluate the accuracy of the model's predictions\n",
    "acc_gaus_meta = accuracy_score(y_val_bin_meta, y_pred2_meta)\n",
    "print(accuracy_score(y_val_bin_meta, y_pred2_meta))"
   ]
  },
  {
   "cell_type": "code",
   "execution_count": null,
   "id": "757b8e55",
   "metadata": {},
   "outputs": [
    {
     "name": "stdout",
     "output_type": "stream",
     "text": [
      "0.040000000000000036\n"
     ]
    }
   ],
   "source": [
    "#Comparison of acc between simple gauss models\n",
    "#Frst run randomstate=42: 0.038000000000000034\n",
    "#Second run, randomstate=0: 0.04\n",
    "\n",
    "acc_diff_gauss = abs(acc_gaus - acc_gaus_meta)\n",
    "print(acc_diff_gauss)"
   ]
  }
 ],
 "metadata": {
  "kernelspec": {
   "display_name": "base",
   "language": "python",
   "name": "python3"
  },
  "language_info": {
   "codemirror_mode": {
    "name": "ipython",
    "version": 3
   },
   "file_extension": ".py",
   "mimetype": "text/x-python",
   "name": "python",
   "nbconvert_exporter": "python",
   "pygments_lexer": "ipython3",
   "version": "3.9.11"
  },
  "vscode": {
   "interpreter": {
    "hash": "40d3a090f54c6569ab1632332b64b2c03c39dcf918b08424e98f38b5ae0af88f"
   }
  }
 },
 "nbformat": 4,
 "nbformat_minor": 5
}
